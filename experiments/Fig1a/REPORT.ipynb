{
 "cells": [
  {
   "cell_type": "markdown",
   "metadata": {},
   "source": [
    "# Imports and auxiliary functions for plotting"
   ]
  },
  {
   "cell_type": "code",
   "execution_count": 1,
   "metadata": {},
   "outputs": [],
   "source": [
    "import pandas as pd\n",
    "import numpy as np\n",
    "import io\n",
    "import re"
   ]
  },
  {
   "cell_type": "code",
   "execution_count": 2,
   "metadata": {},
   "outputs": [],
   "source": [
    "import matplotlib as mpl\n",
    "import matplotlib.pyplot as plt\n",
    "import matplotlib.cm as cm\n",
    "import matplotlib.patches as mpatches\n",
    "import seaborn as sns; sns.set(); sns.set(font_scale=1.0); sns.set_style(\"white\"); \n",
    "\n",
    "import matplotlib as mpl\n",
    "from matplotlib import pyplot as plt\n",
    "#%matplotlib inline\n",
    "\n",
    "def _reset_mpl_config(font_size = 17*1.5, cmbright=True):\n",
    "    mpl.rcParams.update(mpl.rcParamsDefault) #reset to defaults\n",
    "        \n",
    "    SMALL_SIZE = font_size-4\n",
    "    MEDIUM_SIZE = font_size\n",
    "    BIGGER_SIZE = font_size\n",
    "    \n",
    "    plt.rc('font', size=SMALL_SIZE)          # controls default text sizes\n",
    "    plt.rc('axes', titlesize=SMALL_SIZE)     # fontsize of the axes title\n",
    "    plt.rc('axes', labelsize=MEDIUM_SIZE)    # fontsize of the x and y labels\n",
    "    plt.rc('xtick', labelsize=SMALL_SIZE)    # fontsize of the tick labels\n",
    "    plt.rc('ytick', labelsize=SMALL_SIZE)    # fontsize of the tick labels\n",
    "    plt.rc('legend', fontsize=SMALL_SIZE)    # legend fontsize\n",
    "    plt.rc('figure', titlesize=BIGGER_SIZE)  # fontsize of the figure title\n",
    "\n",
    "    plt.rc('font',**{'family':'serif','serif':['Times'], \"weight\": \"normal\"})\n",
    "    plt.rc('text', usetex=True)\n",
    "    plt.rc('mathtext', fontset='stix')  #['dejavusans', 'dejavuserif', 'cm', 'stix', 'stixsans', 'custom']\n",
    "    \n",
    "    mpl.rcParams['text.latex.preamble'] = [\n",
    "            r'\\usepackage{mathtools}',\n",
    "            r'\\usepackage{amsmath}',\n",
    "            r'\\usepackage{amsfonts}', \n",
    "            r'\\usepackage{microtype}',    \n",
    "            r'\\usepackage{arydshln}',              \n",
    "    ] + ([r'\\usepackage{cmbright}'] if cmbright else [])\n",
    "\n",
    "def _create_fig(bottom=0.2, left=0.125, right=0.9, top=0.9):\n",
    "    fig = plt.figure(figsize=(6.4, 4.8), dpi=72)\n",
    "    fig.subplots_adjust(bottom=bottom, left=left, right=right, top=top) \n",
    "    \n",
    "    \n",
    "def start_plotting(cmbright=True, font_size=17*1.5, bottom=0.2, left=0.125, right=0.95, top=0.95):\n",
    "    _reset_mpl_config(cmbright=cmbright, font_size=font_size)\n",
    "    _create_fig(bottom=bottom, left=left, right=right, top=top)"
   ]
  },
  {
   "cell_type": "code",
   "execution_count": 3,
   "metadata": {},
   "outputs": [],
   "source": [
    "import warnings\n",
    "warnings.filterwarnings(\"ignore\")"
   ]
  },
  {
   "cell_type": "code",
   "execution_count": 4,
   "metadata": {},
   "outputs": [],
   "source": [
    "from matplotlib import pyplot as plt \n",
    "import numpy as np\n",
    "\n",
    "def running_mean(x, N=5):\n",
    "    x = list(x)\n",
    "    l = N//2    \n",
    "    return [np.mean(x[max(i-l,0): min(i+l+1, len(x))]) for i in range(len(x))]\n",
    "\n",
    "def errorfill(x, y, yerr, color=None, alpha_fill=0.2, ax=None, label=\"\", lw=2, ls=\"-\"):\n",
    "    ax = ax if ax is not None else plt.gca()\n",
    "    if color is None:\n",
    "        color = ax._get_lines.color_cycle.next()\n",
    "    if np.isscalar(yerr) or len(yerr) == len(y):\n",
    "        ymin = y - yerr\n",
    "        ymax = y + yerr\n",
    "    elif len(yerr) == 2:\n",
    "        ymin, ymax = yerr\n",
    "    ax.plot(x, running_mean(y), color=color, label=label, lw=lw, ls=ls)\n",
    "    ax.fill_between(x, running_mean(ymax), running_mean(ymin), color=color, alpha=alpha_fill, linewidth=0.0)\n",
    "    \n",
    "    \n",
    "def extract_mean_std(df, x, y):\n",
    "    df = df.sort_values(x)\n",
    "    return df.groupby(x).mean().index, df.groupby(x).mean()[y], df.groupby(x).std()[y]    "
   ]
  },
  {
   "cell_type": "code",
   "execution_count": 5,
   "metadata": {},
   "outputs": [],
   "source": [
    "def sm(x, N=7):\n",
    "    l = N//2    \n",
    "    return [np.mean(x[max(i-l,0): min(i+l+1, len(x))]) for i in range(len(x))]"
   ]
  },
  {
   "cell_type": "markdown",
   "metadata": {},
   "source": [
    "# Results loading and processing"
   ]
  },
  {
   "cell_type": "code",
   "execution_count": 6,
   "metadata": {},
   "outputs": [],
   "source": [
    "COLS = dict(enumerate(\"FILE, t, logu, SEED, epoch, elbo, training_rmse, training_qrisk, training_erisk, training_qgain, training_egain\".split(\", \")))"
   ]
  },
  {
   "cell_type": "code",
   "execution_count": 7,
   "metadata": {},
   "outputs": [],
   "source": [
    "def parse_method(v):\n",
    "    method = v.split(\"_\")[1]\n",
    "    if method==\"LCVIEM\":\n",
    "        method+=v.split(\"_\")[6]+v.split(\"_\")[7]\n",
    "    return method"
   ]
  },
  {
   "cell_type": "code",
   "execution_count": 8,
   "metadata": {},
   "outputs": [],
   "source": [
    "results_str = \"\\n\".join(l.replace(\":\", \",\") for l in open(\"RESULTS/RESULTS.csv\").readlines()) \n",
    "df = pd.read_csv( io.StringIO(results_str), header=None).rename(columns=COLS)"
   ]
  },
  {
   "cell_type": "code",
   "execution_count": 9,
   "metadata": {},
   "outputs": [],
   "source": [
    "dvi = df[df.logu==\"VI\"]\n",
    "dlcvi = df[df.logu==\"utility_term_linearized\"]"
   ]
  },
  {
   "cell_type": "code",
   "execution_count": 10,
   "metadata": {},
   "outputs": [],
   "source": [
    "XCOL = \"epoch\"\n",
    "COL = \"training_erisk\""
   ]
  },
  {
   "cell_type": "code",
   "execution_count": 11,
   "metadata": {},
   "outputs": [],
   "source": [
    "dvi = dvi[dvi.epoch==30000].groupby(\"SEED\").first().reset_index()\n",
    "seed2vi_value = dict(zip(dvi[\"SEED\"], dvi[COL]))\n",
    "\n",
    "def update(d):\n",
    "    d[COL] = [ (100* (seed2vi_value[seed]-v)/seed2vi_value[seed]) for v, seed in zip(d[COL], d[\"SEED\"])]\n",
    "    \n",
    "update(dlcvi)    "
   ]
  },
  {
   "cell_type": "markdown",
   "metadata": {},
   "source": [
    "# Plots"
   ]
  },
  {
   "cell_type": "code",
   "execution_count": 12,
   "metadata": {},
   "outputs": [
    {
     "data": {
      "image/png": "[encoded data removed]",
      "text/plain": [
       "<Figure size 460.8x345.6 with 1 Axes>"
      ]
     },
     "metadata": {},
     "output_type": "display_data"
    }
   ],
   "source": [
    "start_plotting(cmbright=False, font_size=17*1.5, left=0.15)\n",
    "x,y,yerr = extract_mean_std(dlcvi, XCOL, COL)\n",
    "errorfill(x,y,yerr, color=\"salmon\", ls=\"-\", label=\"linearized with M$_{90}$\")\n",
    "\n",
    "    \n",
    "plt.ylim(-2,3)\n",
    "plt.axhline(0, color=\"lightgray\", ls=\"--\", lw=1)\n",
    "plt.xlim(0,21000)\n",
    "plt.legend(loc=2, fontsize=18)\n",
    "plt.xlabel(\"Epoch\")\n",
    "plt.ylabel(\"Empirical Risk Reduction ($\\mathcal{I}$) [\\%]\", fontsize=21)\n",
    "plt.savefig(\"8schools_improvement_iterations.pdf\")\n",
    "plt.show()"
   ]
  }
 ],
 "metadata": {
  "kernelspec": {
   "display_name": "Python 3",
   "language": "python",
   "name": "python3"
  },
  "language_info": {
   "codemirror_mode": {
    "name": "ipython",
    "version": 3
   },
   "file_extension": ".py",
   "mimetype": "text/x-python",
   "name": "python",
   "nbconvert_exporter": "python",
   "pygments_lexer": "ipython3",
   "version": "3.6.8"
  }
 },
 "nbformat": 4,
 "nbformat_minor": 2
}
