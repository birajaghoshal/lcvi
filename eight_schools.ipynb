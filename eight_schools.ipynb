{
 "cells": [
  {
   "cell_type": "markdown",
   "metadata": {
    "colab_type": "text",
    "id": "JgBUQTtNZxTQ"
   },
   "source": [
    "#  The Eight Schools model illustration"
   ]
  },
  {
   "cell_type": "code",
   "execution_count": 1,
   "metadata": {
    "colab": {
     "base_uri": "https://localhost:8080/",
     "height": 89
    },
    "colab_type": "code",
    "id": "aY8BuBfPlZmA",
    "outputId": "7624ee4e-c8da-4d2e-9f67-93a35fafae36"
   },
   "outputs": [
    {
     "name": "stdout",
     "output_type": "stream",
     "text": [
      "Requirement already satisfied: torch in /home/local/anonymized/anaconda3/lib/python3.6/site-packages (1.0.0)\n",
      "Requirement already satisfied: pystan in /home/local/anonymized/anaconda3/lib/python3.6/site-packages (2.17.1.0)\n",
      "Requirement already satisfied: seaborn in /home/local/anonymized/anaconda3/lib/python3.6/site-packages (0.8.1)\n",
      "Requirement already satisfied: matplotlib in /home/local/anonymized/anaconda3/lib/python3.6/site-packages (2.1.2)\n",
      "Requirement already satisfied: pandas in /home/local/anonymized/anaconda3/lib/python3.6/site-packages (0.22.0)\n",
      "Requirement already satisfied: numpy in /home/local/anonymized/anaconda3/lib/python3.6/site-packages (1.14.2)\n",
      "Requirement already satisfied: Cython!=0.25.1,>=0.22 in /home/local/anonymized/anaconda3/lib/python3.6/site-packages (from pystan) (0.27.3)\n",
      "Requirement already satisfied: scipy in /home/local/anonymized/anaconda3/lib/python3.6/site-packages (from seaborn) (1.0.0)\n",
      "Requirement already satisfied: six>=1.10 in /home/local/anonymized/anaconda3/lib/python3.6/site-packages (from matplotlib) (1.11.0)\n",
      "Requirement already satisfied: python-dateutil>=2.1 in /home/local/anonymized/anaconda3/lib/python3.6/site-packages (from matplotlib) (2.6.1)\n",
      "Requirement already satisfied: pytz in /home/local/anonymized/anaconda3/lib/python3.6/site-packages (from matplotlib) (2017.3)\n",
      "Requirement already satisfied: cycler>=0.10 in /home/local/anonymized/anaconda3/lib/python3.6/site-packages (from matplotlib) (0.10.0)\n",
      "Requirement already satisfied: pyparsing!=2.0.4,!=2.1.2,!=2.1.6,>=2.0.1 in /home/local/anonymized/anaconda3/lib/python3.6/site-packages (from matplotlib) (2.2.0)\n",
      "\u001b[33mYou are using pip version 18.0, however version 18.1 is available.\n",
      "You should consider upgrading via the 'pip install --upgrade pip' command.\u001b[0m\n"
     ]
    }
   ],
   "source": [
    "!pip install torch pystan seaborn matplotlib pandas numpy"
   ]
  },
  {
   "cell_type": "code",
   "execution_count": 2,
   "metadata": {
    "colab": {},
    "colab_type": "code",
    "id": "pfdLuDrilZmU"
   },
   "outputs": [],
   "source": [
    "import torch\n",
    "from torch.nn.functional import softplus\n",
    "from torch.distributions import Normal, Cauchy"
   ]
  },
  {
   "cell_type": "code",
   "execution_count": 3,
   "metadata": {
    "colab": {
     "base_uri": "https://localhost:8080/",
     "height": 35
    },
    "colab_type": "code",
    "id": "1MRcKHS5mtWm",
    "outputId": "60f02dc6-c519-463b-f022-60e67bc78de0"
   },
   "outputs": [
    {
     "name": "stdout",
     "output_type": "stream",
     "text": [
      "Using CPU\n"
     ]
    }
   ],
   "source": [
    "if torch.cuda.is_available():\n",
    "    torch.set_default_tensor_type('torch.cuda.FloatTensor')\n",
    "    env = torch.cuda\n",
    "    device = torch.device('cuda')\n",
    "    print(\"Using GPU\")\n",
    "else:\n",
    "    torch.set_default_tensor_type('torch.FloatTensor')\n",
    "    env = torch\n",
    "    device = torch.device('cpu')\n",
    "    print(\"Using CPU\")"
   ]
  },
  {
   "cell_type": "code",
   "execution_count": 4,
   "metadata": {
    "colab": {},
    "colab_type": "code",
    "id": "HXMBibOLltMf"
   },
   "outputs": [],
   "source": [
    "import sys\n",
    "\n",
    "import numpy as np\n",
    "import random\n",
    "np.random.seed(seed=0)\n",
    "random.seed(0)\n",
    "\n",
    "import pandas as pd"
   ]
  },
  {
   "cell_type": "code",
   "execution_count": 5,
   "metadata": {},
   "outputs": [],
   "source": [
    "from aux import *\n",
    "from aux_plt import *\n",
    "%matplotlib inline\n",
    "import warnings\n",
    "warnings.filterwarnings(\"ignore\")"
   ]
  },
  {
   "cell_type": "code",
   "execution_count": 6,
   "metadata": {},
   "outputs": [],
   "source": [
    "from losses import *\n",
    "from log_utility import *"
   ]
  },
  {
   "cell_type": "markdown",
   "metadata": {
    "colab_type": "text",
    "id": "ATZFlT11kiAX"
   },
   "source": [
    "# Configuration"
   ]
  },
  {
   "cell_type": "code",
   "execution_count": 7,
   "metadata": {},
   "outputs": [],
   "source": [
    "# optimization general parmeters\n",
    "SEED = 123\n",
    "NITER  = 20000 # number of iterations - around 20k is advised\n",
    "LR = 0.1\n",
    "\n",
    "# number of samples used to approximate ELBO term\n",
    "NSAMPLES = 11\n",
    "\n",
    "# selected loss: tilted/squared\n",
    "LOSS = \"tilted\"\n",
    "TILTED_Q = 0.2 \n",
    "# loss-to-utility transformation (bigM: utility=M-loss / id: utility=-loss)\n",
    "UTIL =  \"bigM\"\n",
    "M = (10000.0 if UTIL.lower()==\"bigm\" else 1.0)\n",
    "\n",
    "# constructing an approximation to the utility-dependent term:\n",
    "UTILITY_TERM = \"naive\" # vi/naive/linearized/jensen\n",
    "# the utility-dependent term is multiplied by this value: \n",
    "#  should be 1/M for linearized and M for the others\n",
    "UTILITY_TERM_SCALE = (1.0 if \"linearized\" in UTILITY_TERM else M) #for linearized we use U~=-risk \n",
    "# how many samples of latent variables\n",
    "NSAMPLES_UTILITY_TERM_THETA = 123\n",
    "# how many samples of y for each latent variable\n",
    "NSAMPLES_UTILITY_TERM_Y = 11\n",
    "# update gradients of the utility term in every x iterations\n",
    "UTILITY_TERM_EVERY_NITER = 1\n",
    "\n",
    "# finding optimal h:\n",
    "#  analytical - use Bayes estimator / num - optimize numerically gain / \n",
    "#  num-util - optimize numerically a selected approximation to the utility-dependent term.\n",
    "FIND_H = \"analytical\"\n",
    "# choose an approximation to the utility-dependent term, by default == UTILITY_TERM\n",
    "H_UTILITY_AGGREGATOR = UTILITY_TERM\n",
    "# respectively, the number of theta and y samples used when optimizing for h\n",
    "H_NSAMPLES_UTILITY_TERM_THETA = NSAMPLES_UTILITY_TERM_THETA\n",
    "H_NSAMPLES_UTILITY_TERM_Y = NSAMPLES_UTILITY_TERM_Y\n",
    "\n",
    "# parameters of the numerical optimizer used to find the optimal h\n",
    "H_NUMERICAL_MAX_NITER = 10000\n",
    "H_NUMERICAL_MAX_NITER_TOL = 0.0001\n",
    "H_NUMERICAL_MAX_NITER_TOL_GOAL = -1\n",
    "H_NUMERICAL_LR =  0.01\n",
    "H_NUMERICAL_OPT_SCIPY = False\n",
    "H_NUMERICAL_START_FROM_PREVIOUS = False\n",
    "\n",
    "# how often to evaulate (=report losses and (optionally) gains)\n",
    "EVAL_NITER = 1000\n",
    "# should we skip the evaluation in terms of gains \n",
    "#  (obtained via numerical optimization) and just rely on risks\n",
    "EVAL_SKIP_GAIN = True\n",
    "\n",
    "# evaluation parameters (these numbers should be sufficently large \n",
    "# if we want to trust our evaluation):\n",
    "#  number of samples of latent variables\n",
    "EVAL_NSAMPLES_UTILITY_TERM_THETA = 1000\n",
    "#  number of samples of y for each latent variable\n",
    "EVAL_NSAMPLES_UTILITY_TERM_Y = 100\n",
    "# parameters of the numerical optimization w.r.t. h used in evaluation\n",
    "EVAL_MAX_NITER = 20000\n",
    "EVAL_SGD_PREC = 0.0001\n",
    "EVAL_UTIL = UTIL # loss-to-utility transformation used to evaluate gain   "
   ]
  },
  {
   "cell_type": "markdown",
   "metadata": {
    "colab_type": "text",
    "id": "WM6NA9OKHiFB"
   },
   "source": [
    "# Data"
   ]
  },
  {
   "cell_type": "code",
   "execution_count": 8,
   "metadata": {
    "colab": {},
    "colab_type": "code",
    "id": "mSHBsxMnHkG7"
   },
   "outputs": [],
   "source": [
    "schools_dat = {'J': 8,\n",
    "               'y': [28,  8, -3,  7, -1,  1, 18, 12],\n",
    "               'sigma': [15, 10, 16, 11,  9, 11, 10, 18]}"
   ]
  },
  {
   "cell_type": "markdown",
   "metadata": {
    "colab_type": "text",
    "id": "CnerSx46lZoB"
   },
   "source": [
    "# Model definition"
   ]
  },
  {
   "cell_type": "code",
   "execution_count": 9,
   "metadata": {
    "colab": {},
    "colab_type": "code",
    "id": "jwo2SG_-lZoG"
   },
   "outputs": [],
   "source": [
    "def jacobian_softplus(x):\n",
    "       return 1.0/(1.0 + torch.exp(-x))\n",
    "\n",
    "    \n",
    "def model_log_prob(data, mu, tau, theta):    \n",
    "    y = torch.tensor(data[\"y\"], dtype=torch.float32)\n",
    "    sigma = torch.tensor(data[\"sigma\"], dtype=torch.float32)\n",
    "    taup = softplus(tau)\n",
    "    \n",
    "    lik = Normal(theta, sigma)\n",
    "    prior_theta = Normal(mu, taup)\n",
    "    prior_mu = Normal(0.0, 5.0)\n",
    "    prior_tau = Cauchy(0.0, 5.0)  #half-Cauchy (=2*pdf of Cauchy)\n",
    "    \n",
    "    return lik.log_prob(y).sum() \\\n",
    "            + prior_theta.log_prob(theta).sum() \\\n",
    "            + prior_mu.log_prob(mu) \\\n",
    "            + torch.tensor(2.0, dtype=torch.float32).log()+prior_tau.log_prob(taup) \\\n",
    "            + torch.log(jacobian_softplus(tau))"
   ]
  },
  {
   "cell_type": "code",
   "execution_count": 10,
   "metadata": {
    "colab": {},
    "colab_type": "code",
    "id": "eyU0wL8jlZoU"
   },
   "outputs": [],
   "source": [
    "def sample_predictive_y0(data, q_theta, \n",
    "                        nsamples_theta=NSAMPLES_UTILITY_TERM_THETA, \n",
    "                         nsamples_y=NSAMPLES_UTILITY_TERM_Y):\n",
    "    \"\"\" Returns a tensor with samples     \n",
    "        (nsamples_y samples of y for each theta x \n",
    "         nsamples_theta samples of latent variables).\n",
    "    \"\"\"\n",
    "    sigma = torch.tensor(data[\"sigma\"], dtype=torch.float32)\n",
    "    \n",
    "    theta =  q_theta.rsample(torch.Size([nsamples_theta]))\n",
    "    ys = Normal(theta, sigma).rsample(torch.Size([nsamples_y]))    \n",
    "    return ys\n",
    "\n",
    "\n",
    "def sample_predictive_y(data, q_theta, \n",
    "                        nsamples_theta=NSAMPLES_UTILITY_TERM_THETA, \n",
    "                        nsamples_y=NSAMPLES_UTILITY_TERM_Y):\n",
    "    \"\"\" Returns a tensor with samples (nsamples_y x nsamples_theta).\n",
    "        Flattents the first two dimensions \n",
    "        (samples of y for different thetas) from sample_predictive_y0.\n",
    "    \"\"\"    \n",
    "    ys = sample_predictive_y0(data, q_theta, nsamples_theta, nsamples_y)\n",
    "    return flatten_first_two_dims(ys)"
   ]
  },
  {
   "cell_type": "markdown",
   "metadata": {
    "colab_type": "text",
    "id": "XNwqmrNAnkXm"
   },
   "source": [
    "# Configuring utility-dependent term and optimization w.r.t. h"
   ]
  },
  {
   "cell_type": "code",
   "execution_count": 11,
   "metadata": {},
   "outputs": [
    {
     "name": "stdout",
     "output_type": "stream",
     "text": [
      "[LossFactory] Configuration: TILTED_Q=0.2 LINEX_C=None\n",
      "<tilted> loss: tilted_loss_fixedq with (analytical) h: tilted_optimal_h_fixedq\n",
      "[UtilityFactory] Configuration: M=10000.0\n",
      "utility: ubigM\n",
      "h utility aggregator: utility_term_naive\n",
      "[HOptimizerFactory] Configuration: H_NSAMPLES_UTILITY_TERM_THETA=123 H_NSAMPLES_UTILITY_TERM_Y=11 H_NUMERICAL_MAX_NITER=10000 H_NUMERICAL_MAX_NITER_TOL=0.0001 H_NUMERICAL_MAX_NITER_TOL_GOAL=-1 H_NUMERICAL_LR=0.01 H_NUMERICAL_START_FROM_PREVIOUS=False sample_predictive_y0=sample_predictive_y0 sample_predictive_y_IS=None\n",
      "[HOptimizerFactory] Using PyTorch numerical optimization.\n",
      "h optimizer: optimize_h_analytically\n",
      "[UtilityDependentTermFactory] Configuration: UTILITY_TERM_SCALE=10000.0 H_OPTIMIZER=optimize_h_analytically UTILITY_TERM_MASK=torch.Size([8]) sample_predictive_y0=sample_predictive_y0 sample_predictive_y_IS=None\n",
      "utility-dependent term: utility_naive\n"
     ]
    }
   ],
   "source": [
    "# include all (training) data points in utility-dependent term\n",
    "utility_term_mask = torch.ones(schools_dat[\"J\"]).type(env.ByteTensor) \n",
    "\n",
    "loss, optimal_h = LossFactory(**globals()).create(LOSS)\n",
    "print2(\"<%s> loss: %s with (analytical) h: %s\" % (LOSS, loss.__name__, optimal_h.__name__))\n",
    "        \n",
    "u = UtilityFactory(**globals()).create(UTIL, loss)\n",
    "print2(\"utility: %s\" % u.__name__)\n",
    "        \n",
    "UTILITY_AGGREGATOR = UtilityAggregatorFactory().create(H_UTILITY_AGGREGATOR)\n",
    "print2(\"h utility aggregator: %s\" % UTILITY_AGGREGATOR.__name__)\n",
    "        \n",
    "H_OPTIMIZER =  HOptimizerFactory(**globals()).create(FIND_H, u=u, \n",
    "                                                     optimal_h=optimal_h, \n",
    "                                                     utility_aggregator=UTILITY_AGGREGATOR)\n",
    "print2(\"h optimizer: %s\" % H_OPTIMIZER.__name__)        \n",
    "        \n",
    "utility_term = UtilityDependentTermFactory(**globals()).create(UTILITY_TERM, u)\n",
    "print2(\"utility-dependent term: %s\" % utility_term.__name__)"
   ]
  },
  {
   "cell_type": "markdown",
   "metadata": {
    "colab_type": "text",
    "id": "sfo3KycRkJIX"
   },
   "source": [
    "# Evaluation"
   ]
  },
  {
   "cell_type": "markdown",
   "metadata": {},
   "source": [
    "To evaluate risks we rely on Bayes estimators whereas for gains we use numerical optimization."
   ]
  },
  {
   "cell_type": "code",
   "execution_count": 12,
   "metadata": {
    "colab": {},
    "colab_type": "code",
    "id": "Ni-zv20BlZoZ"
   },
   "outputs": [],
   "source": [
    "def data_loss(data, q_theta):\n",
    "    \"\"\"Empirical loss.\"\"\"\n",
    "    print(\" evaluating empirical risk (using Bayes estimator)\")            \n",
    "    y = torch.tensor(data[\"y\"], dtype=torch.float32)\n",
    "    y_samples = sample_predictive_y(data, q_theta, \n",
    "                                    EVAL_NSAMPLES_UTILITY_TERM_THETA, \n",
    "                                    EVAL_NSAMPLES_UTILITY_TERM_Y)\n",
    "    h = optimal_h(y_samples)    \n",
    "    \n",
    "    assert h.shape==y.shape\n",
    "    return loss(h, y).mean() \n",
    "\n",
    "\n",
    "def bayes_risk(data, q_theta):\n",
    "    \"\"\"Risk coming from data predictive posteriors.\"\"\"\n",
    "    print(\" evaluating risk (using Bayes estimator)\")        \n",
    "    y = torch.tensor(data[\"y\"], dtype=torch.float32)\n",
    "    y_samples = sample_predictive_y(data, q_theta, \n",
    "                                    EVAL_NSAMPLES_UTILITY_TERM_THETA, \n",
    "                                    EVAL_NSAMPLES_UTILITY_TERM_Y)\n",
    "    h = optimal_h(y_samples)    \n",
    "    \n",
    "    y_samples = sample_predictive_y(data, q_theta, \n",
    "                                    EVAL_NSAMPLES_UTILITY_TERM_THETA, \n",
    "                                    EVAL_NSAMPLES_UTILITY_TERM_Y)\n",
    "    assert h.shape==y_samples.shape[1: ]\n",
    "    return loss(h, y_samples).mean()    "
   ]
  },
  {
   "cell_type": "code",
   "execution_count": 13,
   "metadata": {},
   "outputs": [
    {
     "name": "stdout",
     "output_type": "stream",
     "text": [
      "[UtilityFactory] Configuration: M=10000.0\n",
      "Evaluation using utility: ubigM\n"
     ]
    }
   ],
   "source": [
    "evalu = UtilityFactory(M=M).create(EVAL_UTIL.lower(), loss)\n",
    "print2(\"Evaluation using utility: %s\" % evalu.__name__)\n",
    "\n",
    "def data_util(data, q_theta):\n",
    "    \"\"\"Empirical gain.\"\"\"\n",
    "    print(\" evaluating empirical gain (numerically)\")    \n",
    "    y = torch.tensor(data[\"y\"], dtype=torch.float32)\n",
    "    y_samples = sample_predictive_y(data, q_theta, \n",
    "                                    EVAL_NSAMPLES_UTILITY_TERM_THETA, \n",
    "                                    EVAL_NSAMPLES_UTILITY_TERM_Y)\n",
    "    h = optimal_h_numerically(y_samples, evalu, \n",
    "                              start=optimal_h(y_samples), \n",
    "                              max_niter=EVAL_MAX_NITER, tol=EVAL_SGD_PREC, \n",
    "                              tol_goal=-1, verbose=False, lr=0.01)\n",
    "    \n",
    "    assert h.shape==y.shape\n",
    "    return evalu(h, y).mean() \n",
    "\n",
    "\n",
    "def bayes_gain(data, q_theta):\n",
    "    \"\"\"Gain coming from data predictive posteriors.\"\"\"\n",
    "    print(\" evaluating gain (numerically)\")\n",
    "    y = torch.tensor(data[\"y\"], dtype=torch.float32)\n",
    "    y_samples = sample_predictive_y(data, q_theta, \n",
    "                                    EVAL_NSAMPLES_UTILITY_TERM_THETA, \n",
    "                                    EVAL_NSAMPLES_UTILITY_TERM_Y)\n",
    "    h = optimal_h_numerically(y_samples, evalu, \n",
    "                              start=optimal_h(y_samples), \n",
    "                              max_niter=EVAL_MAX_NITER, tol=EVAL_SGD_PREC, \n",
    "                              tol_goal=-1, verbose=False, lr=0.01)\n",
    "    \n",
    "    y_samples = sample_predictive_y(data, q_theta, \n",
    "                                    EVAL_NSAMPLES_UTILITY_TERM_THETA, \n",
    "                                    EVAL_NSAMPLES_UTILITY_TERM_Y)\n",
    "    assert h.shape==y_samples.shape[1: ]\n",
    "    return evalu(h, y_samples).mean() "
   ]
  },
  {
   "cell_type": "code",
   "execution_count": 14,
   "metadata": {},
   "outputs": [
    {
     "name": "stdout",
     "output_type": "stream",
     "text": [
      "REMARK: The evaluation in terms of gain and empirical gain will not be performed!\n"
     ]
    }
   ],
   "source": [
    "if EVAL_SKIP_GAIN:\n",
    "    print(\"REMARK: The evaluation in terms of gain and empirical gain will not be performed!\")\n",
    "    \n",
    "    def bayes_gain(*args, **kwargs):    \n",
    "        return torch.tensor(0.0)\n",
    "\n",
    "    def data_util(*args, **kwargs):\n",
    "        return torch.tensor(0.0)"
   ]
  },
  {
   "cell_type": "markdown",
   "metadata": {
    "colab_type": "text",
    "id": "9HJRH0qSlZpJ"
   },
   "source": [
    "# LCVI"
   ]
  },
  {
   "cell_type": "code",
   "execution_count": 15,
   "metadata": {
    "colab": {},
    "colab_type": "code",
    "id": "3d9WMlCJlZpW"
   },
   "outputs": [],
   "source": [
    "# intialization\n",
    "torch.manual_seed(SEED)\n",
    "np.random.seed(SEED)\n",
    "\n",
    "q_mu_loc = torch.randn((1), requires_grad=True)\n",
    "q_mu_scale = torch.ones((1), requires_grad=True)\n",
    "q_tau_loc = torch.randn((1), requires_grad=True) \n",
    "q_tau_scale = torch.tensor((1.0), requires_grad=True)\n",
    "q_theta_loc = torch.randn((schools_dat[\"J\"]), requires_grad=True)\n",
    "q_theta_scale = torch.ones((schools_dat[\"J\"]), requires_grad=True)"
   ]
  },
  {
   "cell_type": "code",
   "execution_count": 16,
   "metadata": {
    "colab": {},
    "colab_type": "code",
    "id": "mtKNHrUmlZpk"
   },
   "outputs": [],
   "source": [
    "optimizer = torch.optim.Adamax([q_mu_loc, q_mu_scale, q_tau_loc, q_tau_scale, \n",
    "                                q_theta_loc, q_theta_scale], lr=LR)"
   ]
  },
  {
   "cell_type": "code",
   "execution_count": 17,
   "metadata": {
    "colab": {},
    "colab_type": "code",
    "id": "mmSTQA_KT0AP"
   },
   "outputs": [
    {
     "name": "stdout",
     "output_type": "stream",
     "text": [
      "evaluating...\n",
      " evaluating risk (using Bayes estimator)\n",
      " evaluating empirical risk (using Bayes estimator)\n",
      "[0.1s][utility_naive][123][0] elbo: -4028.93; train rmse:173.8550  risk:3.5258 empirical:3.9425 \n",
      "                  gain:0.0000 empirical:0.0000\n",
      "evaluating...\n",
      " evaluating risk (using Bayes estimator)\n",
      " evaluating empirical risk (using Bayes estimator)\n",
      "[26.6s][utility_naive][123][1000] elbo: -38.21; train rmse:175.4590  risk:3.5070 empirical:3.9141 \n",
      "                  gain:0.0000 empirical:0.0000\n",
      "evaluating...\n",
      " evaluating risk (using Bayes estimator)\n",
      " evaluating empirical risk (using Bayes estimator)\n",
      "[50.3s][utility_naive][123][2000] elbo: -37.61; train rmse:174.4030  risk:3.5107 empirical:3.8995 \n",
      "                  gain:0.0000 empirical:0.0000\n",
      "evaluating...\n",
      " evaluating risk (using Bayes estimator)\n",
      " evaluating empirical risk (using Bayes estimator)\n",
      "[77.6s][utility_naive][123][3000] elbo: -35.99; train rmse:172.7653  risk:3.5135 empirical:3.8882 \n",
      "                  gain:0.0000 empirical:0.0000\n",
      "evaluating...\n",
      " evaluating risk (using Bayes estimator)\n",
      " evaluating empirical risk (using Bayes estimator)\n",
      "[106.5s][utility_naive][123][4000] elbo: -35.97; train rmse:168.3077  risk:3.5295 empirical:3.8533 \n",
      "                  gain:0.0000 empirical:0.0000\n",
      "evaluating...\n",
      " evaluating risk (using Bayes estimator)\n",
      " evaluating empirical risk (using Bayes estimator)\n",
      "[134.4s][utility_naive][123][5000] elbo: -35.32; train rmse:157.2950  risk:3.5320 empirical:3.7514 \n",
      "                  gain:0.0000 empirical:0.0000\n",
      "evaluating...\n",
      " evaluating risk (using Bayes estimator)\n",
      " evaluating empirical risk (using Bayes estimator)\n",
      "[163.3s][utility_naive][123][6000] elbo: -34.95; train rmse:139.7440  risk:3.5584 empirical:3.5616 \n",
      "                  gain:0.0000 empirical:0.0000\n",
      "evaluating...\n",
      " evaluating risk (using Bayes estimator)\n",
      " evaluating empirical risk (using Bayes estimator)\n",
      "[188.7s][utility_naive][123][7000] elbo: -34.06; train rmse:115.3366  risk:3.5676 empirical:3.2090 \n",
      "                  gain:0.0000 empirical:0.0000\n",
      "evaluating...\n",
      " evaluating risk (using Bayes estimator)\n",
      " evaluating empirical risk (using Bayes estimator)\n",
      "[215.4s][utility_naive][123][8000] elbo: -34.48; train rmse:104.5343  risk:3.5780 empirical:2.9998 \n",
      "                  gain:0.0000 empirical:0.0000\n",
      "evaluating...\n",
      " evaluating risk (using Bayes estimator)\n",
      " evaluating empirical risk (using Bayes estimator)\n",
      "[243.4s][utility_naive][123][9000] elbo: -34.98; train rmse:101.5780  risk:3.5786 empirical:2.9525 \n",
      "                  gain:0.0000 empirical:0.0000\n",
      "evaluating...\n",
      " evaluating risk (using Bayes estimator)\n",
      " evaluating empirical risk (using Bayes estimator)\n",
      "[274.1s][utility_naive][123][10000] elbo: -33.44; train rmse:102.5071  risk:3.5829 empirical:2.9349 \n",
      "                  gain:0.0000 empirical:0.0000\n",
      "evaluating...\n",
      " evaluating risk (using Bayes estimator)\n",
      " evaluating empirical risk (using Bayes estimator)\n",
      "[302.5s][utility_naive][123][11000] elbo: -34.45; train rmse:102.0032  risk:3.5780 empirical:2.9605 \n",
      "                  gain:0.0000 empirical:0.0000\n",
      "evaluating...\n",
      " evaluating risk (using Bayes estimator)\n",
      " evaluating empirical risk (using Bayes estimator)\n",
      "[329.3s][utility_naive][123][12000] elbo: -34.72; train rmse:100.6255  risk:3.5789 empirical:2.9403 \n",
      "                  gain:0.0000 empirical:0.0000\n",
      "evaluating...\n",
      " evaluating risk (using Bayes estimator)\n",
      " evaluating empirical risk (using Bayes estimator)\n",
      "[365.2s][utility_naive][123][13000] elbo: -33.97; train rmse:102.3897  risk:3.5844 empirical:2.9458 \n",
      "                  gain:0.0000 empirical:0.0000\n",
      "evaluating...\n",
      " evaluating risk (using Bayes estimator)\n",
      " evaluating empirical risk (using Bayes estimator)\n",
      "[397.0s][utility_naive][123][14000] elbo: -33.60; train rmse:101.2849  risk:3.5727 empirical:2.9481 \n",
      "                  gain:0.0000 empirical:0.0000\n",
      "evaluating...\n",
      " evaluating risk (using Bayes estimator)\n",
      " evaluating empirical risk (using Bayes estimator)\n",
      "[427.9s][utility_naive][123][15000] elbo: -33.75; train rmse:103.7198  risk:3.5732 empirical:2.9709 \n",
      "                  gain:0.0000 empirical:0.0000\n",
      "evaluating...\n",
      " evaluating risk (using Bayes estimator)\n",
      " evaluating empirical risk (using Bayes estimator)\n",
      "[456.8s][utility_naive][123][16000] elbo: -33.45; train rmse:102.2437  risk:3.5831 empirical:2.9560 \n",
      "                  gain:0.0000 empirical:0.0000\n",
      "evaluating...\n",
      " evaluating risk (using Bayes estimator)\n",
      " evaluating empirical risk (using Bayes estimator)\n",
      "[484.8s][utility_naive][123][17000] elbo: -34.31; train rmse:102.3983  risk:3.5791 empirical:2.9652 \n",
      "                  gain:0.0000 empirical:0.0000\n",
      "evaluating...\n",
      " evaluating risk (using Bayes estimator)\n",
      " evaluating empirical risk (using Bayes estimator)\n",
      "[512.2s][utility_naive][123][18000] elbo: -33.45; train rmse:102.2057  risk:3.5757 empirical:2.9446 \n",
      "                  gain:0.0000 empirical:0.0000\n",
      "evaluating...\n",
      " evaluating risk (using Bayes estimator)\n",
      " evaluating empirical risk (using Bayes estimator)\n",
      "[538.1s][utility_naive][123][19000] elbo: -34.09; train rmse:101.5321  risk:3.5832 empirical:2.9393 \n",
      "                  gain:0.0000 empirical:0.0000\n",
      "evaluating...\n",
      " evaluating risk (using Bayes estimator)\n",
      " evaluating empirical risk (using Bayes estimator)\n",
      "[569.0s][utility_naive][123][19999] elbo: -33.48; train rmse:101.0443  risk:3.5867 empirical:2.9472 \n",
      "                  gain:0.0000 empirical:0.0000\n"
     ]
    }
   ],
   "source": [
    "start = time.time()\n",
    "report = []\n",
    "trajectory_lcvi = {}\n",
    "for i in range(NITER):    \n",
    "\n",
    "    q_mu = Normal(q_mu_loc, softplus(q_mu_scale))    \n",
    "    q_tau = Normal(q_tau_loc, softplus(q_tau_scale))    \n",
    "    q_theta = Normal(q_theta_loc, softplus(q_theta_scale))    \n",
    "    \n",
    "    elbo = 0.0\n",
    "    for _ in range(NSAMPLES):\n",
    "        mu =  q_mu.rsample()               \n",
    "        tau =  q_tau.rsample()               \n",
    "        theta =  q_theta.rsample()               \n",
    "\n",
    "        elbo += model_log_prob(schools_dat, mu, tau, theta) \\\n",
    "                -q_mu.log_prob(mu).sum() -q_tau.log_prob(tau).sum() -q_theta.log_prob(theta).sum()\n",
    "    elbo = elbo/NSAMPLES    \n",
    "                             \n",
    "    optimizer.zero_grad()            \n",
    "    objective = -elbo -utility_term(schools_dat, q_theta)\n",
    "    objective.backward(retain_graph=False)\n",
    "    optimizer.step()\n",
    "    \n",
    "    if i%EVAL_NITER==0 or i==NITER-1: #report results\n",
    "        \n",
    "        #store trajectories of posteriors\n",
    "        trajectory_lcvi.setdefault(\"qmu_loc\",[]).append(tonumpy2(q_mu_loc)) \n",
    "        trajectory_lcvi.setdefault(\"qmu_scale\",[]).append(tonumpy2(softplus(q_mu_scale)))         \n",
    "        trajectory_lcvi.setdefault(\"qtau_loc\",[]).append(tonumpy2(q_tau_loc)) \n",
    "        trajectory_lcvi.setdefault(\"qtau_scale\",[]).append(tonumpy2(softplus(q_tau_scale))) \n",
    "        trajectory_lcvi.setdefault(\"qtheta_loc\",[]).append(tonumpy2(q_theta_loc)) \n",
    "        trajectory_lcvi.setdefault(\"qtheta_scale\",[]).append(tonumpy2(softplus(q_theta_scale)))         \n",
    "                \n",
    "        print(\"evaluating...\")\n",
    "        rmse = (tonumpy(q_theta_loc)-np.array(schools_dat['y']))**2\n",
    "        training_rmse = rmse.mean()\n",
    "        r = (time.time()-start, utility_term.__name__, SEED, i, elbo.item(), \n",
    "                 training_rmse, \n",
    "                 bayes_risk(schools_dat, q_theta).item(), \n",
    "                 data_loss(schools_dat, q_theta).item(),\n",
    "                 bayes_gain(schools_dat, q_theta).item(), \n",
    "                 data_util(schools_dat, q_theta).item(),\n",
    "                 q_tau_loc.item(), softplus(q_tau_scale).item(),\n",
    "                 q_mu_loc.item(), softplus(q_mu_scale).item() )\n",
    "        report.append(r)    \n",
    "        print2(\"\"\"[%.1fs][%s][%s][%s] elbo: %.2f; train rmse:%.4f  risk:%.4f empirical:%.4f \n",
    "                  gain:%.4f empirical:%.4f\"\"\" % (r[:10]))        "
   ]
  },
  {
   "cell_type": "code",
   "execution_count": 18,
   "metadata": {
    "colab": {},
    "colab_type": "code",
    "id": "GAJoCuzFub-8"
   },
   "outputs": [],
   "source": [
    "report_lcvi = report\n",
    "q_mu_lcvi = q_mu\n",
    "q_tau_lcvi = q_tau\n",
    "q_theta_lcvi = q_theta"
   ]
  },
  {
   "cell_type": "markdown",
   "metadata": {
    "colab_type": "text",
    "id": "Y-VoisUjlZol"
   },
   "source": [
    "# VI"
   ]
  },
  {
   "cell_type": "code",
   "execution_count": 19,
   "metadata": {
    "colab": {},
    "colab_type": "code",
    "id": "KFwu2fIjlZon"
   },
   "outputs": [],
   "source": [
    "# intialization\n",
    "torch.manual_seed(SEED)\n",
    "np.random.seed(SEED)\n",
    "\n",
    "q_mu_loc = torch.randn((1), requires_grad=True)\n",
    "q_mu_scale = torch.ones((1), requires_grad=True)\n",
    "q_tau_loc = torch.randn((1), requires_grad=True) \n",
    "q_tau_scale = torch.tensor((1.0), requires_grad=True)\n",
    "q_theta_loc = torch.randn((schools_dat[\"J\"]), requires_grad=True)\n",
    "q_theta_scale = torch.ones((schools_dat[\"J\"]), requires_grad=True)"
   ]
  },
  {
   "cell_type": "code",
   "execution_count": 20,
   "metadata": {
    "colab": {},
    "colab_type": "code",
    "id": "u4vMprFtayac"
   },
   "outputs": [],
   "source": [
    "optimizer = torch.optim.Adamax([q_mu_loc, q_mu_scale, q_tau_loc, q_tau_scale, \n",
    "                                q_theta_loc, q_theta_scale], lr=LR)"
   ]
  },
  {
   "cell_type": "code",
   "execution_count": 21,
   "metadata": {
    "colab": {},
    "colab_type": "code",
    "id": "qFeutJWplZou"
   },
   "outputs": [
    {
     "name": "stdout",
     "output_type": "stream",
     "text": [
      " evaluating risk (using Bayes estimator)\n",
      " evaluating empirical risk (using Bayes estimator)\n",
      "[0.0s][VI][123][0] elbo: -4028.93;  training rmse:173.8550  risk:3.5256 empirical:3.9395 \n",
      "                  gain:0.0000 empirical:0.0000\n",
      " evaluating risk (using Bayes estimator)\n",
      " evaluating empirical risk (using Bayes estimator)\n",
      "[26.7s][VI][123][1000] elbo: -45.29;  training rmse:174.9793  risk:3.5076 empirical:3.9132 \n",
      "                  gain:0.0000 empirical:0.0000\n",
      " evaluating risk (using Bayes estimator)\n",
      " evaluating empirical risk (using Bayes estimator)\n",
      "[52.5s][VI][123][2000] elbo: -37.40;  training rmse:174.1381  risk:3.5116 empirical:3.8989 \n",
      "                  gain:0.0000 empirical:0.0000\n",
      " evaluating risk (using Bayes estimator)\n",
      " evaluating empirical risk (using Bayes estimator)\n",
      "[76.4s][VI][123][3000] elbo: -36.43;  training rmse:172.1100  risk:3.5158 empirical:3.8850 \n",
      "                  gain:0.0000 empirical:0.0000\n",
      " evaluating risk (using Bayes estimator)\n",
      " evaluating empirical risk (using Bayes estimator)\n",
      "[102.8s][VI][123][4000] elbo: -35.37;  training rmse:167.8419  risk:3.5258 empirical:3.8436 \n",
      "                  gain:0.0000 empirical:0.0000\n",
      " evaluating risk (using Bayes estimator)\n",
      " evaluating empirical risk (using Bayes estimator)\n",
      "[128.8s][VI][123][5000] elbo: -35.72;  training rmse:157.1171  risk:3.5516 empirical:3.7570 \n",
      "                  gain:0.0000 empirical:0.0000\n",
      " evaluating risk (using Bayes estimator)\n",
      " evaluating empirical risk (using Bayes estimator)\n",
      "[153.7s][VI][123][6000] elbo: -34.53;  training rmse:136.2832  risk:3.5867 empirical:3.5585 \n",
      "                  gain:0.0000 empirical:0.0000\n",
      " evaluating risk (using Bayes estimator)\n",
      " evaluating empirical risk (using Bayes estimator)\n",
      "[178.5s][VI][123][7000] elbo: -33.95;  training rmse:109.5777  risk:3.6572 empirical:3.2495 \n",
      "                  gain:0.0000 empirical:0.0000\n",
      " evaluating risk (using Bayes estimator)\n",
      " evaluating empirical risk (using Bayes estimator)\n",
      "[204.5s][VI][123][8000] elbo: -33.40;  training rmse:93.3036  risk:3.7068 empirical:3.0481 \n",
      "                  gain:0.0000 empirical:0.0000\n",
      " evaluating risk (using Bayes estimator)\n",
      " evaluating empirical risk (using Bayes estimator)\n",
      "[231.7s][VI][123][9000] elbo: -33.44;  training rmse:86.6622  risk:3.7453 empirical:3.0315 \n",
      "                  gain:0.0000 empirical:0.0000\n",
      " evaluating risk (using Bayes estimator)\n",
      " evaluating empirical risk (using Bayes estimator)\n",
      "[262.8s][VI][123][10000] elbo: -33.58;  training rmse:85.6084  risk:3.7516 empirical:3.0542 \n",
      "                  gain:0.0000 empirical:0.0000\n",
      " evaluating risk (using Bayes estimator)\n",
      " evaluating empirical risk (using Bayes estimator)\n",
      "[293.8s][VI][123][11000] elbo: -32.60;  training rmse:83.8511  risk:3.7812 empirical:3.0361 \n",
      "                  gain:0.0000 empirical:0.0000\n",
      " evaluating risk (using Bayes estimator)\n",
      " evaluating empirical risk (using Bayes estimator)\n",
      "[320.2s][VI][123][12000] elbo: -32.94;  training rmse:85.4155  risk:3.7689 empirical:3.0416 \n",
      "                  gain:0.0000 empirical:0.0000\n",
      " evaluating risk (using Bayes estimator)\n",
      " evaluating empirical risk (using Bayes estimator)\n",
      "[348.1s][VI][123][13000] elbo: -33.66;  training rmse:85.0667  risk:3.7757 empirical:3.0494 \n",
      "                  gain:0.0000 empirical:0.0000\n",
      " evaluating risk (using Bayes estimator)\n",
      " evaluating empirical risk (using Bayes estimator)\n",
      "[376.9s][VI][123][14000] elbo: -33.74;  training rmse:84.3310  risk:3.7823 empirical:3.0670 \n",
      "                  gain:0.0000 empirical:0.0000\n",
      " evaluating risk (using Bayes estimator)\n",
      " evaluating empirical risk (using Bayes estimator)\n",
      "[403.0s][VI][123][15000] elbo: -34.13;  training rmse:83.1985  risk:3.7760 empirical:3.0306 \n",
      "                  gain:0.0000 empirical:0.0000\n",
      " evaluating risk (using Bayes estimator)\n",
      " evaluating empirical risk (using Bayes estimator)\n",
      "[427.5s][VI][123][16000] elbo: -33.56;  training rmse:83.8924  risk:3.7813 empirical:3.0372 \n",
      "                  gain:0.0000 empirical:0.0000\n",
      " evaluating risk (using Bayes estimator)\n",
      " evaluating empirical risk (using Bayes estimator)\n",
      "[452.1s][VI][123][17000] elbo: -33.09;  training rmse:83.3107  risk:3.7796 empirical:3.0515 \n",
      "                  gain:0.0000 empirical:0.0000\n",
      " evaluating risk (using Bayes estimator)\n",
      " evaluating empirical risk (using Bayes estimator)\n",
      "[477.0s][VI][123][18000] elbo: -33.50;  training rmse:83.5941  risk:3.7796 empirical:3.0187 \n",
      "                  gain:0.0000 empirical:0.0000\n",
      " evaluating risk (using Bayes estimator)\n",
      " evaluating empirical risk (using Bayes estimator)\n",
      "[501.9s][VI][123][19000] elbo: -32.70;  training rmse:84.0367  risk:3.7874 empirical:3.0357 \n",
      "                  gain:0.0000 empirical:0.0000\n",
      " evaluating risk (using Bayes estimator)\n",
      " evaluating empirical risk (using Bayes estimator)\n",
      "[532.3s][VI][123][19999] elbo: -33.69;  training rmse:83.4638  risk:3.7777 empirical:3.0354 \n",
      "                  gain:0.0000 empirical:0.0000\n"
     ]
    }
   ],
   "source": [
    "start = time.time()\n",
    "report = []\n",
    "trajectory_vi = {}\n",
    "for i in range(NITER):    \n",
    "    q_mu = Normal(q_mu_loc, softplus(q_mu_scale))    \n",
    "    q_tau = Normal(q_tau_loc, softplus(q_tau_scale))    \n",
    "    q_theta = Normal(q_theta_loc, softplus(q_theta_scale))    \n",
    "    \n",
    "    elbo = 0.0\n",
    "    for _ in range(NSAMPLES):\n",
    "        mu =  q_mu.rsample()               \n",
    "        tau =  q_tau.rsample()               \n",
    "        theta =  q_theta.rsample()               \n",
    "\n",
    "        elbo += model_log_prob(schools_dat, mu, tau, theta) \\\n",
    "            -q_mu.log_prob(mu).sum() -q_tau.log_prob(tau).sum() -q_theta.log_prob(theta).sum()\n",
    "    elbo = elbo/NSAMPLES            \n",
    "    \n",
    "    optimizer.zero_grad()    \n",
    "    (-elbo).backward()\n",
    "    optimizer.step()\n",
    "\n",
    "    if i%EVAL_NITER==0 or i==NITER-1:\n",
    "        \n",
    "        # store trajectories of posteriors\n",
    "        trajectory_vi.setdefault(\"qmu_loc\",[]).append(tonumpy2(q_mu_loc)) \n",
    "        trajectory_vi.setdefault(\"qmu_scale\",[]).append(tonumpy2(softplus(q_mu_scale)))         \n",
    "        trajectory_vi.setdefault(\"qtau_loc\",[]).append(tonumpy2(q_tau_loc)) \n",
    "        trajectory_vi.setdefault(\"qtau_scale\",[]).append(tonumpy2(softplus(q_tau_scale))) \n",
    "        trajectory_vi.setdefault(\"qtheta_loc\",[]).append(tonumpy2(q_theta_loc) ) \n",
    "        trajectory_vi.setdefault(\"qtheta_scale\",[]).append(tonumpy2(softplus(q_theta_scale)))                 \n",
    "        \n",
    "        rmse = (tonumpy(q_theta_loc)-np.array(schools_dat['y']))**2\n",
    "        training_rmse = rmse.mean()\n",
    "        r = (time.time()-start, \"VI\", SEED, i, elbo.item(), \n",
    "                 training_rmse, \n",
    "                 bayes_risk(schools_dat, q_theta).item(), \n",
    "                 data_loss(schools_dat, q_theta).item(),\n",
    "                 bayes_gain(schools_dat, q_theta).item(), \n",
    "                 data_util(schools_dat, q_theta).item(),\n",
    "                 q_tau_loc.item(), softplus(q_tau_scale).item(),\n",
    "                 q_mu_loc.item(), softplus(q_mu_scale).item() )\n",
    "        report.append(r)         \n",
    "        print2(\"\"\"[%.1fs][%s][%s][%s] elbo: %.2f;  training rmse:%.4f  risk:%.4f empirical:%.4f \n",
    "                  gain:%.4f empirical:%.4f\"\"\" % (r[:10]))\n",
    "        \n",
    "report_vi = report\n",
    "q_mu_vi = q_mu\n",
    "q_tau_vi = q_tau\n",
    "q_theta_vi = q_theta         "
   ]
  },
  {
   "cell_type": "markdown",
   "metadata": {
    "colab_type": "text",
    "id": "rKiuBlJ8lZnW"
   },
   "source": [
    "# True posteriors using HMC (STAN)"
   ]
  },
  {
   "cell_type": "code",
   "execution_count": 22,
   "metadata": {
    "colab": {},
    "colab_type": "code",
    "id": "xecIknZLlZnZ"
   },
   "outputs": [],
   "source": [
    "import pystan\n",
    "import numpy as np\n",
    "import matplotlib.pyplot as plt\n",
    "\n",
    "schools_code = \"\"\"\n",
    "data {\n",
    "    int<lower=0> J; // number of schools\n",
    "    real y[J]; // estimated treatment effects\n",
    "    real<lower=0> sigma[J]; // s.e. of effect estimates\n",
    "}\n",
    "parameters {\n",
    "    real theta[J];\n",
    "    real mu;\n",
    "    real<lower=0> tau;    \n",
    "}\n",
    "model {\n",
    "    theta ~ normal(mu, tau);\n",
    "    y ~ normal(theta, sigma);\n",
    "    mu ~ normal(0, 5);\n",
    "    tau ~ cauchy(0, 5);    \n",
    "}\n",
    "\"\"\""
   ]
  },
  {
   "cell_type": "code",
   "execution_count": 23,
   "metadata": {
    "colab": {
     "base_uri": "https://localhost:8080/",
     "height": 0
    },
    "colab_type": "code",
    "id": "NdbIFKeiXcBL",
    "outputId": "e5aab4f8-790e-4609-ba1e-3333db7cdb5b",
    "scrolled": true
   },
   "outputs": [
    {
     "name": "stderr",
     "output_type": "stream",
     "text": [
      "INFO:pystan:COMPILING THE C++ CODE FOR MODEL anon_model_713ed586722beb79bd4de3f80f8c6a56 NOW.\n"
     ]
    },
    {
     "name": "stdout",
     "output_type": "stream",
     "text": [
      "Inference for Stan model: anon_model_713ed586722beb79bd4de3f80f8c6a56.\n",
      "4 chains, each with iter=500; warmup=250; thin=1; \n",
      "post-warmup draws per chain=250, total post-warmup draws=1000.\n",
      "\n",
      "           mean se_mean     sd   2.5%    25%    50%    75%  97.5%  n_eff   Rhat\n",
      "theta[0]    6.0    0.43   5.55   -3.5   2.38    5.3   8.61  18.69    170   1.02\n",
      "theta[1]   4.71    0.29   4.69  -4.91   1.78   4.58   7.47  13.95    263    1.0\n",
      "theta[2]   3.57     0.3   5.14  -8.31   0.75   3.61   6.43  13.77    287   1.01\n",
      "theta[3]   4.46    0.29   4.84   -5.3   1.47    4.5   7.02  14.21    272   1.01\n",
      "theta[4]   3.52    0.31    4.5  -6.94   0.86   3.84   6.14  12.78    206   1.01\n",
      "theta[5]   4.01    0.32   4.82  -6.54   1.13   4.37   6.71  13.56    232   1.01\n",
      "theta[6]   6.27     0.4   5.08  -2.45   2.79   5.77   8.93  18.08    159   1.01\n",
      "theta[7]   4.41     0.3   5.47  -6.32   1.34   4.47   7.54  15.21    339   1.01\n",
      "mu         4.17    0.29   3.22  -2.11    1.9   4.41   6.13  11.84    120   1.02\n",
      "tau        3.78    0.47    3.1    0.8   1.46    2.9    4.9  12.07     43   1.09\n",
      "lp__     -14.81    1.04   5.99 -26.72  -18.9 -15.04  -9.71   -5.1     33   1.12\n",
      "\n",
      "Samples were drawn using NUTS at Tue Jan 22 16:34:30 2019.\n",
      "For each parameter, n_eff is a crude measure of effective sample size,\n",
      "and Rhat is the potential scale reduction factor on split chains (at \n",
      "convergence, Rhat=1).\n"
     ]
    },
    {
     "data": {
      "image/png": "[encoded data removed]",
      "text/plain": [
       "<matplotlib.figure.Figure at 0x7f63bc9804e0>"
      ]
     },
     "metadata": {},
     "output_type": "display_data"
    }
   ],
   "source": [
    "#HMC sampling\n",
    "sm = pystan.StanModel(model_code=schools_code)\n",
    "fit = sm.sampling(data=schools_dat, iter=500, chains=4)\n",
    "\n",
    "print(fit)\n",
    "fit.plot()\n",
    "plt.show()"
   ]
  },
  {
   "cell_type": "markdown",
   "metadata": {},
   "source": [
    "## STAN VI (for reference)"
   ]
  },
  {
   "cell_type": "code",
   "execution_count": 24,
   "metadata": {
    "colab": {},
    "colab_type": "code",
    "id": "n32V3-GTnBpE",
    "scrolled": true
   },
   "outputs": [
    {
     "name": "stderr",
     "output_type": "stream",
     "text": [
      "WARNING:pystan:Automatic Differentiation Variational Inference (ADVI) is an EXPERIMENTAL ALGORITHM.\n",
      "WARNING:pystan:ADVI samples may be found on the filesystem in the file `/tmp/tmp5vl3coym/output.csv`\n"
     ]
    },
    {
     "name": "stdout",
     "output_type": "stream",
     "text": [
      "{'random_seed': '1806341205', 'chain_id': 1, 'init': b'random', 'init_radius': 2.0, 'enable_random_init': False, 'append_samples': False, 'sample_file': b'/tmp/tmp5vl3coym/output.csv', 'method': 'VARIATIONAL', 'iter': 10000000, 'grad_samples': 1, 'elbo_samples': 100, 'eval_elbo': 100, 'output_samples': 1000, 'eta': 1.0, 'adapt_engaged': True, 'adapt_iter': 50, 'tol_rel_obj': 1e-05, 'algorithm': 'MEANFIELD'}\n"
     ]
    },
    {
     "data": {
      "text/html": [
       "<div>\n",
       "<style scoped>\n",
       "    .dataframe tbody tr th:only-of-type {\n",
       "        vertical-align: middle;\n",
       "    }\n",
       "\n",
       "    .dataframe tbody tr th {\n",
       "        vertical-align: top;\n",
       "    }\n",
       "\n",
       "    .dataframe thead th {\n",
       "        text-align: right;\n",
       "    }\n",
       "</style>\n",
       "<table border=\"1\" class=\"dataframe\">\n",
       "  <thead>\n",
       "    <tr style=\"text-align: right;\">\n",
       "      <th></th>\n",
       "      <th>theta.1</th>\n",
       "      <th>theta.2</th>\n",
       "      <th>theta.3</th>\n",
       "      <th>theta.4</th>\n",
       "      <th>theta.5</th>\n",
       "      <th>theta.6</th>\n",
       "      <th>theta.7</th>\n",
       "      <th>theta.8</th>\n",
       "      <th>mu</th>\n",
       "      <th>tau</th>\n",
       "      <th>10</th>\n",
       "    </tr>\n",
       "  </thead>\n",
       "  <tbody>\n",
       "    <tr>\n",
       "      <th>count</th>\n",
       "      <td>1001.000000</td>\n",
       "      <td>1001.000000</td>\n",
       "      <td>1001.000000</td>\n",
       "      <td>1001.000000</td>\n",
       "      <td>1001.000000</td>\n",
       "      <td>1001.000000</td>\n",
       "      <td>1001.000000</td>\n",
       "      <td>1001.000000</td>\n",
       "      <td>1001.000000</td>\n",
       "      <td>1001.000000</td>\n",
       "      <td>1001.0</td>\n",
       "    </tr>\n",
       "    <tr>\n",
       "      <th>mean</th>\n",
       "      <td>7.391810</td>\n",
       "      <td>5.246823</td>\n",
       "      <td>3.206683</td>\n",
       "      <td>4.511332</td>\n",
       "      <td>2.177576</td>\n",
       "      <td>3.273307</td>\n",
       "      <td>8.276747</td>\n",
       "      <td>4.881237</td>\n",
       "      <td>3.931572</td>\n",
       "      <td>6.997711</td>\n",
       "      <td>0.0</td>\n",
       "    </tr>\n",
       "    <tr>\n",
       "      <th>std</th>\n",
       "      <td>6.268458</td>\n",
       "      <td>5.769997</td>\n",
       "      <td>6.267616</td>\n",
       "      <td>5.861621</td>\n",
       "      <td>5.417504</td>\n",
       "      <td>5.907211</td>\n",
       "      <td>5.605779</td>\n",
       "      <td>6.440640</td>\n",
       "      <td>2.240820</td>\n",
       "      <td>1.909667</td>\n",
       "      <td>0.0</td>\n",
       "    </tr>\n",
       "    <tr>\n",
       "      <th>min</th>\n",
       "      <td>-12.408840</td>\n",
       "      <td>-13.063944</td>\n",
       "      <td>-15.487371</td>\n",
       "      <td>-15.267336</td>\n",
       "      <td>-16.324716</td>\n",
       "      <td>-15.309978</td>\n",
       "      <td>-11.452596</td>\n",
       "      <td>-13.712211</td>\n",
       "      <td>-4.124626</td>\n",
       "      <td>3.360214</td>\n",
       "      <td>0.0</td>\n",
       "    </tr>\n",
       "    <tr>\n",
       "      <th>25%</th>\n",
       "      <td>3.272241</td>\n",
       "      <td>1.203962</td>\n",
       "      <td>-1.222433</td>\n",
       "      <td>0.761269</td>\n",
       "      <td>-1.381418</td>\n",
       "      <td>-0.618635</td>\n",
       "      <td>4.514816</td>\n",
       "      <td>0.347117</td>\n",
       "      <td>2.464184</td>\n",
       "      <td>5.615672</td>\n",
       "      <td>0.0</td>\n",
       "    </tr>\n",
       "    <tr>\n",
       "      <th>50%</th>\n",
       "      <td>7.337981</td>\n",
       "      <td>5.331328</td>\n",
       "      <td>3.109402</td>\n",
       "      <td>4.600883</td>\n",
       "      <td>2.350431</td>\n",
       "      <td>3.278302</td>\n",
       "      <td>8.122299</td>\n",
       "      <td>4.999745</td>\n",
       "      <td>3.999000</td>\n",
       "      <td>6.704447</td>\n",
       "      <td>0.0</td>\n",
       "    </tr>\n",
       "    <tr>\n",
       "      <th>75%</th>\n",
       "      <td>11.449102</td>\n",
       "      <td>9.301510</td>\n",
       "      <td>7.451072</td>\n",
       "      <td>8.745654</td>\n",
       "      <td>5.956203</td>\n",
       "      <td>7.078713</td>\n",
       "      <td>11.877398</td>\n",
       "      <td>9.204672</td>\n",
       "      <td>5.454606</td>\n",
       "      <td>7.993168</td>\n",
       "      <td>0.0</td>\n",
       "    </tr>\n",
       "    <tr>\n",
       "      <th>max</th>\n",
       "      <td>26.913641</td>\n",
       "      <td>20.459659</td>\n",
       "      <td>22.575433</td>\n",
       "      <td>22.467692</td>\n",
       "      <td>18.243054</td>\n",
       "      <td>22.030136</td>\n",
       "      <td>32.138789</td>\n",
       "      <td>25.629749</td>\n",
       "      <td>11.479826</td>\n",
       "      <td>15.537621</td>\n",
       "      <td>0.0</td>\n",
       "    </tr>\n",
       "  </tbody>\n",
       "</table>\n",
       "</div>"
      ],
      "text/plain": [
       "           theta.1      theta.2      theta.3      theta.4      theta.5  \\\n",
       "count  1001.000000  1001.000000  1001.000000  1001.000000  1001.000000   \n",
       "mean      7.391810     5.246823     3.206683     4.511332     2.177576   \n",
       "std       6.268458     5.769997     6.267616     5.861621     5.417504   \n",
       "min     -12.408840   -13.063944   -15.487371   -15.267336   -16.324716   \n",
       "25%       3.272241     1.203962    -1.222433     0.761269    -1.381418   \n",
       "50%       7.337981     5.331328     3.109402     4.600883     2.350431   \n",
       "75%      11.449102     9.301510     7.451072     8.745654     5.956203   \n",
       "max      26.913641    20.459659    22.575433    22.467692    18.243054   \n",
       "\n",
       "           theta.6      theta.7      theta.8           mu          tau      10  \n",
       "count  1001.000000  1001.000000  1001.000000  1001.000000  1001.000000  1001.0  \n",
       "mean      3.273307     8.276747     4.881237     3.931572     6.997711     0.0  \n",
       "std       5.907211     5.605779     6.440640     2.240820     1.909667     0.0  \n",
       "min     -15.309978   -11.452596   -13.712211    -4.124626     3.360214     0.0  \n",
       "25%      -0.618635     4.514816     0.347117     2.464184     5.615672     0.0  \n",
       "50%       3.278302     8.122299     4.999745     3.999000     6.704447     0.0  \n",
       "75%       7.078713    11.877398     9.204672     5.454606     7.993168     0.0  \n",
       "max      22.030136    32.138789    25.629749    11.479826    15.537621     0.0  "
      ]
     },
     "execution_count": 24,
     "metadata": {},
     "output_type": "execute_result"
    }
   ],
   "source": [
    "fitvi = sm.vb(data=schools_dat, iter=10000000, tol_rel_obj=0.00001)\n",
    "\n",
    "print(fitvi[\"args\"])\n",
    "pd.DataFrame(np.array(fitvi[\"sampler_params\"]).T).rename(\n",
    "    columns=dict(enumerate(fitvi[\"sampler_param_names\"]))).describe()"
   ]
  },
  {
   "cell_type": "markdown",
   "metadata": {},
   "source": [
    "## Comparison against STAN VI"
   ]
  },
  {
   "cell_type": "code",
   "execution_count": 25,
   "metadata": {
    "colab": {},
    "colab_type": "code",
    "id": "6SPp31dUlZo2"
   },
   "outputs": [
    {
     "name": "stdout",
     "output_type": "stream",
     "text": [
      "===============VI=================\n",
      "             0         1         2         3         4         5         6  \\\n",
      "mean  7.227632  4.931042  3.523183  4.677280  2.759202  3.681530  7.515103   \n",
      "sd    5.406585  4.939361  5.071684  4.946769  4.697236  4.939866  4.851582   \n",
      "\n",
      "             7         8         9  \n",
      "mean  5.100815  4.309612  6.047021  \n",
      "sd    5.319966  1.747711  1.194113  \n",
      "============STAN VI================\n",
      "       theta.1   theta.2   theta.3   theta.4   theta.5   theta.6   theta.7  \\\n",
      "mean  7.391810  5.246823  3.206683  4.511332  2.177576  3.273307  8.276747   \n",
      "std   6.268458  5.769997  6.267616  5.861621  5.417504  5.907211  5.605779   \n",
      "\n",
      "       theta.8        mu       tau   10  \n",
      "mean  4.881237  3.931572  6.997711  0.0  \n",
      "std   6.440640  2.240820  1.909667  0.0  \n"
     ]
    }
   ],
   "source": [
    "print(\"===============VI=================\")\n",
    "print( pd.DataFrame( list(zip(tonumpy(q_theta_loc), tonumpy(softplus(q_theta_scale)))) + \\\n",
    " [(q_mu_loc.item(), softplus(q_mu_scale).item())]+[(softplus(q_tau_loc).item(), (softplus(q_tau_scale)).item())] ).rename(columns={0: \"mean\", 1: \"sd\"}).transpose() )\n",
    "\n",
    "print(\"============STAN VI================\")\n",
    "print( pd.DataFrame(np.array(fitvi[\"sampler_params\"]).T).rename(\n",
    "    columns=dict(enumerate(fitvi[\"sampler_param_names\"]))).describe().transpose()[[\"mean\", \"std\"]].transpose() )"
   ]
  },
  {
   "cell_type": "markdown",
   "metadata": {
    "colab_type": "text",
    "id": "Zp1M7PyUbGtj"
   },
   "source": [
    "# VI vs LCVI: Posteriors comparison"
   ]
  },
  {
   "cell_type": "code",
   "execution_count": 26,
   "metadata": {
    "colab": {},
    "colab_type": "code",
    "id": "zLwN6QSQTEWy"
   },
   "outputs": [
    {
     "data": {
      "image/png": "[encoded data removed]",
      "text/plain": [
       "<matplotlib.figure.Figure at 0x7f63ccf64748>"
      ]
     },
     "metadata": {},
     "output_type": "display_data"
    }
   ],
   "source": [
    "nsamples = 1000\n",
    "theta_no = 1\n",
    "n_levels = 4\n",
    "\n",
    "start_plotting(font_size=17, left=0.175)\n",
    "label_patches = []\n",
    "\n",
    "x, y = (fit.extract()[\"tau\"]), fit.extract()[\"theta\"][:,theta_no]\n",
    "sns.kdeplot(x, y, n_levels=int(n_levels*1.3), shade=False, cmap=\"Greens\");\n",
    "label_patches.append(mpatches.Patch(color=\"limegreen\",label=\"Posterior\")) \n",
    "plt.scatter(x, y, s=1, color=\"darkgreen\")\n",
    "\n",
    "tau = np.array([softplus(q_tau_vi.sample()).item() for _ in range(nsamples)])\n",
    "theta = np.array([q_theta_vi.sample()[theta_no].item() for _ in range(nsamples)])\n",
    "sns.kdeplot(tau, theta, n_levels=n_levels, shade=False, cmap=\"Blues\")\n",
    "label_patches.append(mpatches.Patch(color=\"dodgerblue\",label=\"VI\")) \n",
    "\n",
    "tau = np.array([softplus(q_tau_lcvi.sample()).item() for _ in range(nsamples)])\n",
    "theta = np.array([q_theta_lcvi.sample()[theta_no].item() for _ in range(nsamples)])\n",
    "sns.kdeplot(tau, theta, n_levels=n_levels, shade=False, cmap=\"Reds\")\n",
    "label_patches.append(mpatches.Patch(color=\"salmon\",label=\"LCVI\")) \n",
    "\n",
    "plt.xlabel(r\"$\\tau$\");plt.ylabel(r\"$\\theta_%i$\" % theta_no); #plt.legend();\n",
    "plt.legend(handles=label_patches, loc='lower right', fontsize=17);\n",
    "plt.grid(False); plt.xlim((0, 10)); plt.ylim((-10,20));\n",
    "plt.show()"
   ]
  },
  {
   "cell_type": "code",
   "execution_count": 27,
   "metadata": {},
   "outputs": [
    {
     "data": {
      "image/png": "[encoded data removed]",
      "text/plain": [
       "<matplotlib.figure.Figure at 0x7f63bc12fef0>"
      ]
     },
     "metadata": {},
     "output_type": "display_data"
    }
   ],
   "source": [
    "_t = lambda d: list(np.array(d)[-1,]) if np.array(d)[-1,].shape!=() else [np.array(d)[-1,]]\n",
    "\n",
    "locs_vi = _t(trajectory_vi[\"qmu_loc\"])+_t(trajectory_vi[\"qtau_loc\"])+_t(trajectory_vi[\"qtheta_loc\"])\n",
    "scales_vi = _t(trajectory_vi[\"qmu_scale\"])+_t(trajectory_vi[\"qtau_scale\"])+_t(trajectory_vi[\"qtheta_scale\"])\n",
    "\n",
    "locs_lcvi = _t(trajectory_lcvi[\"qmu_loc\"])+_t(trajectory_lcvi[\"qtau_loc\"])+_t(trajectory_lcvi[\"qtheta_loc\"])\n",
    "scales_lcvi = _t(trajectory_lcvi[\"qmu_scale\"])+_t(trajectory_lcvi[\"qtau_scale\"])+_t(trajectory_lcvi[\"qtheta_scale\"])\n",
    "\n",
    "locs_true = [fit.extract()[\"mu\"].mean(), fit.extract()[\"tau\"].mean()]+[fit.extract()[\"theta\"][:,i].mean() \n",
    "                                                                       for i in range(8)]\n",
    "scales_true = [fit.extract()[\"mu\"].std(), fit.extract()[\"tau\"].std()]+[fit.extract()[\"theta\"][:,i].std() \n",
    "                                                                       for i in range(8)]\n",
    "\n",
    "names = [r\"$\\mu$\", r\"$\\tau$\"] + [(r\"$\\theta_%i$\" % i) for i in range(1,9)]\n",
    "\n",
    "\n",
    "start_plotting(font_size=17)\n",
    "\n",
    "x = np.array(range(len(locs_vi)))\n",
    "\n",
    "plt.errorbar(x, locs_true, yerr=np.array(scales_true)*2, label=\"Posterior\",\n",
    "             fmt='-s', lw=0, color=GREEN, ecolor=GREEN, elinewidth=3, capsize=4, \n",
    "             barsabove=True, lolims=False, uplims=False, xlolims=False, xuplims=False)\n",
    "\n",
    "plt.errorbar(x-0.23, locs_vi, yerr=np.array(scales_vi)*2, label=\"VI\",\n",
    "             fmt='-s', lw=0, color=BLUE, ecolor=BLUE, elinewidth=3, capsize=4, \n",
    "             barsabove=True, lolims=False, uplims=False, xlolims=False, xuplims=False)\n",
    "\n",
    "plt.errorbar(x+0.23, locs_lcvi, yerr=np.array(scales_lcvi)*2, label=\"LCVI\",\n",
    "             fmt='-s', lw=0, color=RED, ecolor=RED, elinewidth=3, capsize=4, \n",
    "             barsabove=True, lolims=False, uplims=False, xlolims=False, xuplims=False)\n",
    "\n",
    "\n",
    "plt.xticks(x, names)\n",
    "plt.ylabel(\"Distribution ($\\mu  \\pm \\sigma$)\")\n",
    "plt.xlabel(\"Model Paramater\")\n",
    "plt.legend(loc=4,fontsize=17);"
   ]
  },
  {
   "cell_type": "code",
   "execution_count": 28,
   "metadata": {},
   "outputs": [],
   "source": [
    "def sample_predictive_y0_HMC(data, theta, nsamples_y=100):\n",
    "    sigma = torch.tensor(data[\"sigma\"], dtype=torch.float32)        \n",
    "    ys = Normal(theta, sigma).rsample(torch.Size([nsamples_y]))    \n",
    "    return ys\n",
    "\n",
    "\n",
    "def sample_predictive_y_HMC(data, theta, nsamples_y=100):\n",
    "    ys = sample_predictive_y0_HMC(data, theta, nsamples_y)\n",
    "    return ys.transpose(0,2).reshape(data[\"J\"],-1).transpose(0,1) #TODO clean it up"
   ]
  },
  {
   "cell_type": "code",
   "execution_count": 29,
   "metadata": {},
   "outputs": [],
   "source": [
    "ys_true = sample_predictive_y_HMC(schools_dat, torch.tensor(fit.extract()[\"theta\"], dtype=torch.float32), 500)\n",
    "ys_vi = sample_predictive_y(schools_dat, q_theta_vi, 1000, 500)\n",
    "ys_lcvi = sample_predictive_y(schools_dat, q_theta_lcvi, 1000, 500)\n",
    "\n",
    "y_true_locs, y_true_scales = [], []\n",
    "y_true_h = []\n",
    "y_vi_locs, y_vi_scales = [], []\n",
    "y_vi_h = []\n",
    "y_lcvi_locs, y_lcvi_scales = [], []\n",
    "y_lcvi_h = []\n",
    "names = []\n",
    "for j in range(8):\n",
    "    names.append(r\"$y_%i$\" % (j+1))\n",
    "    \n",
    "    y_true_locs.append(ys_true[:,j].mean().item())\n",
    "    y_true_scales.append(ys_true[:,j].std().item())    \n",
    "    y_true_h.append(optimal_h(ys_true[:,j]).item())\n",
    "    \n",
    "    y_vi_locs.append(ys_vi[:,j].mean().item())\n",
    "    y_vi_scales.append(ys_vi[:,j].std().item())    \n",
    "    y_vi_h.append(optimal_h(ys_vi[:,j]).item())    \n",
    "    \n",
    "    y_lcvi_locs.append(ys_lcvi[:,j].mean().item())\n",
    "    y_lcvi_scales.append(ys_lcvi[:,j].std().item())\n",
    "    y_lcvi_h.append(optimal_h(ys_lcvi[:,j]).item())\n"
   ]
  },
  {
   "cell_type": "code",
   "execution_count": 30,
   "metadata": {},
   "outputs": [
    {
     "data": {
      "image/png": "[encoded data removed]",
      "text/plain": [
       "<matplotlib.figure.Figure at 0x7f63bc0b6470>"
      ]
     },
     "metadata": {},
     "output_type": "display_data"
    }
   ],
   "source": [
    "start_plotting()\n",
    "\n",
    "x = np.array(range(len(y_vi_locs)))\n",
    "offset = 0.23\n",
    "\n",
    "plt.errorbar(x, y_true_locs, yerr=np.array(y_true_scales)*2, label=\"Posterior\",\n",
    "             fmt='-', lw=0, color=GREEN, ecolor=GREEN, elinewidth=3, capsize=4, \n",
    "             barsabove=True, lolims=False, uplims=False, xlolims=False, xuplims=False)\n",
    "plt.scatter(x, y_true_h, color=GREEN, marker=\"s\", s=20)\n",
    "\n",
    "plt.errorbar(x-offset, y_vi_locs, yerr=np.array(y_vi_scales)*2, label=\"VI\",\n",
    "             fmt='-', lw=0, color=BLUE, ecolor=BLUE, elinewidth=3, capsize=4, \n",
    "             barsabove=True, lolims=False, uplims=False, xlolims=False, xuplims=False)\n",
    "plt.scatter(x-offset, y_vi_h, color=BLUE, marker=\"s\", s=20)\n",
    "\n",
    "plt.errorbar(x+offset, y_lcvi_locs, yerr=np.array(y_lcvi_scales)*2, label=\"LCVI\",\n",
    "             fmt='-', lw=0, color=RED, ecolor=RED, elinewidth=3, capsize=4, \n",
    "             barsabove=True, lolims=False, uplims=False, xlolims=False, xuplims=False)\n",
    "plt.scatter(x+offset, y_lcvi_h, color=RED, marker=\"s\", s=20)\n",
    "\n",
    "\n",
    "plt.xticks(x, names)\n",
    "plt.ylabel(r\"Distribution ($\\mu  \\pm \\sigma$) and Decision ($\\textit{h}$)\")\n",
    "plt.xlabel(\"Model output\")\n",
    "plt.legend();\n"
   ]
  },
  {
   "cell_type": "markdown",
   "metadata": {},
   "source": [
    "# Convergence plot"
   ]
  },
  {
   "cell_type": "code",
   "execution_count": 31,
   "metadata": {},
   "outputs": [
    {
     "data": {
      "image/png": "[encoded data removed]",
      "text/plain": [
       "<matplotlib.figure.Figure at 0x7f63bc1b8898>"
      ]
     },
     "metadata": {},
     "output_type": "display_data"
    }
   ],
   "source": [
    "COLS = dict(enumerate(\"t, utility_term, SEED, iter, elbo, training_rmse, training_risk, training_loss, training_gain, training_util, test_rmse, test_risk, test_loss, test_gain, test_util\".split(\", \")))\n",
    "report_vi_df = pd.DataFrame(report_vi)\n",
    "report_vi_df.rename(columns=COLS, inplace=True)\n",
    "report_lcvi_df = pd.DataFrame(report_lcvi)\n",
    "report_lcvi_df.rename(columns=COLS, inplace=True)\n",
    "\n",
    "\n",
    "start_plotting(cmbright=False)\n",
    "\n",
    "ax1 = plt.subplot(211)\n",
    "plt.title(\"LCVI\")\n",
    "plt.plot(report_lcvi_df.iter, (report_lcvi_df.training_risk),\n",
    "         label = \"training\", lw=3, color=\"red\")\n",
    "plt.plot(report_lcvi_df.iter, (report_lcvi_df.training_loss),\n",
    "         label = \"training empirical\", lw=3, color=\"salmon\", ls=\"--\")\n",
    "plt.ylabel(\"Risk\")\n",
    "plt.xticks([],[])\n",
    "plt.legend()\n",
    "#plt.ylim(0.235, 0.34)\n",
    "\n",
    "ax2 = plt.subplot(212)\n",
    "plt.title(\"VI\")\n",
    "plt.plot(report_vi_df.iter, (report_vi_df.training_risk),\n",
    "         label = \"training\", lw=3, color=\"blue\")\n",
    "plt.plot(report_vi_df.iter, (report_vi_df.training_loss),\n",
    "         label = \"training empirical\", lw=3, color=\"dodgerblue\", ls=\"--\")\n",
    "plt.xlabel(\"Iteration\"); plt.ylabel(\"Risk\"); \n",
    "plt.grid(False); plt.legend(); plt.show();\n",
    "#plt.ylim(0.235, 0.34)"
   ]
  }
 ],
 "metadata": {
  "accelerator": "GPU",
  "colab": {
   "collapsed_sections": [
    "rKiuBlJ8lZnW"
   ],
   "name": "8schools_continous_with_likelihood",
   "provenance": [],
   "version": "0.3.2"
  },
  "kernelspec": {
   "display_name": "Python 3",
   "language": "python",
   "name": "python3"
  },
  "language_info": {
   "codemirror_mode": {
    "name": "ipython",
    "version": 3
   },
   "file_extension": ".py",
   "mimetype": "text/x-python",
   "name": "python",
   "nbconvert_exporter": "python",
   "pygments_lexer": "ipython3",
   "version": "3.6.4"
  }
 },
 "nbformat": 4,
 "nbformat_minor": 1
}
