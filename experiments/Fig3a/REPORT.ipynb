{
 "cells": [
  {
   "cell_type": "markdown",
   "metadata": {},
   "source": [
    "# Imports and auxiliary functions for plotting"
   ]
  },
  {
   "cell_type": "code",
   "execution_count": 1,
   "metadata": {},
   "outputs": [],
   "source": [
    "import pandas as pd\n",
    "import numpy as np\n",
    "import io\n",
    "import re"
   ]
  },
  {
   "cell_type": "code",
   "execution_count": 2,
   "metadata": {},
   "outputs": [],
   "source": [
    "import matplotlib as mpl\n",
    "import matplotlib.pyplot as plt\n",
    "import matplotlib.cm as cm\n",
    "import matplotlib.patches as mpatches\n",
    "import seaborn as sns; sns.set(); sns.set(font_scale=1.0); sns.set_style(\"white\"); \n",
    "\n",
    "import matplotlib as mpl\n",
    "from matplotlib import pyplot as plt\n",
    "#%matplotlib inline\n",
    "\n",
    "def _reset_mpl_config(font_size = 17*1.5, cmbright=True):\n",
    "    mpl.rcParams.update(mpl.rcParamsDefault) #reset to defaults\n",
    "        \n",
    "    SMALL_SIZE = font_size-4\n",
    "    MEDIUM_SIZE = font_size\n",
    "    BIGGER_SIZE = font_size\n",
    "    \n",
    "    plt.rc('font', size=SMALL_SIZE)          # controls default text sizes\n",
    "    plt.rc('axes', titlesize=SMALL_SIZE)     # fontsize of the axes title\n",
    "    plt.rc('axes', labelsize=MEDIUM_SIZE)    # fontsize of the x and y labels\n",
    "    plt.rc('xtick', labelsize=SMALL_SIZE)    # fontsize of the tick labels\n",
    "    plt.rc('ytick', labelsize=SMALL_SIZE)    # fontsize of the tick labels\n",
    "    plt.rc('legend', fontsize=SMALL_SIZE)    # legend fontsize\n",
    "    plt.rc('figure', titlesize=BIGGER_SIZE)  # fontsize of the figure title\n",
    "\n",
    "    plt.rc('font',**{'family':'serif','serif':['Times'], \"weight\": \"normal\"})\n",
    "    plt.rc('text', usetex=True)\n",
    "    plt.rc('mathtext', fontset='stix')  #['dejavusans', 'dejavuserif', 'cm', 'stix', 'stixsans', 'custom']\n",
    "    \n",
    "    mpl.rcParams['text.latex.preamble'] = [\n",
    "            r'\\usepackage{mathtools}',\n",
    "            r'\\usepackage{amsmath}',\n",
    "            r'\\usepackage{amsfonts}', \n",
    "            r'\\usepackage{microtype}',    \n",
    "            r'\\usepackage{arydshln}',              \n",
    "    ] + ([r'\\usepackage{cmbright}'] if cmbright else [])\n",
    "\n",
    "def _create_fig(bottom=0.2, left=0.125, right=0.9, top=0.9):\n",
    "    fig = plt.figure(figsize=(6.4, 4.8), dpi=72)\n",
    "    fig.subplots_adjust(bottom=bottom, left=left, right=right, top=top) \n",
    "    \n",
    "    \n",
    "def start_plotting(cmbright=True, font_size=17*1.5, bottom=0.2, left=0.125, right=0.95, top=0.95):\n",
    "    _reset_mpl_config(cmbright=cmbright, font_size=font_size)\n",
    "    _create_fig(bottom=bottom, left=left, right=right, top=top)"
   ]
  },
  {
   "cell_type": "code",
   "execution_count": 3,
   "metadata": {},
   "outputs": [],
   "source": [
    "import warnings\n",
    "warnings.filterwarnings(\"ignore\")"
   ]
  },
  {
   "cell_type": "code",
   "execution_count": 4,
   "metadata": {},
   "outputs": [],
   "source": [
    "from matplotlib import pyplot as plt \n",
    "import numpy as np\n",
    "\n",
    "def running_mean(x, N=7):\n",
    "    x = list(x)\n",
    "    l = N//2    \n",
    "    return [np.mean(x[max(i-l,0): min(i+l+1, len(x))]) for i in range(len(x))]\n",
    "\n",
    "def errorfill(x, y, yerr, color=None, alpha_fill=0.2, ax=None, label=\"\", lw=2, ls=\"-\"):\n",
    "    ax = ax if ax is not None else plt.gca()\n",
    "    if color is None:\n",
    "        color = ax._get_lines.color_cycle.next()\n",
    "    if np.isscalar(yerr) or len(yerr) == len(y):\n",
    "        ymin = y - yerr\n",
    "        ymax = y + yerr\n",
    "    elif len(yerr) == 2:\n",
    "        ymin, ymax = yerr\n",
    "    ax.plot(x, running_mean(y), color=color, label=label, lw=lw, ls=ls)\n",
    "    ax.fill_between(x, running_mean(ymax), running_mean(ymin), color=color, alpha=alpha_fill, linewidth=0.0)\n",
    "    \n",
    "    \n",
    "def extract_mean_std(df, x, y):\n",
    "    df = df.sort_values(x)\n",
    "    return df.groupby(x).mean().index, df.groupby(x).mean()[y], df.groupby(x).std()[y]    "
   ]
  },
  {
   "cell_type": "code",
   "execution_count": 5,
   "metadata": {},
   "outputs": [],
   "source": [
    "def sm(x, N=7):\n",
    "    l = N//2    \n",
    "    return [np.mean(x[max(i-l,0): min(i+l+1, len(x))]) for i in range(len(x))]"
   ]
  },
  {
   "cell_type": "markdown",
   "metadata": {},
   "source": [
    "# Results loading and processing"
   ]
  },
  {
   "cell_type": "code",
   "execution_count": 6,
   "metadata": {},
   "outputs": [],
   "source": [
    "COLS = dict(enumerate(\"FILE, t, logu, SEED, iter, epoch, elbo, training_rmse, training_qrisk, training_erisk, training_qgain, training_egain, test_rmse, test_qrisk, test_erisk, test_qgain, test_egain\".split(\", \")))"
   ]
  },
  {
   "cell_type": "code",
   "execution_count": 7,
   "metadata": {},
   "outputs": [],
   "source": [
    "def parse_method(v):\n",
    "    method = v.split(\"_\")[1]\n",
    "    if method==\"LCVIEM\":\n",
    "        method+=v.split(\"_\")[6]+v.split(\"_\")[7]\n",
    "    return method"
   ]
  },
  {
   "cell_type": "code",
   "execution_count": 8,
   "metadata": {},
   "outputs": [],
   "source": [
    "results_str = \"\\n\".join(l.replace(\":\", \",\") for l in open(\"RESULTS/RESULTS.csv\").readlines()) \n",
    "df = pd.read_csv( io.StringIO(results_str), header=None).rename(columns=COLS)\n",
    "df[\"method\"] = df.FILE.apply(parse_method)"
   ]
  },
  {
   "cell_type": "code",
   "execution_count": 9,
   "metadata": {},
   "outputs": [
    {
     "name": "stdout",
     "output_type": "stream",
     "text": [
      "CONFIGURATIONS: ['LCVIEMbayes100' 'LCVIEMbayes10' 'LCVIEMbayes300' 'LCVIEMbayes50'\n",
      " 'LCVIEMbayes5' 'LCVIEMnum-util100' 'LCVIEMnum-util10' 'LCVIEMnum-util300'\n",
      " 'LCVIEMnum-util50' 'LCVIEMnum-util5' 'LCVI' 'VI']\n"
     ]
    }
   ],
   "source": [
    "print(\"CONFIGURATIONS:\", df.method.unique())"
   ]
  },
  {
   "cell_type": "code",
   "execution_count": 10,
   "metadata": {},
   "outputs": [],
   "source": [
    "SELCOLS = [\"SEED\", \"iter\", \"test_erisk\", \"t\"]\n",
    "dvi = df[df.method==\"VI\"][SELCOLS].sort_values(by=SELCOLS)\n",
    "djo = df[df.method==\"LCVI\"][SELCOLS].sort_values(by=SELCOLS)\n",
    "\n",
    "demb1 = df[df.method==\"LCVIEMbayes1\"][SELCOLS].sort_values(by=SELCOLS)\n",
    "demb10 = df[df.method==\"LCVIEMbayes10\"][SELCOLS].sort_values(by=SELCOLS)\n",
    "demb50 = df[df.method==\"LCVIEMbayes50\"][SELCOLS].sort_values(by=SELCOLS)\n",
    "demb100 = df[df.method==\"LCVIEMbayes100\"][SELCOLS].sort_values(by=SELCOLS)\n",
    "demb200 = df[df.method==\"LCVIEMbayes200\"][SELCOLS].sort_values(by=SELCOLS)\n",
    "\n",
    "demn1 = df[df.method==\"LCVIEMnum-util1\"][SELCOLS].sort_values(by=SELCOLS)\n",
    "demn10 = df[df.method==\"LCVIEMnum-util10\"][SELCOLS].sort_values(by=SELCOLS)\n",
    "demn50 = df[df.method==\"LCVIEMnum-util50\"][SELCOLS].sort_values(by=SELCOLS)\n",
    "demn100 = df[df.method==\"LCVIEMnum-util100\"][SELCOLS].sort_values(by=SELCOLS)\n",
    "demn200 = df[df.method==\"LCVIEMnum-util200\"][SELCOLS].sort_values(by=SELCOLS)\n",
    "demn300 = df[df.method==\"LCVIEMnum-util300\"][SELCOLS].sort_values(by=SELCOLS)"
   ]
  },
  {
   "cell_type": "code",
   "execution_count": 11,
   "metadata": {},
   "outputs": [],
   "source": [
    "#djo = pd.merge(djo, dvi, on=[\"SEED\", \"iter\"])\n",
    "#demb = pd.merge(demb, dvi, on=[\"SEED\", \"iter\"])\n",
    "#demn10 = pd.merge(demn10, dvi, on=[\"SEED\", \"iter\"])\n",
    "#demn100 = pd.merge(demn100, dvi, on=[\"SEED\", \"iter\"])\n",
    "#demn1000 = pd.merge(demn1000, dvi, on=[\"SEED\", \"iter\"])"
   ]
  },
  {
   "cell_type": "code",
   "execution_count": 12,
   "metadata": {},
   "outputs": [],
   "source": [
    "# Round times\n",
    "dvi[\"t\"] = np.floor(dvi[\"t\"]/60.0)*60.0\n",
    "djo[\"t\"] = np.floor(djo[\"t\"]/200.0)*200.0\n",
    "demb10[\"t\"] = np.floor(demb10[\"t\"]/200.0)*200.0\n",
    "demb100[\"t\"] = np.floor(demb100[\"t\"]/200.0)*200.0\n",
    "demn10[\"t\"] = np.floor(demn10[\"t\"]/200.0)*200.0\n",
    "demn100[\"t\"] = np.floor(demn100[\"t\"]/200.0)*200.0\n",
    "demn300[\"t\"] = np.floor(demn300[\"t\"]/200.0)*200.0"
   ]
  },
  {
   "cell_type": "code",
   "execution_count": 13,
   "metadata": {},
   "outputs": [],
   "source": [
    "XCOL = \"t\"\n",
    "COL = \"test_erisk\""
   ]
  },
  {
   "cell_type": "code",
   "execution_count": 14,
   "metadata": {},
   "outputs": [],
   "source": [
    "dvi[\"iter\"] = np.floor(dvi[\"iter\"]/30000.0)*30000\n",
    "dvi = dvi[dvi.iter==30000.0].groupby(\"SEED\").first().reset_index()\n",
    "seed2vi_value = dict(zip(dvi[\"SEED\"], dvi[COL]))\n",
    "\n",
    "def update(d):\n",
    "    d[COL] = [ (100* (seed2vi_value[seed]-v)/seed2vi_value[seed]) for v, seed in zip(d[COL], d[\"SEED\"])]\n",
    "    \n",
    "update(djo)    \n",
    "update(demb10)    \n",
    "update(demb100)    \n",
    "update(demn10)    \n",
    "update(demn100)    \n",
    "update(demn300)    "
   ]
  },
  {
   "cell_type": "markdown",
   "metadata": {},
   "source": [
    "# Plots"
   ]
  },
  {
   "cell_type": "code",
   "execution_count": 15,
   "metadata": {},
   "outputs": [
    {
     "data": {
      "image/png": "[encoded data removed]",
      "text/plain": [
       "<Figure size 460.8x345.6 with 1 Axes>"
      ]
     },
     "metadata": {},
     "output_type": "display_data"
    }
   ],
   "source": [
    "start_plotting(cmbright=False, font_size=17*1.5, left=0.15)\n",
    "\n",
    "x,y,yerr = extract_mean_std(djo, XCOL, COL)\n",
    "errorfill(x,y,yerr, color=\"salmon\", ls=\"-\", label=\"joint optimization\")\n",
    "\n",
    "x,y,yerr = extract_mean_std(demb100, XCOL, COL)\n",
    "errorfill(x,y,yerr, color=\"dodgerblue\", ls=\"--\", label=\"Bayes estimator\")\n",
    "\n",
    "x,y,yerr = extract_mean_std(demn10, XCOL, COL)\n",
    "errorfill(x,y,yerr, color=\"green\", ls=\":\", label=\"num (10 samples)\")\n",
    "\n",
    "x,y,yerr = extract_mean_std(demn100, XCOL, COL)\n",
    "errorfill(x,y,yerr, color=\"lightgreen\", ls=\"-.\", label=\"num (100 samples)\")\n",
    "    \n",
    "plt.ylim(-1,6)\n",
    "plt.axhline(0, color=\"lightgray\", ls=\"--\", lw=1)\n",
    "plt.xlim(0,21000)\n",
    "plt.legend(loc=4, fontsize=16)\n",
    "#plt.xscale(\"log\")\n",
    "plt.xlabel(\"Time [s]\")\n",
    "plt.ylabel(\"Empirical Risk Reduction ($\\mathcal{I}$) [\\%]\", fontsize=21)\n",
    "plt.savefig(\"MF_JOvsEM_squared_test_improvement.pdf\")\n",
    "plt.show()"
   ]
  },
  {
   "cell_type": "code",
   "execution_count": null,
   "metadata": {},
   "outputs": [],
   "source": []
  }
 ],
 "metadata": {
  "kernelspec": {
   "display_name": "Python 3",
   "language": "python",
   "name": "python3"
  },
  "language_info": {
   "codemirror_mode": {
    "name": "ipython",
    "version": 3
   },
   "file_extension": ".py",
   "mimetype": "text/x-python",
   "name": "python",
   "nbconvert_exporter": "python",
   "pygments_lexer": "ipython3",
   "version": "3.6.8"
  }
 },
 "nbformat": 4,
 "nbformat_minor": 2
}
