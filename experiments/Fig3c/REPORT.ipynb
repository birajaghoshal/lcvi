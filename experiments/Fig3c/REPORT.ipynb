{
 "cells": [
  {
   "cell_type": "markdown",
   "metadata": {},
   "source": [
    "# Imports and auxiliary functions for plotting"
   ]
  },
  {
   "cell_type": "code",
   "execution_count": 1,
   "metadata": {},
   "outputs": [],
   "source": [
    "import pandas as pd\n",
    "import numpy as np\n",
    "import io\n",
    "import re"
   ]
  },
  {
   "cell_type": "code",
   "execution_count": 2,
   "metadata": {},
   "outputs": [],
   "source": [
    "import matplotlib as mpl\n",
    "import matplotlib.pyplot as plt\n",
    "import matplotlib.cm as cm\n",
    "import matplotlib.patches as mpatches\n",
    "import seaborn as sns; sns.set(); sns.set(font_scale=1.0); sns.set_style(\"white\"); \n",
    "\n",
    "import matplotlib as mpl\n",
    "from matplotlib import pyplot as plt\n",
    "#%matplotlib inline\n",
    "\n",
    "def _reset_mpl_config(font_size = 17*1.5, cmbright=True):\n",
    "    mpl.rcParams.update(mpl.rcParamsDefault) #reset to defaults\n",
    "        \n",
    "    SMALL_SIZE = font_size-4\n",
    "    MEDIUM_SIZE = font_size\n",
    "    BIGGER_SIZE = font_size\n",
    "    \n",
    "    plt.rc('font', size=SMALL_SIZE)          # controls default text sizes\n",
    "    plt.rc('axes', titlesize=SMALL_SIZE)     # fontsize of the axes title\n",
    "    plt.rc('axes', labelsize=MEDIUM_SIZE)    # fontsize of the x and y labels\n",
    "    plt.rc('xtick', labelsize=SMALL_SIZE)    # fontsize of the tick labels\n",
    "    plt.rc('ytick', labelsize=SMALL_SIZE)    # fontsize of the tick labels\n",
    "    plt.rc('legend', fontsize=SMALL_SIZE)    # legend fontsize\n",
    "    plt.rc('figure', titlesize=BIGGER_SIZE)  # fontsize of the figure title\n",
    "\n",
    "    plt.rc('font',**{'family':'serif','serif':['Times'], \"weight\": \"normal\"})\n",
    "    plt.rc('text', usetex=True)\n",
    "    plt.rc('mathtext', fontset='stix')  #['dejavusans', 'dejavuserif', 'cm', 'stix', 'stixsans', 'custom']\n",
    "    \n",
    "    mpl.rcParams['text.latex.preamble'] = [\n",
    "            r'\\usepackage{mathtools}',\n",
    "            r'\\usepackage{amsmath}',\n",
    "            r'\\usepackage{amsfonts}', \n",
    "            r'\\usepackage{microtype}',    \n",
    "            r'\\usepackage{arydshln}',              \n",
    "    ] + ([r'\\usepackage{cmbright}'] if cmbright else [])\n",
    "\n",
    "def _create_fig(bottom=0.2, left=0.125, right=0.9, top=0.9):\n",
    "    fig = plt.figure(figsize=(6.4, 4.8), dpi=72)\n",
    "    fig.subplots_adjust(bottom=bottom, left=left, right=right, top=top) \n",
    "    \n",
    "    \n",
    "def start_plotting(cmbright=True, font_size=17*1.5, bottom=0.2, left=0.125, right=0.95, top=0.95):\n",
    "    _reset_mpl_config(cmbright=cmbright, font_size=font_size)\n",
    "    _create_fig(bottom=bottom, left=left, right=right, top=top)"
   ]
  },
  {
   "cell_type": "code",
   "execution_count": 3,
   "metadata": {},
   "outputs": [],
   "source": [
    "import warnings\n",
    "warnings.filterwarnings(\"ignore\")"
   ]
  },
  {
   "cell_type": "code",
   "execution_count": 4,
   "metadata": {},
   "outputs": [],
   "source": [
    "def fix_colors(bp, color):\n",
    "    # boxplot style adjustments\n",
    "    [[item.set_linewidth(2) for item in bp[key]['boxes']] for key in bp.keys()]\n",
    "    [[item.set_linewidth(2) for item in bp[key]['fliers']] for key in bp.keys()]\n",
    "    [[item.set_linewidth(2) for item in bp[key]['medians']] for key in bp.keys()]\n",
    "    [[item.set_linewidth(2) for item in bp[key]['means']] for key in bp.keys()]\n",
    "    [[item.set_linewidth(0.5) for item in bp[key]['whiskers']] for key in bp.keys()]\n",
    "    [[item.set_linewidth(0.5) for item in bp[key]['caps']] for key in bp.keys()]\n",
    "\n",
    "    [[item.set_color(color) for item in bp[key]['boxes']] for key in bp.keys()]\n",
    "    [[item.set_color(\"k\") for item in bp[key]['fliers']] for key in bp.keys()]\n",
    "    [[item.set_color(color) for item in bp[key]['medians']] for key in bp.keys()]\n",
    "    [[item.set_color(\"k\") for item in bp[key]['means']] for key in bp.keys()]\n",
    "    [[item.set_color(\"k\") for item in bp[key]['whiskers']] for key in bp.keys()]\n",
    "    [[item.set_color(\"k\") for item in bp[key]['caps']] for key in bp.keys()]\n",
    "\n",
    "    \n",
    "def fix_colors2(bp, color):\n",
    "    # boxplot style adjustments\n",
    "    [item.set_linewidth(2) for item in bp['boxes']]\n",
    "    [item.set_linewidth(2) for item in bp['fliers']]\n",
    "    [item.set_linewidth(2) for item in bp['medians']]\n",
    "    [item.set_linewidth(2) for item in bp['means']]\n",
    "    [item.set_linewidth(0.5) for item in bp['whiskers']]\n",
    "    [item.set_linewidth(0.5) for item in bp['caps']]\n",
    "\n",
    "    [item.set_color(color) for item in bp['boxes']]\n",
    "    [item.set_color(\"k\") for item in bp['fliers']]\n",
    "    [item.set_color(color) for item in bp['medians']]\n",
    "    [item.set_color(\"k\") for item in bp['means']]\n",
    "    [item.set_color(\"k\") for item in bp['whiskers']]\n",
    "    [item.set_color(\"k\") for item in bp['caps']]    "
   ]
  },
  {
   "cell_type": "markdown",
   "metadata": {},
   "source": [
    "# Results loading and processing"
   ]
  },
  {
   "cell_type": "code",
   "execution_count": 5,
   "metadata": {},
   "outputs": [],
   "source": [
    "REPORT_ITER = 30000\n",
    "COLS = dict(enumerate(\"FILE, t, logu, SEED, iter, epoch, elbo, training_rmse, training_qrisk, training_erisk, training_qgain, training_egain, test_rmse, test_qrisk, test_erisk, test_qgain, test_egain\".split(\", \")))"
   ]
  },
  {
   "cell_type": "code",
   "execution_count": 6,
   "metadata": {},
   "outputs": [],
   "source": [
    "percentiles=[1, 5, 10, 20, 30, 40, 50, 60, 70, 80, 90, 95, 99, 100] \n",
    "loss_threshold_values=[0.0002, 0.0047, 0.0187, 0.0742, 0.1651, 0.2884, 0.4372, 0.5997, 0.7583, 0.8908, 0.9753, 0.9949, 0.9999, 1.0]\n",
    "threshold2percentile = dict(zip(loss_threshold_values, percentiles))"
   ]
  },
  {
   "cell_type": "code",
   "execution_count": 7,
   "metadata": {},
   "outputs": [],
   "source": [
    "results_str = \"\\n\".join(l.replace(\":\", \",\") for l in open(\"RESULTS/RESULTS.csv\").readlines()) \n",
    "df = pd.read_csv( io.StringIO(results_str), header=None).rename(columns=COLS)\n",
    "df = df[df.iter==REPORT_ITER]\n",
    "df[\"M\"] = df[df.logu==\"utility_term_linearized\"].FILE.apply(lambda v: 1.0/float(v.split(\"_\")[2].replace(\"linearized\",\"\")))\n",
    "df[\"percentile\"] = df.M.apply(lambda v: threshold2percentile.get(np.round(v,4)) if v is not None else None)"
   ]
  },
  {
   "cell_type": "code",
   "execution_count": 8,
   "metadata": {},
   "outputs": [],
   "source": [
    "d0 = df\n",
    "d0[\"logu\"] = d0[\"logu\"].apply(lambda v: v.replace(\"utility_term_\", \"\"))\n",
    "d0[\"test_qrisk\"] = 1.0-d0[\"test_qgain\"]\n",
    "d0[\"test_erisk\"] = 1.0-d0[\"test_egain\"]\n",
    "d0[\"train_qrisk\"] = 1.0-d0[\"training_qgain\"]\n",
    "d0[\"train_erisk\"] = 1.0-d0[\"training_egain\"]\n",
    "\n",
    "d0.loc[d0[\"logu\"]==\"vi\", \"order\"]=1\n",
    "d0.loc[d0[\"logu\"]==\"naive\", \"order\"]=2\n",
    "d0.loc[(d0[\"logu\"]==\"linearized\")&(d0[\"percentile\"]==20), \"order\"]=3\n",
    "d0.loc[(d0[\"logu\"]==\"linearized\")&(d0[\"percentile\"]==50), \"order\"]=4\n",
    "d0.loc[(d0[\"logu\"]==\"linearized\")&(d0[\"percentile\"]==80), \"order\"]=5\n",
    "d0.loc[(d0[\"logu\"]==\"linearized\")&(d0[\"percentile\"]==100), \"order\"]=6"
   ]
  },
  {
   "cell_type": "markdown",
   "metadata": {},
   "source": [
    "# Plots"
   ]
  },
  {
   "cell_type": "code",
   "execution_count": 9,
   "metadata": {},
   "outputs": [],
   "source": [
    "def plot_boxes(colname, ax1):\n",
    "    showfliers = False\n",
    "    \n",
    "    bp =  d0[d0.logu==\"vi\"].boxplot(by=([\"order\", \"logu\"]),column=[colname], rot=0, layout=(2,1), ax=ax1,\n",
    "                     return_type='dict', showfliers=showfliers, showmeans=False, positions=[1], widths=[0.5]);\n",
    "    fix_colors(bp, \"dodgerblue\")\n",
    "\n",
    "    bp =  d0[d0.logu==\"naive\"].boxplot(by=([\"order\", \"logu\"]),column=[colname], rot=0, layout=(2,1), ax=ax1,\n",
    "                     return_type='dict', showfliers=showfliers, showmeans=False, positions=[2], widths=[0.5]);\n",
    "    fix_colors(bp, \"salmon\")\n",
    "\n",
    "\n",
    "    bp =  d0[(d0.logu==\"linearized\")&(d0.percentile==20)].boxplot(by=([\"order\", \"logu\"]),column=[colname], \n",
    "                                                                  rot=0, layout=(2,1), ax=ax1,\n",
    "                     return_type='dict', showfliers=showfliers, showmeans=False, positions=[3], widths=[0.5]);\n",
    "    fix_colors(bp, \"salmon\")\n",
    "\n",
    "    bp =  d0[(d0.logu==\"linearized\")&(d0.percentile==50)].boxplot(by=([\"order\", \"logu\"]),column=[colname], \n",
    "                                                                  rot=0, layout=(2,1), ax=ax1,\n",
    "                     return_type='dict', showfliers=showfliers, showmeans=False, positions=[4], widths=[0.5]);\n",
    "    fix_colors(bp, \"salmon\")\n",
    "\n",
    "    bp =  d0[(d0.logu==\"linearized\")&(d0.percentile==80)].boxplot(by=([\"order\", \"logu\"]),column=[colname], \n",
    "                                                                  rot=0, layout=(2,1), ax=ax1,\n",
    "                     return_type='dict', showfliers=showfliers, showmeans=False, positions=[5], widths=[0.5]);\n",
    "    fix_colors(bp, \"salmon\")\n",
    "\n",
    "    bp =  d0[(d0.logu==\"linearized\")&(d0.percentile==100)].boxplot(by=([\"order\", \"logu\"]),column=[colname], \n",
    "                                                                   rot=0, layout=(2,1), ax=ax1,\n",
    "                     return_type='dict', showfliers=showfliers, showmeans=False, positions=[6], widths=[0.5]);\n",
    "    fix_colors(bp, \"salmon\")\n",
    "    "
   ]
  },
  {
   "cell_type": "code",
   "execution_count": 10,
   "metadata": {},
   "outputs": [
    {
     "name": "stdout",
     "output_type": "stream",
     "text": [
      "TEST DATA\n"
     ]
    },
    {
     "data": {
      "image/png": "[encoded data removed]",
      "text/plain": [
       "<Figure size 460.8x345.6 with 2 Axes>"
      ]
     },
     "metadata": {},
     "output_type": "display_data"
    }
   ],
   "source": [
    "print(\"TEST DATA\")\n",
    "start_plotting(cmbright=False, font_size=17*1.5, \n",
    "               bottom=0.2, left=0.2, right=0.95, top=0.95)\n",
    "\n",
    "ax1 = plt.subplot(211)\n",
    "plot_boxes(\"test_erisk\", ax1)\n",
    "plt.xlim(0.5,6.5)\n",
    "plt.grid(False); plt.title(\"\"); plt.suptitle(\"\");\n",
    "plt.ylabel(\"Empirical Risk\")\n",
    "plt.xlabel(\"\")\n",
    "plt.tick_params(\n",
    "    axis='x',          # changes apply to the x-axis\n",
    "    which='both',      # both major and minor ticks are affected\n",
    "    bottom=False,      # ticks along the bottom edge are off\n",
    "    top=False,         # ticks along the top edge are off\n",
    "    labelbottom=False) # labels along the bottom edge are off\n",
    "\n",
    "\n",
    "ax2 = plt.subplot(212, sharex=ax1)\n",
    "plot_boxes(\"test_qrisk\", ax2)\n",
    "plt.xticks([1,2,3,4,5,6,7], [\"VI\", \"naive\", \"20\", \"50\", \"80\", \"100\"], ha=\"center\", fontsize=22)\n",
    "ax2.annotate('linearized (percentile)', xy=(0.68, -0.22), xytext=(0.68, -0.5), xycoords='axes fraction', \n",
    "            fontsize=18, ha='center', va='bottom',\n",
    "            bbox=dict(boxstyle='square', fc='white', lw=0),\n",
    "            arrowprops=dict(arrowstyle='-[, widthB=6.5, lengthB=0.5', lw=1.0))\n",
    "plt.grid(False); plt.title(\"\"); plt.suptitle(\"\");\n",
    "#plt.yticks([0.39, 0.43], [\"0.39\", \"0.43\"])\n",
    "plt.xlim(0.5,6.5)\n",
    "plt.ylabel(\"$q$Risk($h^*$)\")\n",
    "plt.xlabel(\"\");\n",
    "\n",
    "plt.subplots_adjust(bottom=0.2, left=0.2, right=0.95, top=0.95) \n",
    "plt.savefig(\"mf_expsquared_test.pdf\")\n",
    "plt.show()"
   ]
  },
  {
   "cell_type": "code",
   "execution_count": 11,
   "metadata": {},
   "outputs": [
    {
     "name": "stdout",
     "output_type": "stream",
     "text": [
      "TRAINING DATA\n"
     ]
    },
    {
     "data": {
      "image/png": "[encoded data removed]",
      "text/plain": [
       "<Figure size 460.8x345.6 with 2 Axes>"
      ]
     },
     "metadata": {},
     "output_type": "display_data"
    }
   ],
   "source": [
    "print(\"TRAINING DATA\")\n",
    "start_plotting(cmbright=False, font_size=17*1.5, \n",
    "               bottom=0.2, left=0.2, right=0.95, top=0.95)\n",
    "\n",
    "ax1 = plt.subplot(211)\n",
    "plot_boxes(\"train_erisk\", ax1)\n",
    "plt.xlim(0.5,6.5)\n",
    "plt.grid(False); plt.title(\"\"); plt.suptitle(\"\");\n",
    "plt.ylabel(\"Empirical Risk\")\n",
    "plt.xlabel(\"\")\n",
    "plt.tick_params(\n",
    "    axis='x',          # changes apply to the x-axis\n",
    "    which='both',      # both major and minor ticks are affected\n",
    "    bottom=False,      # ticks along the bottom edge are off\n",
    "    top=False,         # ticks along the top edge are off\n",
    "    labelbottom=False) # labels along the bottom edge are off\n",
    "\n",
    "\n",
    "ax2 = plt.subplot(212, sharex=ax1)\n",
    "plot_boxes(\"train_qrisk\", ax2)\n",
    "plt.xticks([1,2,3,4,5,6,7], [\"VI\", \"naive\", \"20\", \"50\", \"80\", \"100\"], ha=\"center\", fontsize=22)\n",
    "ax2.annotate('linearized (percentile)', xy=(0.68, -0.22), xytext=(0.68, -0.5), xycoords='axes fraction', \n",
    "            fontsize=18, ha='center', va='bottom',\n",
    "            bbox=dict(boxstyle='square', fc='white', lw=0),\n",
    "            arrowprops=dict(arrowstyle='-[, widthB=6.5, lengthB=0.5', lw=1.0))\n",
    "plt.grid(False); plt.title(\"\"); plt.suptitle(\"\");\n",
    "#plt.yticks([0.39, 0.43], [\"0.39\", \"0.43\"])\n",
    "plt.xlim(0.5,6.5)\n",
    "plt.ylabel(\"$q$Risk($h^*$)\")\n",
    "plt.xlabel(\"\");\n",
    "\n",
    "plt.subplots_adjust(bottom=0.2, left=0.2, right=0.95, top=0.95) \n",
    "plt.savefig(\"mf_expsquared_training.pdf\")\n",
    "plt.show()"
   ]
  },
  {
   "cell_type": "markdown",
   "metadata": {},
   "source": [
    "## Test Data Empirical Risk Reduction"
   ]
  },
  {
   "cell_type": "code",
   "execution_count": 12,
   "metadata": {},
   "outputs": [],
   "source": [
    "dvi = d0[d0.logu==\"vi\"].sort_values(by=\"SEED\")\n",
    "dnaive = d0[d0.logu==\"naive\"].sort_values(by=\"SEED\")\n",
    "dlin20 = d0[(d0.logu==\"linearized\") & (d0.percentile==20.0)].sort_values(by=\"SEED\")\n",
    "dlin50 = d0[(d0.logu==\"linearized\") & (d0.percentile==50.0)].sort_values(by=\"SEED\")\n",
    "dlin80 = d0[(d0.logu==\"linearized\") & (d0.percentile==80.0)].sort_values(by=\"SEED\")\n",
    "dlin100 = d0[(d0.logu==\"linearized\") & (d0.percentile==100.0)].sort_values(by=\"SEED\")"
   ]
  },
  {
   "cell_type": "code",
   "execution_count": 13,
   "metadata": {},
   "outputs": [
    {
     "name": "stdout",
     "output_type": "stream",
     "text": [
      "SHARED_SEEDS= {0, 1, 2, 3, 4, 5, 6, 7, 8, 9, 10}\n"
     ]
    }
   ],
   "source": [
    "SHARED_SEEDS = set(dvi.SEED).intersection(dnaive.SEED).intersection(dlin100.SEED).intersection(dlin20.SEED).intersection(dlin50.SEED).intersection(dlin80.SEED)\n",
    "print(\"SHARED_SEEDS=\",SHARED_SEEDS)\n",
    "dvi = dvi[dvi.SEED.isin(SHARED_SEEDS)].sort_values(by=\"SEED\")\n",
    "dnaive = dnaive[dnaive.SEED.isin(SHARED_SEEDS)].sort_values(by=\"SEED\")\n",
    "dlin20 = dlin20[dlin20.SEED.isin(SHARED_SEEDS)].sort_values(by=\"SEED\")\n",
    "dlin50 = dlin50[dlin50.SEED.isin(SHARED_SEEDS)].sort_values(by=\"SEED\")\n",
    "dlin80 = dlin80[dlin80.SEED.isin(SHARED_SEEDS)].sort_values(by=\"SEED\")\n",
    "dlin100 = dlin100[dlin100.SEED.isin(SHARED_SEEDS)].sort_values(by=\"SEED\")"
   ]
  },
  {
   "cell_type": "code",
   "execution_count": 14,
   "metadata": {},
   "outputs": [
    {
     "name": "stdout",
     "output_type": "stream",
     "text": [
      "NUM SAMPLES USED TO PLOT BOXES: 11 11 11 11 11\n"
     ]
    }
   ],
   "source": [
    "print(\"NUM SAMPLES USED TO PLOT BOXES:\", len(dnaive),len(dlin20), len(dlin50), len(dlin80), len(dlin100))"
   ]
  },
  {
   "cell_type": "code",
   "execution_count": 15,
   "metadata": {},
   "outputs": [],
   "source": [
    "dnaive[\"test_erisk_improvement\"] = -(np.array(dnaive[\"test_erisk\"])-np.array(dvi[\"test_erisk\"]))/np.array(dvi[\"test_erisk\"]) * 100.0\n",
    "dlin20[\"test_erisk_improvement\"] = -(np.array(dlin20[\"test_erisk\"])-np.array(dvi[\"test_erisk\"]))/np.array(dvi[\"test_erisk\"]) * 100.0\n",
    "dlin50[\"test_erisk_improvement\"] = -(np.array(dlin50[\"test_erisk\"])-np.array(dvi[\"test_erisk\"]))/np.array(dvi[\"test_erisk\"]) * 100.0\n",
    "dlin80[\"test_erisk_improvement\"] = -(np.array(dlin80[\"test_erisk\"])-np.array(dvi[\"test_erisk\"]))/np.array(dvi[\"test_erisk\"]) * 100.0\n",
    "dlin100[\"test_erisk_improvement\"] = -(np.array(dlin100[\"test_erisk\"])-np.array(dvi[\"test_erisk\"]))/np.array(dvi[\"test_erisk\"]) * 100.0"
   ]
  },
  {
   "cell_type": "code",
   "execution_count": 16,
   "metadata": {},
   "outputs": [
    {
     "data": {
      "image/png": "[encoded data removed]",
      "text/plain": [
       "<Figure size 460.8x345.6 with 1 Axes>"
      ]
     },
     "metadata": {},
     "output_type": "display_data"
    }
   ],
   "source": [
    "start_plotting(cmbright=False, font_size=17*1.5, left=0.175)\n",
    "\n",
    "bp = plt.boxplot([dnaive[\"test_erisk_improvement\"]], positions=[0], showfliers=False, widths=[0.35], patch_artist=True)\n",
    "fix_colors2(bp, \"salmon\")   \n",
    "\n",
    "bp = plt.boxplot([dlin20[\"test_erisk_improvement\"]], positions=[1], showfliers=False, widths=[0.35], patch_artist=True)\n",
    "fix_colors2(bp, \"salmon\")   \n",
    "\n",
    "\n",
    "bp = plt.boxplot([dlin50[\"test_erisk_improvement\"]], positions=[2], showfliers=False, widths=[0.35], patch_artist=True)\n",
    "fix_colors2(bp, \"salmon\")   \n",
    "\n",
    "\n",
    "bp = plt.boxplot([dlin80[\"test_erisk_improvement\"]], positions=[3], showfliers=False, widths=[0.35], patch_artist=True)\n",
    "fix_colors2(bp, \"salmon\")   \n",
    "\n",
    "\n",
    "bp = plt.boxplot([dlin100[\"test_erisk_improvement\"]], positions=[4], showfliers=False, widths=[0.35], patch_artist=True)\n",
    "fix_colors2(bp, \"salmon\")   \n",
    "\n",
    "    \n",
    "plt.gca().annotate('linearized (percentile)', \n",
    "                   xy=(0.645, 0.115), xytext=(0.645, 0.005), xycoords='figure fraction', \n",
    "            fontsize=25, ha='center', va='bottom',\n",
    "            bbox=dict(boxstyle='square', fc='white', lw=0),\n",
    "            arrowprops=dict(arrowstyle='-[, widthB=5.57, lengthB=0.5', lw=1.0))        \n",
    "    \n",
    "plt.xticks([0,1,2,3,4], [\"naive\", \"20\", \"50\", \"80\", \"100\"], fontsize=25)      \n",
    "plt.xlim(-0.5, 4.5)    \n",
    "plt.axhline(0, color=\"lightgray\", ls=\"--\", lw=1)\n",
    "#plt.ylim(0, 5)\n",
    "plt.ylabel(\"Empirical Risk Reduction ($\\mathcal{I}$) [\\%]\", fontsize=21)\n",
    "plt.savefig(\"mf_expsquared_risk_improvement_test.pdf\")\n",
    "plt.show()"
   ]
  },
  {
   "cell_type": "code",
   "execution_count": null,
   "metadata": {},
   "outputs": [],
   "source": []
  }
 ],
 "metadata": {
  "kernelspec": {
   "display_name": "Python 3",
   "language": "python",
   "name": "python3"
  },
  "language_info": {
   "codemirror_mode": {
    "name": "ipython",
    "version": 3
   },
   "file_extension": ".py",
   "mimetype": "text/x-python",
   "name": "python",
   "nbconvert_exporter": "python",
   "pygments_lexer": "ipython3",
   "version": "3.6.8"
  }
 },
 "nbformat": 4,
 "nbformat_minor": 2
}
