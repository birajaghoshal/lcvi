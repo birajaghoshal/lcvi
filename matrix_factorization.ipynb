{
 "cells": [
  {
   "cell_type": "markdown",
   "metadata": {
    "colab_type": "text",
    "id": "VXY51qRDhBKi"
   },
   "source": [
    "# Matrix Factorization using Last.fm data"
   ]
  },
  {
   "cell_type": "code",
   "execution_count": 1,
   "metadata": {
    "colab": {
     "base_uri": "https://localhost:8080/",
     "height": 35
    },
    "colab_type": "code",
    "id": "AlFFVWP_4IEQ",
    "outputId": "b23bbaf8-99ff-4ce5-f98f-b5e5d37c2cb9"
   },
   "outputs": [
    {
     "name": "stdout",
     "output_type": "stream",
     "text": [
      "Requirement already satisfied: torch in /home/local/anonymized/anaconda3/lib/python3.6/site-packages (1.0.0)\n",
      "Requirement already satisfied: seaborn in /home/local/anonymized/anaconda3/lib/python3.6/site-packages (0.8.1)\n",
      "Requirement already satisfied: matplotlib in /home/local/anonymized/anaconda3/lib/python3.6/site-packages (2.1.2)\n",
      "Requirement already satisfied: pandas in /home/local/anonymized/anaconda3/lib/python3.6/site-packages (0.22.0)\n",
      "Requirement already satisfied: numpy in /home/local/anonymized/anaconda3/lib/python3.6/site-packages (1.14.2)\n",
      "Requirement already satisfied: scipy in /home/local/anonymized/anaconda3/lib/python3.6/site-packages (from seaborn) (1.0.0)\n",
      "Requirement already satisfied: six>=1.10 in /home/local/anonymized/anaconda3/lib/python3.6/site-packages (from matplotlib) (1.11.0)\n",
      "Requirement already satisfied: python-dateutil>=2.1 in /home/local/anonymized/anaconda3/lib/python3.6/site-packages (from matplotlib) (2.6.1)\n",
      "Requirement already satisfied: pytz in /home/local/anonymized/anaconda3/lib/python3.6/site-packages (from matplotlib) (2017.3)\n",
      "Requirement already satisfied: cycler>=0.10 in /home/local/anonymized/anaconda3/lib/python3.6/site-packages (from matplotlib) (0.10.0)\n",
      "Requirement already satisfied: pyparsing!=2.0.4,!=2.1.2,!=2.1.6,>=2.0.1 in /home/local/anonymized/anaconda3/lib/python3.6/site-packages (from matplotlib) (2.2.0)\n",
      "\u001b[33mYou are using pip version 18.0, however version 18.1 is available.\n",
      "You should consider upgrading via the 'pip install --upgrade pip' command.\u001b[0m\n"
     ]
    }
   ],
   "source": [
    "!pip install torch seaborn matplotlib pandas numpy"
   ]
  },
  {
   "cell_type": "code",
   "execution_count": 2,
   "metadata": {
    "colab": {},
    "colab_type": "code",
    "id": "XovyapF640zV"
   },
   "outputs": [],
   "source": [
    "import math\n",
    "import time\n",
    "import sys\n",
    "\n",
    "import numpy as np\n",
    "import pandas as pd\n",
    "\n",
    "import torch\n",
    "from torch.distributions import Normal\n",
    "from torch.nn.functional import softplus"
   ]
  },
  {
   "cell_type": "code",
   "execution_count": 3,
   "metadata": {
    "colab": {
     "base_uri": "https://localhost:8080/",
     "height": 35
    },
    "colab_type": "code",
    "id": "vtjkOrxIg4-O",
    "outputId": "8eab1b5a-e9f0-42af-a811-ae77658239c7"
   },
   "outputs": [
    {
     "name": "stdout",
     "output_type": "stream",
     "text": [
      "Using CPU\n"
     ]
    }
   ],
   "source": [
    "if torch.cuda.is_available():\n",
    "    torch.set_default_tensor_type('torch.cuda.FloatTensor')\n",
    "    env = torch.cuda\n",
    "    device = torch.device('cuda')\n",
    "    print(\"Using GPU\")\n",
    "else:\n",
    "    torch.set_default_tensor_type('torch.FloatTensor')\n",
    "    env = torch\n",
    "    device = torch.device('cpu')\n",
    "    print(\"Using CPU\")"
   ]
  },
  {
   "cell_type": "code",
   "execution_count": 4,
   "metadata": {},
   "outputs": [],
   "source": [
    "from aux import *\n",
    "from aux_plt import *\n",
    "%matplotlib inline\n",
    "import warnings\n",
    "warnings.filterwarnings(\"ignore\")"
   ]
  },
  {
   "cell_type": "code",
   "execution_count": 5,
   "metadata": {},
   "outputs": [],
   "source": [
    "from losses import *\n",
    "from log_utility import *"
   ]
  },
  {
   "cell_type": "markdown",
   "metadata": {
    "colab_type": "text",
    "id": "I8U6zMr5nIdl"
   },
   "source": [
    "# Configuration"
   ]
  },
  {
   "cell_type": "markdown",
   "metadata": {},
   "source": [
    "To run standard VI change UTILITY_TERM to \"vi\"."
   ]
  },
  {
   "cell_type": "code",
   "execution_count": 6,
   "metadata": {},
   "outputs": [],
   "source": [
    "# optimization general parmeters\n",
    "SEED = 0\n",
    "NITER  = 70000 # number of iterations - around 70k is the right number for mininbatch=10\n",
    "LR = 0.001 # 0.1 is the right number for the full batch, 0.001 advised for mininbatch=10\n",
    "MINIBATCH = 10 # how many rows of the matrix in minibatch\n",
    "\n",
    "# model\n",
    "K = 20 # number of latent variables\n",
    "\n",
    "# number of samples used to approximate ELBO term\n",
    "NSAMPLES = 11\n",
    "\n",
    "# selected loss: tilted/squared \n",
    "#  you can also put \"exptilted\" (that is in [0,1]), but then fix M=1.25\n",
    "#  and UTILITY_TERM_SCALE=1/1.25 for linearized and UTILITY_TERM_SCALE=1 otherwise\n",
    "#  also change FIND_H=num-util and EVAL_SKIP_GAIN=False to get an appropriate evaluation\n",
    "LOSS = \"tilted\" \n",
    "TILTED_Q = 0.2 \n",
    "# loss-to-utility transformation (bigM: utility=M-loss / id: utility=-loss)\n",
    "UTIL = \"bigM\"\n",
    "M = 10000.0 if UTIL.lower()==\"bigm\" else 1.0\n",
    "\n",
    "# constructing an approximation to the utility-dependent term:\n",
    "UTILITY_TERM = \"naive\" # vi/naive/linearized/jensen\n",
    "# the utility-dependent term is multiplied by this value: \n",
    "#  should be 1/M for linearized and M for the others\n",
    "UTILITY_TERM_SCALE = (1.0 if \"linearized\" in UTILITY_TERM else M)  #for linearized we use U~=-risk \n",
    "# how many samples of latent variables\n",
    "NSAMPLES_UTILITY_TERM_THETA = 31\n",
    "# how many samples of y for each latent variable\n",
    "NSAMPLES_UTILITY_TERM_Y = 11\n",
    "# update gradients of the utility term in every x iterations\n",
    "UTILITY_TERM_EVERY_NITER = 1\n",
    "\n",
    "# finding optimal h:\n",
    "#  analytical - use Bayes estimator / num - optimize numerically gain / \n",
    "#  num-util - optimize numerically a selected approximation to the utility-dependent term.\n",
    "FIND_H = \"analytical\"\n",
    "# choose an approximation to the utility-dependent term, by default == UTILITY_TERM\n",
    "H_UTILITY_AGGREGATOR = UTILITY_TERM\n",
    "# respectively, the number of theta and y samples used when optimizing for h; \n",
    "#  by default the same as for UTILITY_TERM\n",
    "H_NSAMPLES_UTILITY_TERM_THETA = NSAMPLES_UTILITY_TERM_THETA\n",
    "H_NSAMPLES_UTILITY_TERM_Y = NSAMPLES_UTILITY_TERM_Y\n",
    "\n",
    "# parameters of the numerical optimizer used to find the optimal h\n",
    "H_NUMERICAL_MAX_NITER =  1000\n",
    "H_NUMERICAL_MAX_NITER_TOL = 0.001\n",
    "H_NUMERICAL_MAX_NITER_TOL_GOAL = -1\n",
    "H_NUMERICAL_LR = 0.1\n",
    "H_NUMERICAL_OPT_SCIPY = False\n",
    "H_NUMERICAL_START_FROM_PREVIOUS = False\n",
    "\n",
    "# how often to evaulate (=report losses and (optionally) gains)\n",
    "EVAL_NITER = 1000\n",
    "# should we skip the evaluation in terms of gains \n",
    "#  (obtained via numerical optimization) and just rely on risks\n",
    "EVAL_SKIP_GAIN = True\n",
    "\n",
    "# evaluation parameters (these numbers should be sufficently large \n",
    "# if we want to trust our evaluation):\n",
    "#  number of samples of latent variables\n",
    "EVAL_NSAMPLES_UTILITY_TERM_THETA = 100\n",
    "#  number of samples of y for each latent variable\n",
    "EVAL_NSAMPLES_UTILITY_TERM_Y = 1\n",
    "# parameters of the numerical optimization w.r.t. h used in evaluation\n",
    "EVAL_MAX_NITER = 20000\n",
    "EVAL_SGD_PREC = 0.0001\n",
    "EVAL_UTIL = UTIL # loss-to-utility transformation used to evaluate gain, by default == UTIL\n",
    "\n",
    "################################################################################  "
   ]
  },
  {
   "cell_type": "markdown",
   "metadata": {
    "colab_type": "text",
    "id": "gIOoOPjF5mnS"
   },
   "source": [
    "# Data"
   ]
  },
  {
   "cell_type": "code",
   "execution_count": 7,
   "metadata": {},
   "outputs": [],
   "source": [
    "def lastfm_data(N=1000, D=100, url=\"lastfm_data.csv\"):    \n",
    "    \"\"\"LastFm views.\"\"\"\n",
    "    df = pd.read_csv(url, header=None)\n",
    "    x_ = df.values #users in rows, artists in colums\n",
    "    x_ = x_[:N, :D]\n",
    "    N, D = x_.shape\n",
    "\n",
    "    x_ = np.log(1+x_)\n",
    "    mask_ = np.ones( (N,D), dtype=bool) #non-missing values\n",
    "    return x_, mask_"
   ]
  },
  {
   "cell_type": "code",
   "execution_count": 8,
   "metadata": {
    "colab": {
     "base_uri": "https://localhost:8080/",
     "height": 35
    },
    "colab_type": "code",
    "id": "tg8mao08dgD6",
    "outputId": "ad6bf1a0-5949-450d-97bc-ec5dc3fc9e1c"
   },
   "outputs": [],
   "source": [
    "# Prepares data to work with pytorch\n",
    "x_, mask_ = lastfm_data()\n",
    "x    = torch.tensor(x_, dtype = torch.float, requires_grad=False)\n",
    "mask = torch.tensor(mask_.astype(np.uint8)).type(env.ByteTensor) # non-missing values\n",
    "N, D = x.shape"
   ]
  },
  {
   "cell_type": "markdown",
   "metadata": {
    "colab_type": "text",
    "id": "RoZZxP7eajVI"
   },
   "source": [
    "## Training vs. test split"
   ]
  },
  {
   "cell_type": "code",
   "execution_count": 9,
   "metadata": {},
   "outputs": [],
   "source": [
    "def random_mask(x, testing_prob=0.5, seed=123): \n",
    "    np.random.seed(seed)\n",
    "    N, D = x.shape\n",
    "    testing_mask = np.random.choice([0, 1], (N, D), (1.0-testing_prob, testing_prob))\n",
    "    training_mask = np.ones((N, D))-testing_mask\n",
    "    return training_mask, testing_mask"
   ]
  },
  {
   "cell_type": "code",
   "execution_count": 10,
   "metadata": {
    "colab": {
     "base_uri": "https://localhost:8080/",
     "height": 35
    },
    "colab_type": "code",
    "id": "EOiMeO0RejhX",
    "outputId": "cca137eb-0dfd-4f9f-8444-fcffc3c589d6"
   },
   "outputs": [],
   "source": [
    "# Prepares masks to work with pytorch\n",
    "training_mask, testing_mask = random_mask(x)\n",
    "training_mask = torch.tensor((training_mask*mask_).astype(np.uint8)).type(env.ByteTensor)\n",
    "testing_mask  = torch.tensor((testing_mask*mask_).astype(np.uint8)).type(env.ByteTensor)\n",
    "N, D = training_mask.shape"
   ]
  },
  {
   "cell_type": "markdown",
   "metadata": {
    "colab_type": "text",
    "id": "_A7LUjFe5oRV"
   },
   "source": [
    "# Model"
   ]
  },
  {
   "cell_type": "code",
   "execution_count": 11,
   "metadata": {
    "colab": {},
    "colab_type": "code",
    "id": "EEiYPfIH78nk"
   },
   "outputs": [],
   "source": [
    "def jacobian_softplus(x):\n",
    "       return 1.0/(1.0 + torch.exp(-x))\n",
    "    \n",
    "    \n",
    "def model_log_prob(x, w, z, mask=None, sgd_scale=1.0):\n",
    "    if mask is None: mask = torch.ones_like(x).type(env.ByteTensor)\n",
    "    \n",
    "    xhat = z.matmul(w)\n",
    "    likelihood = Normal(xhat, 1.) \n",
    "    prior = Normal(0, 10)\n",
    "    assert likelihood.loc.shape[1: ] == x.shape\n",
    "    \n",
    "    return torch.masked_select(likelihood.log_prob(x), mask).sum()*sgd_scale \\\n",
    "            + prior.log_prob(w).sum() + prior.log_prob(z).sum()*sgd_scale"
   ]
  },
  {
   "cell_type": "markdown",
   "metadata": {},
   "source": [
    "## Sampling from posterior predictive distribution"
   ]
  },
  {
   "cell_type": "code",
   "execution_count": 12,
   "metadata": {},
   "outputs": [],
   "source": [
    "def sample_predictive_y0(qw, qz, \n",
    "                        nsamples_theta=NSAMPLES_UTILITY_TERM_THETA, \n",
    "                        nsamples_y=NSAMPLES_UTILITY_TERM_Y):  \n",
    "    \"\"\" Returns a tensor with samples     \n",
    "        (nsamples_y samples of y for each theta x \n",
    "         nsamples_theta samples of latent variables).\"\"\"\n",
    "    w = qw.rsample(torch.Size([nsamples_theta]))\n",
    "    z = qz.rsample(torch.Size([nsamples_theta]))    \n",
    "    \n",
    "    xhat = z.matmul(w)\n",
    "    likelihood = Normal(xhat, 1.)\n",
    "    y_samples = likelihood.rsample(torch.Size([nsamples_y]))\n",
    "    return y_samples\n",
    "\n",
    "\n",
    "def sample_predictive_y(qw, qz, \n",
    "                        nsamples_theta=NSAMPLES_UTILITY_TERM_THETA, \n",
    "                        nsamples_y=NSAMPLES_UTILITY_TERM_Y):  \n",
    "    \"\"\" Returns a tensor with samples (nsamples_y x nsamples_theta).\n",
    "        Flattents the first two dimensions \n",
    "        (samples of y for different thetas) from sample_predictive_y0.\n",
    "    \"\"\"\n",
    "    return flatten_first_two_dims(sample_predictive_y0(qw, qz, nsamples_theta, nsamples_y))"
   ]
  },
  {
   "cell_type": "markdown",
   "metadata": {
    "colab_type": "text",
    "id": "XNwqmrNAnkXm"
   },
   "source": [
    "# Configuring utility-dependent term and optimization w.r.t. h"
   ]
  },
  {
   "cell_type": "code",
   "execution_count": 13,
   "metadata": {},
   "outputs": [
    {
     "name": "stdout",
     "output_type": "stream",
     "text": [
      "[LossFactory] Configuration: TILTED_Q=0.2 LINEX_C=None\n",
      "[utility-dependent term] <tilted> loss: tilted_loss_fixedq with (analytical) h: tilted_optimal_h_fixedq\n",
      "[UtilityFactory] Configuration: M=10000.0\n",
      "[utility-dependent term] utility: ubigM\n",
      "[utility-dependent term] h utility aggregator: utility_term_naive\n",
      "[HOptimizerFactory] Configuration: H_NSAMPLES_UTILITY_TERM_THETA=31 H_NSAMPLES_UTILITY_TERM_Y=11 H_NUMERICAL_MAX_NITER=1000 H_NUMERICAL_MAX_NITER_TOL=0.001 H_NUMERICAL_MAX_NITER_TOL_GOAL=-1 H_NUMERICAL_LR=0.1 H_NUMERICAL_START_FROM_PREVIOUS=False sample_predictive_y0=sample_predictive_y0 sample_predictive_y_IS=None\n",
      "[HOptimizerFactory] Using PyTorch numerical optimization.\n",
      "[utility-dependent term] h optimizer: optimize_h_analytically\n"
     ]
    }
   ],
   "source": [
    "# mask used to select points to the utility-dependent term: use only training data\n",
    "utility_term_mask = training_mask \n",
    "\n",
    "loss, optimal_h = LossFactory(**globals()).create(LOSS)\n",
    "print2(\"[utility-dependent term] <%s> loss: %s with (analytical) h: %s\" % \n",
    "       (LOSS, loss.__name__, optimal_h.__name__))\n",
    "        \n",
    "u = UtilityFactory(**globals()).create(UTIL, loss)\n",
    "print2(\"[utility-dependent term] utility: %s\" % u.__name__)\n",
    "        \n",
    "UTILITY_AGGREGATOR = UtilityAggregatorFactory().create(H_UTILITY_AGGREGATOR)\n",
    "print2(\"[utility-dependent term] h utility aggregator: %s\" % UTILITY_AGGREGATOR.__name__)\n",
    "        \n",
    "H_OPTIMIZER =  HOptimizerFactory(**globals()).create(FIND_H, u=u, optimal_h=optimal_h, \n",
    "                                                     utility_aggregator=UTILITY_AGGREGATOR)\n",
    "print2(\"[utility-dependent term] h optimizer: %s\" % H_OPTIMIZER.__name__)        \n",
    "        \n",
    "#utility_term = UtilityDependentTermFactory(**globals()).create(UTILITY_TERM, u)\n",
    "#print2(\"utility-dependent term: %s\" % utility_term.__name__)"
   ]
  },
  {
   "cell_type": "markdown",
   "metadata": {
    "colab_type": "text",
    "id": "FWjGzxf5mmEr"
   },
   "source": [
    "# Evaluation"
   ]
  },
  {
   "cell_type": "markdown",
   "metadata": {},
   "source": [
    "To evaluate risks we rely on Bayes estimators whereas for gains we use numerical optimization."
   ]
  },
  {
   "cell_type": "code",
   "execution_count": 14,
   "metadata": {},
   "outputs": [],
   "source": [
    "def bayes_risk(qw, qz, mask=None):   \n",
    "    \"\"\"Risk coming from data predictive posteriors.\"\"\"    \n",
    "    print(\" evaluating risk (using Bayes estimator)\")\n",
    "    N, D = qz.loc.shape[0], qw.loc.shape[1]\n",
    "    if mask is None: \n",
    "        print2(\"[bayes_risk] WARNING: using default all-data mask.\")\n",
    "        mask = torch.ones((N,D)).type(env.ByteTensor)\n",
    "    \n",
    "    ys = sample_predictive_y(qw, qz, \n",
    "                             EVAL_NSAMPLES_UTILITY_TERM_THETA, \n",
    "                             EVAL_NSAMPLES_UTILITY_TERM_Y)\n",
    "    h = optimal_h(ys)\n",
    "    \n",
    "    ys = sample_predictive_y(qw, qz, \n",
    "                             EVAL_NSAMPLES_UTILITY_TERM_THETA, \n",
    "                             EVAL_NSAMPLES_UTILITY_TERM_Y) #resample    \n",
    "    assert h.shape==ys.shape[1: ]\n",
    "    lu = torch.masked_select(loss(h, ys), mask).mean()    \n",
    "    return lu\n",
    "\n",
    "\n",
    "\n",
    "def data_loss(x, qw, qz, mask=None):\n",
    "    \"\"\"Empirical risk.\"\"\"\n",
    "    print(\" evaluating empirical risk (using Bayes estimator)\")\n",
    "    if mask is None: \n",
    "        print2(\"[data_loss] WARNING: using default all-data mask.\")        \n",
    "        mask = torch.ones_like(x).type(env.ByteTensor)\n",
    "        \n",
    "    ys = sample_predictive_y(qw, qz, \n",
    "                             EVAL_NSAMPLES_UTILITY_TERM_THETA, \n",
    "                             EVAL_NSAMPLES_UTILITY_TERM_Y)\n",
    "    h = optimal_h(ys)\n",
    "    \n",
    "    assert h.shape==x.shape\n",
    "    lu = torch.masked_select(loss(h, x), mask).mean()\n",
    "    return lu"
   ]
  },
  {
   "cell_type": "code",
   "execution_count": 15,
   "metadata": {},
   "outputs": [
    {
     "name": "stdout",
     "output_type": "stream",
     "text": [
      "[UtilityFactory] Configuration: M=10000.0\n",
      "Evaluation using utility: ubigM\n"
     ]
    }
   ],
   "source": [
    "evalu = UtilityFactory(M=M).create(EVAL_UTIL.lower(), loss)\n",
    "print2(\"Evaluation using utility: %s\" % evalu.__name__)\n",
    "\n",
    "\n",
    "def bayes_gain(qw, qz, mask=None):    \n",
    "    \"\"\"Gain coming from data predictive posteriors.\"\"\"    \n",
    "    print(\" evaluating gain (numerically)\")\n",
    "    N, D = qz.loc.shape[0], qw.loc.shape[1]\n",
    "    if mask is None: \n",
    "        print2(\"[bayes_gain] WARNING: using default all-data mask.\")\n",
    "        mask = torch.ones((N,D)).type(env.ByteTensor)\n",
    "    \n",
    "    ys = sample_predictive_y(qw, qz, \n",
    "                             EVAL_NSAMPLES_UTILITY_TERM_THETA, \n",
    "                             EVAL_NSAMPLES_UTILITY_TERM_Y)        \n",
    "    h = optimal_h_numerically(ys, evalu, data_mask=mask, \n",
    "                            start=optimal_h(ys), \n",
    "                            max_niter=EVAL_MAX_NITER, tol=EVAL_SGD_PREC, \n",
    "                            tol_goal=-1, verbose=False, lr=0.01)\n",
    "    \n",
    "    ys = sample_predictive_y(qw, qz, \n",
    "                             EVAL_NSAMPLES_UTILITY_TERM_THETA, \n",
    "                             EVAL_NSAMPLES_UTILITY_TERM_Y) #resample    \n",
    "    assert h.shape==ys.shape[1: ]\n",
    "    lu = torch.masked_select(evalu(h, ys), mask).mean()    \n",
    "    return lu\n",
    "\n",
    "\n",
    "def data_util(x, qw, qz, mask=None):\n",
    "    \"\"\"Empirical gain.\"\"\"   \n",
    "    print(\" evaluating empirical gain (numerically)\")\n",
    "    if mask is None: \n",
    "        print2(\"[data_util] WARNING: using default all-data mask.\")        \n",
    "        mask = torch.ones_like(x).type(env.ByteTensor)\n",
    "        \n",
    "    ys = sample_predictive_y(qw, qz, \n",
    "                             EVAL_NSAMPLES_UTILITY_TERM_THETA, \n",
    "                             EVAL_NSAMPLES_UTILITY_TERM_Y)\n",
    "    h = optimal_h_numerically(ys, evalu, data_mask=mask, \n",
    "                            start=optimal_h(ys), \n",
    "                            max_niter=EVAL_MAX_NITER, tol=EVAL_SGD_PREC, \n",
    "                            tol_goal=-1, verbose=False, lr=0.01)\n",
    "    \n",
    "    assert h.shape==x.shape\n",
    "    lu = torch.masked_select(evalu(h, x), mask).mean()\n",
    "    return lu"
   ]
  },
  {
   "cell_type": "code",
   "execution_count": 16,
   "metadata": {},
   "outputs": [
    {
     "name": "stdout",
     "output_type": "stream",
     "text": [
      "REMARK: The evaluation in terms of gain and empirical gain will not be performed!\n"
     ]
    }
   ],
   "source": [
    "if EVAL_SKIP_GAIN:\n",
    "    print(\"REMARK: The evaluation in terms of gain and empirical gain will not be performed!\")\n",
    "    \n",
    "    def bayes_gain(*args, **kwargs):    \n",
    "        return torch.tensor(0.0)\n",
    "\n",
    "    def data_util(*args, **kwargs):\n",
    "        return torch.tensor(0.0)"
   ]
  },
  {
   "cell_type": "markdown",
   "metadata": {
    "colab_type": "text",
    "id": "tL-APJkv5sqA"
   },
   "source": [
    "# LCVI/VI"
   ]
  },
  {
   "cell_type": "code",
   "execution_count": 17,
   "metadata": {
    "colab": {},
    "colab_type": "code",
    "id": "XOHl5yGBiNwr"
   },
   "outputs": [],
   "source": [
    "torch.manual_seed(SEED)\n",
    "\n",
    "qz_loc = torch.randn([N, K], requires_grad=True)\n",
    "qz_scale = torch.randn([N, K], requires_grad=True)\n",
    "qw_loc = torch.randn([K, D], requires_grad=True)\n",
    "qw_scale = torch.randn([K, D], requires_grad=True)\n",
    "\n",
    "optimizer = torch.optim.Adam([qw_loc, qw_scale, qz_loc, qz_scale], lr=LR)\n",
    "\n",
    "report = []"
   ]
  },
  {
   "cell_type": "code",
   "execution_count": 18,
   "metadata": {
    "colab": {},
    "colab_type": "code",
    "id": "uyKMGgyh8b1X"
   },
   "outputs": [
    {
     "name": "stdout",
     "output_type": "stream",
     "text": [
      "[0.00s] 0. iteration\n",
      "[0.13s] 1. iteration\n",
      "[0.27s] 2. iteration\n",
      "[0.43s] 3. iteration\n",
      "[0.59s] 4. iteration\n",
      "[0.77s] 5. iteration\n",
      "[0.91s] 6. iteration\n",
      "[1.03s] 7. iteration\n",
      "[1.20s] 8. iteration\n",
      "[1.38s] 9. iteration\n",
      "[69.44s] 500. iteration\n",
      "[146.02s] 1000. iteration\n",
      "evaluating (performed on the full data batch; may take some time)...\n",
      " evaluating risk (using Bayes estimator)\n",
      " evaluating empirical risk (using Bayes estimator)\n",
      " evaluating risk (using Bayes estimator)\n",
      " evaluating empirical risk (using Bayes estimator)\n",
      "[146.1s][utility_naive][0][1000] elbo: -852990.81;   TRAINING: rmse:35.0897  risk:1.3436 empirical_risk:1.0643 \t\t\t                 gain:skipped empirical_gain:skipped;   TEST: rmse:35.5919  risk: 1.349976 empirical: 1.0782 \t\t\t                 gain:skipped empirical_gain:skipped qw:-0.004+/-0.572 qz:-0.011+/-0.771\n",
      "[220.92s] 1500. iteration\n",
      "[261.93s] 2000. iteration\n",
      "evaluating (performed on the full data batch; may take some time)...\n",
      " evaluating risk (using Bayes estimator)\n",
      " evaluating empirical risk (using Bayes estimator)\n",
      " evaluating risk (using Bayes estimator)\n",
      " evaluating empirical risk (using Bayes estimator)\n",
      "[262.0s][utility_naive][0][2000] elbo: -551087.50;   TRAINING: rmse:17.0722  risk:0.9330 empirical_risk:0.7877 \t\t\t                 gain:skipped empirical_gain:skipped;   TEST: rmse:17.5457  risk: 0.935161 empirical: 0.7945 \t\t\t                 gain:skipped empirical_gain:skipped qw:-0.005+/-0.426 qz:-0.011+/-0.751\n",
      "[277.53s] 2500. iteration\n",
      "[294.55s] 3000. iteration\n",
      "evaluating (performed on the full data batch; may take some time)...\n",
      " evaluating risk (using Bayes estimator)\n",
      " evaluating empirical risk (using Bayes estimator)\n",
      " evaluating risk (using Bayes estimator)\n",
      " evaluating empirical risk (using Bayes estimator)\n",
      "[294.6s][utility_naive][0][3000] elbo: -314222.28;   TRAINING: rmse:10.0817  risk:0.6871 empirical_risk:0.6288 \t\t\t                 gain:skipped empirical_gain:skipped;   TEST: rmse:10.4658  risk: 0.691122 empirical: 0.6354 \t\t\t                 gain:skipped empirical_gain:skipped qw:-0.006+/-0.325 qz:-0.012+/-0.737\n",
      "[311.73s] 3500. iteration\n",
      "[327.69s] 4000. iteration\n",
      "evaluating (performed on the full data batch; may take some time)...\n",
      " evaluating risk (using Bayes estimator)\n",
      " evaluating empirical risk (using Bayes estimator)\n",
      " evaluating risk (using Bayes estimator)\n",
      " evaluating empirical risk (using Bayes estimator)\n",
      "[327.7s][utility_naive][0][4000] elbo: -222674.39;   TRAINING: rmse:7.1844  risk:0.5382 empirical_risk:0.5408 \t\t\t                 gain:skipped empirical_gain:skipped;   TEST: rmse:7.4218  risk: 0.540367 empirical: 0.5464 \t\t\t                 gain:skipped empirical_gain:skipped qw:-0.007+/-0.252 qz:-0.013+/-0.729\n",
      "[344.73s] 4500. iteration\n",
      "[359.31s] 5000. iteration\n",
      "evaluating (performed on the full data batch; may take some time)...\n",
      " evaluating risk (using Bayes estimator)\n",
      " evaluating empirical risk (using Bayes estimator)\n",
      " evaluating risk (using Bayes estimator)\n",
      " evaluating empirical risk (using Bayes estimator)\n",
      "[359.3s][utility_naive][0][5000] elbo: -231408.55;   TRAINING: rmse:5.9122  risk:0.4509 empirical_risk:0.4840 \t\t\t                 gain:skipped empirical_gain:skipped;   TEST: rmse:6.1276  risk: 0.451134 empirical: 0.4869 \t\t\t                 gain:skipped empirical_gain:skipped qw:-0.009+/-0.197 qz:-0.015+/-0.726\n",
      "[376.98s] 5500. iteration\n",
      "[394.02s] 6000. iteration\n",
      "evaluating (performed on the full data batch; may take some time)...\n",
      " evaluating risk (using Bayes estimator)\n",
      " evaluating empirical risk (using Bayes estimator)\n",
      " evaluating risk (using Bayes estimator)\n",
      " evaluating empirical risk (using Bayes estimator)\n",
      "[394.1s][utility_naive][0][6000] elbo: -263220.44;   TRAINING: rmse:4.8797  risk:0.4014 empirical_risk:0.4369 \t\t\t                 gain:skipped empirical_gain:skipped;   TEST: rmse:5.0474  risk: 0.401886 empirical: 0.4394 \t\t\t                 gain:skipped empirical_gain:skipped qw:-0.011+/-0.157 qz:-0.019+/-0.725\n",
      "[412.08s] 6500. iteration\n",
      "[429.55s] 7000. iteration\n",
      "evaluating (performed on the full data batch; may take some time)...\n",
      " evaluating risk (using Bayes estimator)\n",
      " evaluating empirical risk (using Bayes estimator)\n",
      " evaluating risk (using Bayes estimator)\n",
      " evaluating empirical risk (using Bayes estimator)\n",
      "[429.6s][utility_naive][0][7000] elbo: -209208.64;   TRAINING: rmse:4.2145  risk:0.3780 empirical_risk:0.3889 \t\t\t                 gain:skipped empirical_gain:skipped;   TEST: rmse:4.3626  risk: 0.379216 empirical: 0.3919 \t\t\t                 gain:skipped empirical_gain:skipped qw:-0.013+/-0.126 qz:-0.022+/-0.727\n",
      "[448.20s] 7500. iteration\n",
      "[462.10s] 8000. iteration\n",
      "evaluating (performed on the full data batch; may take some time)...\n",
      " evaluating risk (using Bayes estimator)\n",
      " evaluating empirical risk (using Bayes estimator)\n",
      " evaluating risk (using Bayes estimator)\n",
      " evaluating empirical risk (using Bayes estimator)\n",
      "[462.1s][utility_naive][0][8000] elbo: -191378.69;   TRAINING: rmse:3.6767  risk:0.3672 empirical_risk:0.3505 \t\t\t                 gain:skipped empirical_gain:skipped;   TEST: rmse:3.8006  risk: 0.367950 empirical: 0.3545 \t\t\t                 gain:skipped empirical_gain:skipped qw:-0.014+/-0.102 qz:-0.024+/-0.728\n",
      "[479.73s] 8500. iteration\n",
      "[497.29s] 9000. iteration\n",
      "evaluating (performed on the full data batch; may take some time)...\n",
      " evaluating risk (using Bayes estimator)\n",
      " evaluating empirical risk (using Bayes estimator)\n",
      " evaluating risk (using Bayes estimator)\n",
      " evaluating empirical risk (using Bayes estimator)\n",
      "[497.3s][utility_naive][0][9000] elbo: -192504.45;   TRAINING: rmse:3.1424  risk:0.3588 empirical_risk:0.3272 \t\t\t                 gain:skipped empirical_gain:skipped;   TEST: rmse:3.3058  risk: 0.359419 empirical: 0.3327 \t\t\t                 gain:skipped empirical_gain:skipped qw:-0.014+/-0.084 qz:-0.025+/-0.729\n",
      "[515.53s] 9500. iteration\n",
      "[529.45s] 10000. iteration\n",
      "evaluating (performed on the full data batch; may take some time)...\n",
      " evaluating risk (using Bayes estimator)\n",
      " evaluating empirical risk (using Bayes estimator)\n",
      " evaluating risk (using Bayes estimator)\n",
      " evaluating empirical risk (using Bayes estimator)\n",
      "[529.5s][utility_naive][0][10000] elbo: -162691.66;   TRAINING: rmse:2.8427  risk:0.3497 empirical_risk:0.3155 \t\t\t                 gain:skipped empirical_gain:skipped;   TEST: rmse:2.9961  risk: 0.349888 empirical: 0.3223 \t\t\t                 gain:skipped empirical_gain:skipped qw:-0.013+/-0.070 qz:-0.024+/-0.730\n",
      "[544.03s] 10500. iteration\n",
      "[556.61s] 11000. iteration\n",
      "evaluating (performed on the full data batch; may take some time)...\n",
      " evaluating risk (using Bayes estimator)\n",
      " evaluating empirical risk (using Bayes estimator)\n",
      " evaluating risk (using Bayes estimator)\n",
      " evaluating empirical risk (using Bayes estimator)\n",
      "[556.6s][utility_naive][0][11000] elbo: -193326.64;   TRAINING: rmse:2.6630  risk:0.3421 empirical_risk:0.3104 \t\t\t                 gain:skipped empirical_gain:skipped;   TEST: rmse:2.8514  risk: 0.342670 empirical: 0.3188 \t\t\t                 gain:skipped empirical_gain:skipped qw:-0.011+/-0.060 qz:-0.023+/-0.733\n",
      "[573.16s] 11500. iteration\n",
      "[587.79s] 12000. iteration\n",
      "evaluating (performed on the full data batch; may take some time)...\n",
      " evaluating risk (using Bayes estimator)\n",
      " evaluating empirical risk (using Bayes estimator)\n",
      " evaluating risk (using Bayes estimator)\n",
      " evaluating empirical risk (using Bayes estimator)\n",
      "[587.8s][utility_naive][0][12000] elbo: -171769.12;   TRAINING: rmse:2.4992  risk:0.3357 empirical_risk:0.3074 \t\t\t                 gain:skipped empirical_gain:skipped;   TEST: rmse:2.6882  risk: 0.336141 empirical: 0.3176 \t\t\t                 gain:skipped empirical_gain:skipped qw:-0.009+/-0.052 qz:-0.022+/-0.737\n",
      "[604.89s] 12500. iteration\n",
      "[622.37s] 13000. iteration\n",
      "evaluating (performed on the full data batch; may take some time)...\n",
      " evaluating risk (using Bayes estimator)\n",
      " evaluating empirical risk (using Bayes estimator)\n",
      " evaluating risk (using Bayes estimator)\n",
      " evaluating empirical risk (using Bayes estimator)\n",
      "[622.4s][utility_naive][0][13000] elbo: -145147.72;   TRAINING: rmse:2.4162  risk:0.3309 empirical_risk:0.3054 \t\t\t                 gain:skipped empirical_gain:skipped;   TEST: rmse:2.6065  risk: 0.331497 empirical: 0.3170 \t\t\t                 gain:skipped empirical_gain:skipped qw:-0.009+/-0.046 qz:-0.021+/-0.743\n"
     ]
    },
    {
     "name": "stdout",
     "output_type": "stream",
     "text": [
      "[639.44s] 13500. iteration\n",
      "[654.57s] 14000. iteration\n",
      "evaluating (performed on the full data batch; may take some time)...\n",
      " evaluating risk (using Bayes estimator)\n",
      " evaluating empirical risk (using Bayes estimator)\n",
      " evaluating risk (using Bayes estimator)\n",
      " evaluating empirical risk (using Bayes estimator)\n",
      "[654.6s][utility_naive][0][14000] elbo: -144312.59;   TRAINING: rmse:2.3151  risk:0.3276 empirical_risk:0.3035 \t\t\t                 gain:skipped empirical_gain:skipped;   TEST: rmse:2.5328  risk: 0.328489 empirical: 0.3164 \t\t\t                 gain:skipped empirical_gain:skipped qw:-0.008+/-0.042 qz:-0.020+/-0.751\n",
      "[671.64s] 14500. iteration\n",
      "[686.63s] 15000. iteration\n",
      "evaluating (performed on the full data batch; may take some time)...\n",
      " evaluating risk (using Bayes estimator)\n",
      " evaluating empirical risk (using Bayes estimator)\n",
      " evaluating risk (using Bayes estimator)\n",
      " evaluating empirical risk (using Bayes estimator)\n",
      "[686.7s][utility_naive][0][15000] elbo: -166724.80;   TRAINING: rmse:2.2376  risk:0.3261 empirical_risk:0.3021 \t\t\t                 gain:skipped empirical_gain:skipped;   TEST: rmse:2.4725  risk: 0.326424 empirical: 0.3165 \t\t\t                 gain:skipped empirical_gain:skipped qw:-0.008+/-0.039 qz:-0.019+/-0.759\n",
      "[702.10s] 15500. iteration\n",
      "[716.86s] 16000. iteration\n",
      "evaluating (performed on the full data batch; may take some time)...\n",
      " evaluating risk (using Bayes estimator)\n",
      " evaluating empirical risk (using Bayes estimator)\n",
      " evaluating risk (using Bayes estimator)\n",
      " evaluating empirical risk (using Bayes estimator)\n",
      "[716.9s][utility_naive][0][16000] elbo: -153212.12;   TRAINING: rmse:2.1480  risk:0.3244 empirical_risk:0.2999 \t\t\t                 gain:skipped empirical_gain:skipped;   TEST: rmse:2.3913  risk: 0.325128 empirical: 0.3160 \t\t\t                 gain:skipped empirical_gain:skipped qw:-0.008+/-0.037 qz:-0.018+/-0.769\n",
      "[733.78s] 16500. iteration\n",
      "[746.79s] 17000. iteration\n",
      "evaluating (performed on the full data batch; may take some time)...\n",
      " evaluating risk (using Bayes estimator)\n",
      " evaluating empirical risk (using Bayes estimator)\n",
      " evaluating risk (using Bayes estimator)\n",
      " evaluating empirical risk (using Bayes estimator)\n",
      "[746.8s][utility_naive][0][17000] elbo: -133669.62;   TRAINING: rmse:2.0907  risk:0.3236 empirical_risk:0.2981 \t\t\t                 gain:skipped empirical_gain:skipped;   TEST: rmse:2.3806  risk: 0.324300 empirical: 0.3163 \t\t\t                 gain:skipped empirical_gain:skipped qw:-0.007+/-0.035 qz:-0.019+/-0.780\n",
      "[763.86s] 17500. iteration\n",
      "[778.72s] 18000. iteration\n",
      "evaluating (performed on the full data batch; may take some time)...\n",
      " evaluating risk (using Bayes estimator)\n",
      " evaluating empirical risk (using Bayes estimator)\n",
      " evaluating risk (using Bayes estimator)\n",
      " evaluating empirical risk (using Bayes estimator)\n",
      "[778.7s][utility_naive][0][18000] elbo: -148662.73;   TRAINING: rmse:2.0314  risk:0.3230 empirical_risk:0.2950 \t\t\t                 gain:skipped empirical_gain:skipped;   TEST: rmse:2.3501  risk: 0.324085 empirical: 0.3161 \t\t\t                 gain:skipped empirical_gain:skipped qw:-0.007+/-0.033 qz:-0.019+/-0.791\n",
      "[795.66s] 18500. iteration\n",
      "[812.12s] 19000. iteration\n",
      "evaluating (performed on the full data batch; may take some time)...\n",
      " evaluating risk (using Bayes estimator)\n",
      " evaluating empirical risk (using Bayes estimator)\n",
      " evaluating risk (using Bayes estimator)\n",
      " evaluating empirical risk (using Bayes estimator)\n",
      "[812.2s][utility_naive][0][19000] elbo: -156994.84;   TRAINING: rmse:1.9855  risk:0.3228 empirical_risk:0.2939 \t\t\t                 gain:skipped empirical_gain:skipped;   TEST: rmse:2.3230  risk: 0.323585 empirical: 0.3176 \t\t\t                 gain:skipped empirical_gain:skipped qw:-0.007+/-0.032 qz:-0.020+/-0.803\n",
      "[832.45s] 19500. iteration\n",
      "[846.42s] 20000. iteration\n",
      "evaluating (performed on the full data batch; may take some time)...\n",
      " evaluating risk (using Bayes estimator)\n",
      " evaluating empirical risk (using Bayes estimator)\n",
      " evaluating risk (using Bayes estimator)\n",
      " evaluating empirical risk (using Bayes estimator)\n",
      "[846.4s][utility_naive][0][20000] elbo: -134933.06;   TRAINING: rmse:1.9223  risk:0.3223 empirical_risk:0.2908 \t\t\t                 gain:skipped empirical_gain:skipped;   TEST: rmse:2.2618  risk: 0.323163 empirical: 0.3151 \t\t\t                 gain:skipped empirical_gain:skipped qw:-0.007+/-0.031 qz:-0.020+/-0.815\n",
      "[863.44s] 20500. iteration\n",
      "[878.76s] 21000. iteration\n",
      "evaluating (performed on the full data batch; may take some time)...\n",
      " evaluating risk (using Bayes estimator)\n",
      " evaluating empirical risk (using Bayes estimator)\n",
      " evaluating risk (using Bayes estimator)\n",
      " evaluating empirical risk (using Bayes estimator)\n",
      "[878.8s][utility_naive][0][21000] elbo: -158059.66;   TRAINING: rmse:1.8547  risk:0.3226 empirical_risk:0.2888 \t\t\t                 gain:skipped empirical_gain:skipped;   TEST: rmse:2.2380  risk: 0.323286 empirical: 0.3157 \t\t\t                 gain:skipped empirical_gain:skipped qw:-0.007+/-0.031 qz:-0.021+/-0.827\n",
      "[895.42s] 21500. iteration\n",
      "[910.14s] 22000. iteration\n",
      "evaluating (performed on the full data batch; may take some time)...\n",
      " evaluating risk (using Bayes estimator)\n",
      " evaluating empirical risk (using Bayes estimator)\n",
      " evaluating risk (using Bayes estimator)\n",
      " evaluating empirical risk (using Bayes estimator)\n",
      "[910.2s][utility_naive][0][22000] elbo: -128944.13;   TRAINING: rmse:1.8332  risk:0.3226 empirical_risk:0.2865 \t\t\t                 gain:skipped empirical_gain:skipped;   TEST: rmse:2.2252  risk: 0.323748 empirical: 0.3152 \t\t\t                 gain:skipped empirical_gain:skipped qw:-0.007+/-0.030 qz:-0.022+/-0.840\n",
      "[926.99s] 22500. iteration\n",
      "[941.14s] 23000. iteration\n",
      "evaluating (performed on the full data batch; may take some time)...\n",
      " evaluating risk (using Bayes estimator)\n",
      " evaluating empirical risk (using Bayes estimator)\n",
      " evaluating risk (using Bayes estimator)\n",
      " evaluating empirical risk (using Bayes estimator)\n",
      "[941.2s][utility_naive][0][23000] elbo: -127253.01;   TRAINING: rmse:1.8000  risk:0.3226 empirical_risk:0.2842 \t\t\t                 gain:skipped empirical_gain:skipped;   TEST: rmse:2.2249  risk: 0.323790 empirical: 0.3154 \t\t\t                 gain:skipped empirical_gain:skipped qw:-0.007+/-0.029 qz:-0.023+/-0.853\n",
      "[958.15s] 23500. iteration\n",
      "[974.43s] 24000. iteration\n",
      "evaluating (performed on the full data batch; may take some time)...\n",
      " evaluating risk (using Bayes estimator)\n",
      " evaluating empirical risk (using Bayes estimator)\n",
      " evaluating risk (using Bayes estimator)\n",
      " evaluating empirical risk (using Bayes estimator)\n",
      "[974.5s][utility_naive][0][24000] elbo: -128724.33;   TRAINING: rmse:1.7308  risk:0.3228 empirical_risk:0.2818 \t\t\t                 gain:skipped empirical_gain:skipped;   TEST: rmse:2.1790  risk: 0.324032 empirical: 0.3154 \t\t\t                 gain:skipped empirical_gain:skipped qw:-0.007+/-0.029 qz:-0.025+/-0.866\n",
      "[991.66s] 24500. iteration\n",
      "[1006.61s] 25000. iteration\n",
      "evaluating (performed on the full data batch; may take some time)...\n",
      " evaluating risk (using Bayes estimator)\n",
      " evaluating empirical risk (using Bayes estimator)\n",
      " evaluating risk (using Bayes estimator)\n",
      " evaluating empirical risk (using Bayes estimator)\n",
      "[1006.6s][utility_naive][0][25000] elbo: -134219.11;   TRAINING: rmse:1.6990  risk:0.3229 empirical_risk:0.2799 \t\t\t                 gain:skipped empirical_gain:skipped;   TEST: rmse:2.1736  risk: 0.323826 empirical: 0.3152 \t\t\t                 gain:skipped empirical_gain:skipped qw:-0.007+/-0.028 qz:-0.026+/-0.879\n",
      "[1024.45s] 25500. iteration\n",
      "[1041.40s] 26000. iteration\n",
      "evaluating (performed on the full data batch; may take some time)...\n",
      " evaluating risk (using Bayes estimator)\n",
      " evaluating empirical risk (using Bayes estimator)\n",
      " evaluating risk (using Bayes estimator)\n",
      " evaluating empirical risk (using Bayes estimator)\n",
      "[1041.4s][utility_naive][0][26000] elbo: -134228.52;   TRAINING: rmse:1.6529  risk:0.3224 empirical_risk:0.2779 \t\t\t                 gain:skipped empirical_gain:skipped;   TEST: rmse:2.1547  risk: 0.324045 empirical: 0.3144 \t\t\t                 gain:skipped empirical_gain:skipped qw:-0.007+/-0.027 qz:-0.027+/-0.893\n",
      "[1061.14s] 26500. iteration\n",
      "[1075.54s] 27000. iteration\n",
      "evaluating (performed on the full data batch; may take some time)...\n",
      " evaluating risk (using Bayes estimator)\n",
      " evaluating empirical risk (using Bayes estimator)\n"
     ]
    },
    {
     "name": "stdout",
     "output_type": "stream",
     "text": [
      " evaluating risk (using Bayes estimator)\n",
      " evaluating empirical risk (using Bayes estimator)\n",
      "[1075.6s][utility_naive][0][27000] elbo: -134350.30;   TRAINING: rmse:1.6260  risk:0.3227 empirical_risk:0.2768 \t\t\t                 gain:skipped empirical_gain:skipped;   TEST: rmse:2.1521  risk: 0.324488 empirical: 0.3157 \t\t\t                 gain:skipped empirical_gain:skipped qw:-0.007+/-0.027 qz:-0.028+/-0.908\n",
      "[1092.75s] 27500. iteration\n",
      "[1108.21s] 28000. iteration\n",
      "evaluating (performed on the full data batch; may take some time)...\n",
      " evaluating risk (using Bayes estimator)\n",
      " evaluating empirical risk (using Bayes estimator)\n",
      " evaluating risk (using Bayes estimator)\n",
      " evaluating empirical risk (using Bayes estimator)\n",
      "[1108.2s][utility_naive][0][28000] elbo: -118391.15;   TRAINING: rmse:1.5754  risk:0.3226 empirical_risk:0.2743 \t\t\t                 gain:skipped empirical_gain:skipped;   TEST: rmse:2.1185  risk: 0.324051 empirical: 0.3162 \t\t\t                 gain:skipped empirical_gain:skipped qw:-0.007+/-0.026 qz:-0.029+/-0.922\n",
      "[1124.00s] 28500. iteration\n",
      "[1136.90s] 29000. iteration\n",
      "evaluating (performed on the full data batch; may take some time)...\n",
      " evaluating risk (using Bayes estimator)\n",
      " evaluating empirical risk (using Bayes estimator)\n",
      " evaluating risk (using Bayes estimator)\n",
      " evaluating empirical risk (using Bayes estimator)\n",
      "[1136.9s][utility_naive][0][29000] elbo: -130402.10;   TRAINING: rmse:1.5620  risk:0.3229 empirical_risk:0.2728 \t\t\t                 gain:skipped empirical_gain:skipped;   TEST: rmse:2.1258  risk: 0.324154 empirical: 0.3168 \t\t\t                 gain:skipped empirical_gain:skipped qw:-0.007+/-0.026 qz:-0.030+/-0.938\n",
      "[1154.24s] 29500. iteration\n",
      "evaluating (performed on the full data batch; may take some time)...\n",
      " evaluating risk (using Bayes estimator)\n",
      " evaluating empirical risk (using Bayes estimator)\n",
      " evaluating risk (using Bayes estimator)\n",
      " evaluating empirical risk (using Bayes estimator)\n",
      "[1168.8s][utility_naive][0][29999] elbo: -142056.39;   TRAINING: rmse:1.5308  risk:0.3227 empirical_risk:0.2715 \t\t\t                 gain:skipped empirical_gain:skipped;   TEST: rmse:2.1102  risk: 0.324450 empirical: 0.3173 \t\t\t                 gain:skipped empirical_gain:skipped qw:-0.007+/-0.025 qz:-0.031+/-0.954\n"
     ]
    }
   ],
   "source": [
    "start = time.time()\n",
    "if MINIBATCH>N: MINIBATCH=N\n",
    "    \n",
    "for i in range(NITER):\n",
    "    if i<10 or i%500==0: \n",
    "        print(\"[%.2fs] %i. iteration\" % (time.time()-start, i))\n",
    "    \n",
    "    #######################################################\n",
    "    # minibatch optimization via rows subset selection\n",
    "    \n",
    "    nbatches_per_epoch = int( np.ceil(N/MINIBATCH) )\n",
    "    batch_no = i%nbatches_per_epoch    \n",
    "    if batch_no==0: # shuffle order\n",
    "        rows_order = np.random.permutation(range(N))\n",
    "    six, eix = batch_no*MINIBATCH, (batch_no+1)*MINIBATCH\n",
    "    rows = rows_order[six: eix] # batch rows\n",
    "    \n",
    "    # makes sure that for full-batch the order of rows is preserved\n",
    "    if MINIBATCH>=N: rows = list(range(N)) \n",
    "    \n",
    "    # selecting rows\n",
    "    qz_loc0 = qz_loc[rows, :]\n",
    "    qz_scale0 = qz_scale[rows, :]\n",
    "    x0 = x[rows,:]\n",
    "    training_mask0 = training_mask[rows, :]\n",
    "    utility_term_mask0 = utility_term_mask[rows, :] \n",
    "    utility_term0 = UtilityDependentTermFactory(verbose=False, \n",
    "                            UTILITY_TERM_SCALE=UTILITY_TERM_SCALE, \n",
    "                            H_OPTIMIZER=H_OPTIMIZER, \n",
    "                            utility_term_mask=utility_term_mask0,\n",
    "                            sample_predictive_y0=sample_predictive_y0).create(UTILITY_TERM, u) \n",
    "    sgd_scale = N/len(rows)\n",
    "    \n",
    "    #######################################################\n",
    "    # optimization\n",
    "    \n",
    "    qw = Normal(qw_loc, softplus(qw_scale))\n",
    "    qz = Normal(qz_loc0, softplus(qz_scale0))\n",
    "\n",
    "    w = qw.rsample(torch.Size([NSAMPLES]))\n",
    "    z = qz.rsample(torch.Size([NSAMPLES]))\n",
    "    elbo = model_log_prob(x0, w, z, training_mask0, sgd_scale).sum() \\\n",
    "                    -qw.log_prob(w).sum() -qz.log_prob(z).sum()*sgd_scale \n",
    "    elbo = elbo/NSAMPLES\n",
    "            \n",
    "    optimizer.zero_grad()            \n",
    "    objective = -elbo -utility_term0(qw, qz)*sgd_scale\n",
    "    objective.backward(retain_graph=False)\n",
    "    optimizer.step()    \n",
    "    \n",
    "    #######################################################\n",
    "    # reporting\n",
    "    \n",
    "    if (i>0) and (i%EVAL_NITER==0 or i==NITER-1): #report results\n",
    "        print(\"evaluating (performed on the full data batch; may take some time)...\")        \n",
    "        qw = Normal(qw_loc, softplus(qw_scale))\n",
    "        qz = Normal(qz_loc, softplus(qz_scale))\n",
    "            \n",
    "        rmse = (qz.rsample(torch.Size([])).mm(qw.rsample(torch.Size([])))-x)**2\n",
    "        training_rmse = torch.masked_select(rmse, training_mask).mean()\n",
    "        testing_rmse = torch.masked_select(rmse, testing_mask).mean() \n",
    "            \n",
    "        r = (time.time()-start, utility_term0.__name__, SEED, i, \n",
    "                 elbo.item(), \n",
    "                 training_rmse.item(), \n",
    "                 bayes_risk(qw, qz, training_mask).item(), \n",
    "                 data_loss(x, qw, qz, training_mask).item(),\n",
    "                 bayes_gain(qw, qz, training_mask).item(), \n",
    "                 data_util(x, qw, qz, training_mask).item(),\n",
    "                 testing_rmse.item(),  \n",
    "                 bayes_risk(qw, qz, testing_mask).item(),  \n",
    "                 data_loss(x, qw, qz, testing_mask).item(),\n",
    "                 bayes_gain(qw, qz, testing_mask).item(),  \n",
    "                 data_util(x, qw, qz, testing_mask).item(),\n",
    "                 qw_loc.mean().item(), softplus(qw_scale).mean().item(), \n",
    "                 qz_loc.mean().item(), softplus(qz_scale).mean().item(),\n",
    "                 qw_loc.std().item(),  softplus(qw_scale).std().item(), \n",
    "                 qz_loc.std().item(),  softplus(qz_scale).std().item())        \n",
    "        report.append(r) # append to report            \n",
    "        print(\"[%.1fs][%s][%s][%s] elbo: %.2f;   TRAINING: rmse:%.4f  risk:%.4f empirical_risk:%.4f \\t\\t\\t \\\n",
    "                gain:%.4f empirical_gain:%.4f;   TEST: rmse:%.4f  risk: %4f empirical: %.4f \\t\\t\\t \\\n",
    "                gain:%.4f empirical_gain:%.4f qw:%.3f+/-%.3f qz:%.3f+/-%.3f\" % (r[:19]))                                \n",
    "        \n",
    "        assert_valid(qw.loc); \n",
    "        assert_valid(qz.loc); \n",
    "        assert_valid(qw.scale); \n",
    "        assert_valid(qz.scale);        "
   ]
  },
  {
   "cell_type": "markdown",
   "metadata": {},
   "source": [
    "# Convergence plot"
   ]
  },
  {
   "cell_type": "code",
   "execution_count": 19,
   "metadata": {},
   "outputs": [],
   "source": [
    "COLS = dict(enumerate(\"t, utility_term, SEED, iter, elbo, training_rmse, training_risk, training_loss, training_gain, training_util, test_rmse, test_risk, test_loss, test_gain, test_util\".split(\", \")))\n",
    "report_df = pd.DataFrame(report)\n",
    "report_df.rename(columns=COLS, inplace=True)"
   ]
  },
  {
   "cell_type": "code",
   "execution_count": 28,
   "metadata": {},
   "outputs": [
    {
     "data": {
      "image/png": "[encoded data removed]",
      "text/plain": [
       "<matplotlib.figure.Figure at 0x7fe3bc2dc5c0>"
      ]
     },
     "metadata": {},
     "output_type": "display_data"
    }
   ],
   "source": [
    "start_plotting()\n",
    "plt.plot(report_df.iter, (report_df.training_risk),\n",
    "         label = \"training\", lw=3, color=\"red\")\n",
    "plt.plot(report_df.iter, (report_df.training_loss),\n",
    "         label = \"training empirical\", lw=3, color=\"salmon\")\n",
    "plt.plot(report_df.iter, (report_df.test_risk),\n",
    "         label = \"test\", lw=3, color=\"blue\")\n",
    "plt.plot(report_df.iter, (report_df.test_loss),\n",
    "         label = \"test empirical\", lw=3, color=\"dodgerblue\")\n",
    "plt.xlabel(\"Iteration\");\n",
    "plt.ylabel(\"Risk\")\n",
    "#plt.xlim(0,10000)\n",
    "plt.ylim(0.22, 0.375)\n",
    "plt.legend(); plt.show();"
   ]
  },
  {
   "cell_type": "markdown",
   "metadata": {},
   "source": [
    "# Numerical optimization performance vs. time "
   ]
  },
  {
   "cell_type": "markdown",
   "metadata": {},
   "source": [
    "The results may vary regarding after how many iterations the optimization is performed"
   ]
  },
  {
   "cell_type": "code",
   "execution_count": 21,
   "metadata": {},
   "outputs": [],
   "source": [
    "# Selects a subset of 10x10 data points and samples y for them\n",
    "qw = Normal(qw_loc[:,:10], softplus(qw_scale[:,:10]))\n",
    "qz = Normal(qz_loc[:10,:], softplus(qz_scale[:10,:]))\n",
    "\n",
    "ys = sample_predictive_y0(qw, qz, 1000, 100)"
   ]
  },
  {
   "cell_type": "code",
   "execution_count": 22,
   "metadata": {},
   "outputs": [],
   "source": [
    "# Optimization goal:\n",
    "\n",
    "utility_aggregator = gain\n",
    "#utility_aggregator = UtilityAggregatorFactory().create(\"naive\")"
   ]
  },
  {
   "cell_type": "code",
   "execution_count": 23,
   "metadata": {},
   "outputs": [
    {
     "name": "stdout",
     "output_type": "stream",
     "text": [
      "[LossFactory] Configuration: TILTED_Q=0.2 LINEX_C=None\n",
      "[LossFactory] Configuration: TILTED_Q=None LINEX_C=None\n"
     ]
    }
   ],
   "source": [
    "# Losses and optimal decisions \n",
    "tilted_loss, tilted_optimal_h = LossFactory(TILTED_Q=0.2).create(\"tilted\")\n",
    "tilted_u = lambda h,y: 10000.0-tilted_loss(h,y)\n",
    "def tilted_optimizer(ys, *args, **kwargs):\n",
    "    return tilted_optimal_h(flatten_first_two_dims(ys))\n",
    "\n",
    "if utility_aggregator == gain: tilted_hopt = tilted_optimizer(ys) \n",
    "else:                          tilted_hopt = optimal_h_numerically_ty_scipy(\n",
    "                                    ys, u, utility_aggregator=utility_aggregator, \n",
    "                                    debug=False, verbose=True, optimizer=\"COBYLA\")\n",
    "\n",
    "squared_loss, squared_optimal_h = LossFactory().create(\"squared\")\n",
    "squared_u = lambda h,y: 10000.0-squared_loss(h,y)\n",
    "def squared_optimizer(ys, *args, **kwargs):\n",
    "    return squared_optimal_h(flatten_first_two_dims(ys))\n",
    "\n",
    "if utility_aggregator == gain: squared_hopt = squared_optimizer(ys) \n",
    "else:                          squared_hopt = optimal_h_numerically_ty_scipy(\n",
    "                                    ys, u, utility_aggregator=utility_aggregator, \n",
    "                                    debug=False, verbose=True, optimizer=\"COBYLA\")"
   ]
  },
  {
   "cell_type": "code",
   "execution_count": 24,
   "metadata": {},
   "outputs": [],
   "source": [
    "def h_times_errors_for_S_samples(Svals, hopt, u, \n",
    "                                 utility_aggregator, \n",
    "                                 optimizer, \n",
    "                                 optimizer_method, \n",
    "                                 num_repetitions=4):\n",
    "    \"\"\" Measures time and evaluates MSE for \n",
    "        the set Svals of different sample sizes.\"\"\"\n",
    "    times, errs = [], []\n",
    "    for S, Sy in Svals:        \n",
    "        rtimes, rerrs = [], []\n",
    "        for r in range(num_repetitions):\n",
    "            ys = sample_predictive_y0(qw, qz, S, Sy)\n",
    "            \n",
    "            start = time.time()\n",
    "            h = optimizer(ys, u, utility_aggregator=utility_aggregator, \n",
    "                          verbose=False, optimizer=optimizer_method)\n",
    "            elapsed = time.time()-start\n",
    "            err = ((h-hopt)**2).mean().item()\n",
    "            \n",
    "            rtimes.append(elapsed)\n",
    "            rerrs.append(err)\n",
    "        times.append(np.mean(rtimes))\n",
    "        errs.append(np.mean(rerrs))\n",
    "    return times, errs"
   ]
  },
  {
   "cell_type": "code",
   "execution_count": 25,
   "metadata": {},
   "outputs": [
    {
     "name": "stdout",
     "output_type": "stream",
     "text": [
      "[exec no:1][optimal_h_numerically_ty][3.69][ys=(1, 2, 10, 10) max_niter=10000 tol=0.0001 tol_goal=-1 lr=0.01 u=<lambda>->gain] Converged in 10000. iter (max number reached): obj=-999986.5625 max-err=0.00257993 mean-err=0.00081413\n",
      "[exec no:2][optimal_h_numerically_ty][3.58][ys=(1, 2, 10, 10) max_niter=10000 tol=0.0001 tol_goal=-1 lr=0.01 u=<lambda>->gain] Converged in 10000. iter (max number reached): obj=-999987.2500 max-err=0.00221419 mean-err=0.00073497\n",
      "[exec no:3][optimal_h_numerically_ty][3.59][ys=(1, 2, 10, 10) max_niter=10000 tol=0.0001 tol_goal=-1 lr=0.01 u=<lambda>->gain] Converged in 10000. iter (max number reached): obj=-999982.6875 max-err=0.00241566 mean-err=0.00082420\n",
      "[exec no:4][optimal_h_numerically_ty][3.58][ys=(1, 2, 10, 10) max_niter=10000 tol=0.0001 tol_goal=-1 lr=0.01 u=<lambda>->gain] Converged in 10000. iter (max number reached): obj=-999987.1250 max-err=0.00204563 mean-err=0.00068225\n",
      "[exec no:5][optimal_h_numerically_ty][4.04][ys=(1, 10, 10, 10) max_niter=10000 tol=0.0001 tol_goal=-1 lr=0.01 u=<lambda>->gain] Converged in 10000. iter (max number reached): obj=-999970.1875 max-err=0.00041068 mean-err=0.00000421\n",
      "[exec no:6][optimal_h_numerically_ty][0.11][ys=(1, 10, 10, 10) max_niter=10000 tol=0.0001 tol_goal=-1 lr=0.01 u=<lambda>->gain] Converged in 256. iter (tolerance reached): obj=-999968.8750 max-err=0.00009656 mean-err=0.00000138\n",
      "[exec no:7][optimal_h_numerically_ty][0.11][ys=(1, 10, 10, 10) max_niter=10000 tol=0.0001 tol_goal=-1 lr=0.01 u=<lambda>->gain] Converged in 257. iter (tolerance reached): obj=-999967.7500 max-err=0.00008059 mean-err=0.00000169\n",
      "[exec no:8][optimal_h_numerically_ty][0.11][ys=(1, 10, 10, 10) max_niter=10000 tol=0.0001 tol_goal=-1 lr=0.01 u=<lambda>->gain] Converged in 256. iter (tolerance reached): obj=-999967.8750 max-err=0.00009489 mean-err=0.00000397\n",
      "[exec no:9][optimal_h_numerically_ty][0.16][ys=(1, 20, 10, 10) max_niter=10000 tol=0.0001 tol_goal=-1 lr=0.01 u=<lambda>->gain] Converged in 336. iter (tolerance reached): obj=-999966.7500 max-err=0.00005198 mean-err=0.00000111\n",
      "[exec no:10][optimal_h_numerically_ty][0.20][ys=(1, 20, 10, 10) max_niter=10000 tol=0.0001 tol_goal=-1 lr=0.01 u=<lambda>->gain] Converged in 446. iter (tolerance reached): obj=-999967.1250 max-err=0.00009698 mean-err=0.00000097\n"
     ]
    }
   ],
   "source": [
    "Svals = [(2,1),(10,1),(20,1),(30,1),(60,1),(100,1),(500,1),(1000,1),(5000,1)]\n",
    "\n",
    "u, hopt, analaytical_optimizer = tilted_u, tilted_hopt, tilted_optimizer\n",
    "times_A, errs_A = h_times_errors_for_S_samples(Svals, hopt, u, utility_aggregator, \n",
    "                                               optimal_h_numerically_ty, \n",
    "                                               torch.optim.Adam)\n",
    "\n",
    "u, hopt, analaytical_optimizer = squared_u, squared_hopt, squared_optimizer\n",
    "times_A_sq, errs_A_sq = h_times_errors_for_S_samples(Svals, hopt, u, utility_aggregator, \n",
    "                                               optimal_h_numerically_ty, \n",
    "                                               torch.optim.Adam)"
   ]
  },
  {
   "cell_type": "code",
   "execution_count": 26,
   "metadata": {},
   "outputs": [
    {
     "data": {
      "image/png": "[encoded data removed]",
      "text/plain": [
       "<matplotlib.figure.Figure at 0x7fe3c081f780>"
      ]
     },
     "metadata": {},
     "output_type": "display_data"
    }
   ],
   "source": [
    "start_plotting(cmbright=False)\n",
    "formatter = lambda l: str(l[0])\n",
    "COL1= \"limegreen\"\n",
    "COL2= \"salmon\"\n",
    "COL3= \"dodgerblue\"\n",
    "\n",
    "   \n",
    "plt.plot(errs_A, times_A, label=r\"tilted ($q=0.2$)\", color=COL2, lw=2)\n",
    "for i,j,l in zip(errs_A,times_A,Svals):\n",
    "    plt.annotate(formatter(l), xy=(i, j*1.2), color=COL2)\n",
    "    \n",
    "    \n",
    "plt.plot(errs_A_sq, times_A_sq, label=\"squared\", color=COL1, lw=2)\n",
    "for i,j,l in zip(errs_A_sq,times_A_sq,Svals):\n",
    "    plt.annotate(formatter(l), xy=(i, j*1.2), color=COL1)    \n",
    "    \n",
    "plt.xlabel(\"MSE\"); plt.ylabel(\"Time [s]\"); plt.legend(); \n",
    "plt.yscale(\"log\"); plt.xlim(0,0.6); plt.ylim(0,100)\n",
    "plt.show()"
   ]
  }
 ],
 "metadata": {
  "colab": {
   "name": "PPCA-likelhood-lc",
   "provenance": [],
   "version": "0.3.2"
  },
  "kernelspec": {
   "display_name": "Python 3",
   "language": "python",
   "name": "python3"
  },
  "language_info": {
   "codemirror_mode": {
    "name": "ipython",
    "version": 3
   },
   "file_extension": ".py",
   "mimetype": "text/x-python",
   "name": "python",
   "nbconvert_exporter": "python",
   "pygments_lexer": "ipython3",
   "version": "3.6.4"
  }
 },
 "nbformat": 4,
 "nbformat_minor": 1
}
