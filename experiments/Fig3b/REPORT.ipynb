{
 "cells": [
  {
   "cell_type": "markdown",
   "metadata": {},
   "source": [
    "# Imports and auxiliary functions for plotting"
   ]
  },
  {
   "cell_type": "code",
   "execution_count": 1,
   "metadata": {},
   "outputs": [],
   "source": [
    "import pandas as pd\n",
    "import pandas as pd\n",
    "import numpy as np\n",
    "import io\n",
    "import re"
   ]
  },
  {
   "cell_type": "code",
   "execution_count": 2,
   "metadata": {},
   "outputs": [],
   "source": [
    "import matplotlib as mpl\n",
    "import matplotlib.pyplot as plt\n",
    "import matplotlib.cm as cm\n",
    "import matplotlib.patches as mpatches\n",
    "import seaborn as sns; sns.set(); sns.set(font_scale=1.0); sns.set_style(\"white\"); \n",
    "\n",
    "import matplotlib as mpl\n",
    "from matplotlib import pyplot as plt\n",
    "#%matplotlib inline\n",
    "\n",
    "def _reset_mpl_config(font_size = 17*1.5, cmbright=True):\n",
    "    mpl.rcParams.update(mpl.rcParamsDefault) #reset to defaults\n",
    "        \n",
    "    SMALL_SIZE = font_size-4\n",
    "    MEDIUM_SIZE = font_size\n",
    "    BIGGER_SIZE = font_size\n",
    "    \n",
    "    plt.rc('font', size=SMALL_SIZE)          # controls default text sizes\n",
    "    plt.rc('axes', titlesize=SMALL_SIZE)     # fontsize of the axes title\n",
    "    plt.rc('axes', labelsize=MEDIUM_SIZE)    # fontsize of the x and y labels\n",
    "    plt.rc('xtick', labelsize=SMALL_SIZE)    # fontsize of the tick labels\n",
    "    plt.rc('ytick', labelsize=SMALL_SIZE)    # fontsize of the tick labels\n",
    "    plt.rc('legend', fontsize=SMALL_SIZE)    # legend fontsize\n",
    "    plt.rc('figure', titlesize=BIGGER_SIZE)  # fontsize of the figure title\n",
    "\n",
    "    plt.rc('font',**{'family':'serif','serif':['Times'], \"weight\": \"normal\"})\n",
    "    plt.rc('text', usetex=True)\n",
    "    plt.rc('mathtext', fontset='stix')  #['dejavusans', 'dejavuserif', 'cm', 'stix', 'stixsans', 'custom']\n",
    "    \n",
    "    mpl.rcParams['text.latex.preamble'] = [\n",
    "            r'\\usepackage{mathtools}',\n",
    "            r'\\usepackage{amsmath}',\n",
    "            r'\\usepackage{amsfonts}', \n",
    "            r'\\usepackage{microtype}',    \n",
    "            r'\\usepackage{arydshln}',              \n",
    "    ] + ([r'\\usepackage{cmbright}'] if cmbright else [])\n",
    "\n",
    "def _create_fig(bottom=0.2, left=0.125, right=0.9, top=0.9):\n",
    "    fig = plt.figure(figsize=(6.4, 4.8), dpi=72)\n",
    "    fig.subplots_adjust(bottom=bottom, left=left, right=right, top=top) \n",
    "    \n",
    "    \n",
    "def start_plotting(cmbright=True, font_size=17*1.5, bottom=0.2, left=0.125, right=0.95, top=0.95):\n",
    "    _reset_mpl_config(cmbright=cmbright, font_size=font_size)\n",
    "    _create_fig(bottom=bottom, left=left, right=right, top=top)"
   ]
  },
  {
   "cell_type": "code",
   "execution_count": 3,
   "metadata": {},
   "outputs": [],
   "source": [
    "import warnings\n",
    "warnings.filterwarnings(\"ignore\")"
   ]
  },
  {
   "cell_type": "code",
   "execution_count": 4,
   "metadata": {},
   "outputs": [],
   "source": [
    "from matplotlib import pyplot as plt \n",
    "import numpy as np\n",
    "\n",
    "def running_mean(x, N=3):\n",
    "    x = list(x)\n",
    "    l = N//2    \n",
    "    return [np.mean(x[max(i-l,0): min(i+l+1, len(x))]) for i in range(len(x))]\n",
    "\n",
    "\n",
    "def errorfill(x, y, yerr, color=None, alpha_fill=0.2, ax=None, label=\"\", lw=2, ls=\"-\"):\n",
    "    ax = ax if ax is not None else plt.gca()\n",
    "    if color is None:\n",
    "        color = ax._get_lines.color_cycle.next()\n",
    "    if np.isscalar(yerr) or len(yerr) == len(y):\n",
    "        ymin = y - yerr\n",
    "        ymax = y + yerr\n",
    "    elif len(yerr) == 2:\n",
    "        ymin, ymax = yerr\n",
    "    ax.plot(x, (y), color=color, label=label, lw=lw, ls=ls)\n",
    "    ax.fill_between(x, (ymax), (ymin), color=color, alpha=alpha_fill, linewidth=0.0)\n",
    "    \n",
    "    \n",
    "def extract_mean_std(df, x, y):\n",
    "    df = df.sort_values(x)\n",
    "    return df.groupby(x).mean().index, df.groupby(x).mean()[y], df.groupby(x).std()[y]    "
   ]
  },
  {
   "cell_type": "markdown",
   "metadata": {},
   "source": [
    "# Results loading and processing"
   ]
  },
  {
   "cell_type": "code",
   "execution_count": 5,
   "metadata": {},
   "outputs": [],
   "source": [
    "numbers = lambda txt: re.findall(\"[-+]?[.]?[\\d]+(?:,\\d\\d\\d)*[\\.]?\\d*(?:[eE][-+]?\\d+)?\", txt)"
   ]
  },
  {
   "cell_type": "code",
   "execution_count": 6,
   "metadata": {},
   "outputs": [],
   "source": [
    "percentiles=[1, 5, 10, 20, 30, 40, 50, 60, 70, 80, 90, 95, 99, 100]\n",
    "thresholds = [0.00020279866177588704, 0.005154003156349063, 0.020680025964975358, 0.08407854586839676, 0.19446502178907393, 0.3603306770324707, 0.5962298512458801, 0.9290560483932495, 1.407720947265625, 2.1527503013610843, 3.553819584846495, 5.055588769912719, 8.760040102004988, 16]"
   ]
  },
  {
   "cell_type": "code",
   "execution_count": 7,
   "metadata": {},
   "outputs": [],
   "source": [
    "REPORT_ITER = 30000\n",
    "COLS = dict(enumerate(\"FILE, t, logu, SEED, iter, epoch, elbo, training_rmse, training_qrisk, training_erisk, training_qgain, training_egain, test_rmse, test_qrisk, test_erisk, test_qgain, test_egain\".split(\", \")))"
   ]
  },
  {
   "cell_type": "code",
   "execution_count": 8,
   "metadata": {},
   "outputs": [],
   "source": [
    "results_str = \"\\n\".join(l.replace(\":\", \",\") for l in open(\"RESULTS/RESULTS.csv\").readlines() if \"SEED\" not in l) \n",
    "df = pd.read_csv( io.StringIO(results_str), header=None).rename(columns=COLS)\n",
    "df = df[df.iter==REPORT_ITER]\n",
    "df[\"method\"] = df.FILE.apply(lambda v: v.split(\"_\")[1])"
   ]
  },
  {
   "cell_type": "code",
   "execution_count": 9,
   "metadata": {},
   "outputs": [],
   "source": [
    "results_str = \"\\n\".join(l.replace(\":\", \",\") for l in open(\"RESULTS_VI/RESULTS.csv\").readlines() if \"SEED\" not in l) \n",
    "df_vi = pd.read_csv( io.StringIO(results_str), header=None).rename(columns=COLS)\n",
    "df_vi = df_vi[df_vi.iter==REPORT_ITER]"
   ]
  },
  {
   "cell_type": "code",
   "execution_count": 10,
   "metadata": {},
   "outputs": [],
   "source": [
    "df_exp = df[df.method==\"EXP\"]\n",
    "df_lin = df[df.method==\"LIN\"]"
   ]
  },
  {
   "cell_type": "code",
   "execution_count": 11,
   "metadata": {},
   "outputs": [],
   "source": [
    "# TRANSFORM ERISKS TO REDUCTIONS\n",
    "COL = \"test_erisk\"\n",
    "seed2vivalue = dict(zip(df_vi[\"SEED\"], df_vi[COL]))\n",
    "df_exp[COL] = [100*(seed2vivalue[seed]-lcvivalue)/seed2vivalue[seed] for seed, lcvivalue in zip(df_exp[\"SEED\"],df_exp[COL])]\n",
    "df_lin[COL] = [100*(seed2vivalue[seed]-lcvivalue)/seed2vivalue[seed] for seed, lcvivalue in zip(df_exp[\"SEED\"],df_lin[COL])]    "
   ]
  },
  {
   "cell_type": "code",
   "execution_count": 12,
   "metadata": {},
   "outputs": [],
   "source": [
    "df_lin[\"USCALE\"] = df_lin.FILE.apply(lambda v: float(v.split(\"_\")[2].strip(\"linearized\")))\n",
    "df_lin[\"M\"] = 1/df_lin[\"USCALE\"]"
   ]
  },
  {
   "cell_type": "code",
   "execution_count": 13,
   "metadata": {},
   "outputs": [],
   "source": [
    "df_exp[\"GAMMA\"] = df_exp.FILE.apply(lambda v: float(v.split(\"_\")[-1].strip(\"exp\").strip(\".csv\")))\n",
    "df_exp[\"M\"] =  -np.log(0.001)/df_exp[\"GAMMA\"]"
   ]
  },
  {
   "cell_type": "code",
   "execution_count": 14,
   "metadata": {},
   "outputs": [],
   "source": [
    "df_exp2 = df_exp.copy()\n",
    "df_exp2[\"M\"] =  -np.log(1.0/np.exp(1))/df_exp2[\"GAMMA\"]"
   ]
  },
  {
   "cell_type": "markdown",
   "metadata": {},
   "source": [
    "# Plots"
   ]
  },
  {
   "cell_type": "code",
   "execution_count": 15,
   "metadata": {},
   "outputs": [],
   "source": [
    "percentiles=[1, 5, 10, 20, 30, 40, 50, 60, 70, 80, 90, 95, 99, 100]\n",
    "thresholds = ([0.00020279866177588704, 0.005154003156349063, 0.020680025964975358, 0.08407854586839676, 0.19446502178907393, 0.3603306770324707, 0.5962298512458801, 0.9290560483932495, 1.407720947265625, 2.1527503013610843, 3.553819584846495, 5.055588769912719, 8.760040102004988, 16])\n",
    "p2M = dict(zip(percentiles,thresholds))"
   ]
  },
  {
   "cell_type": "code",
   "execution_count": 16,
   "metadata": {},
   "outputs": [],
   "source": [
    "selected_percentiles = [1, 5, 10, 30, 50, 70, 90, 99]\n",
    "selected_Ms = [p2M[p] for p in selected_percentiles]"
   ]
  },
  {
   "cell_type": "code",
   "execution_count": 17,
   "metadata": {},
   "outputs": [
    {
     "data": {
      "image/png": "[encoded data removed]",
      "text/plain": [
       "<Figure size 460.8x345.6 with 1 Axes>"
      ]
     },
     "metadata": {},
     "output_type": "display_data"
    }
   ],
   "source": [
    "start_plotting(cmbright=False, left=0.15)\n",
    "\n",
    "x,y,yerr = extract_mean_std(df_lin, \"M\", COL)\n",
    "errorfill(x, y, yerr, label=\"lin (Eq.2)\", color=\"dodgerblue\", ls=\"-\")\n",
    "\n",
    "x,y,yerr = extract_mean_std(df_exp2, \"M\", COL)\n",
    "errorfill(x, y, yerr, label=\"exp (Eq.3)\", color=\"salmon\", ls=\"-.\")\n",
    "\n",
    "\n",
    "plt.xscale(\"log\")\n",
    "plt.legend(fontsize=20)\n",
    "plt.xlabel(\"M\")\n",
    "plt.ylabel(\"Empirical Risk\")\n",
    "plt.xlim(0.1,500)\n",
    "plt.ylim(-8,8) \n",
    "\n",
    "xmin,xmax = plt.xlim()\n",
    "ymin,ymax = plt.ylim()\n",
    "ymax = ymax*1.02\n",
    "for p, M in zip(selected_percentiles, selected_Ms):\n",
    "    if M<xmin or M>xmax: continue\n",
    "    plt.axvline(M, color=\"k\", ls=\"--\", lw=1)\n",
    "    plt.text(M, ymax, \"%s\" % p, ha=\"center\", fontsize=18)\n",
    "plt.text(xmax, ymax, \"percentiles\", ha=\"right\", va=\"bottom\", fontsize=18)\n",
    "\n",
    "plt.axhline(0, color=\"lightgray\", ls=\"--\", lw=1)\n",
    "plt.ylabel(\"Empirical Risk Reduction ($\\mathcal{I}$) [\\%]\", fontsize=21)\n",
    "plt.savefig(\"mf_lin_M_exp_gamma.pdf\")\n",
    "plt.show()"
   ]
  },
  {
   "cell_type": "code",
   "execution_count": null,
   "metadata": {},
   "outputs": [],
   "source": []
  }
 ],
 "metadata": {
  "kernelspec": {
   "display_name": "Python 3",
   "language": "python",
   "name": "python3"
  },
  "language_info": {
   "codemirror_mode": {
    "name": "ipython",
    "version": 3
   },
   "file_extension": ".py",
   "mimetype": "text/x-python",
   "name": "python",
   "nbconvert_exporter": "python",
   "pygments_lexer": "ipython3",
   "version": "3.6.8"
  }
 },
 "nbformat": 4,
 "nbformat_minor": 2
}
